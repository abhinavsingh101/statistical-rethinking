{
 "cells": [
  {
   "cell_type": "code",
   "execution_count": 1,
   "metadata": {},
   "outputs": [],
   "source": [
    "%matplotlib inline\n",
    "\n",
    "import gc\n",
    "import pandas as pd\n",
    "import pymc3 as pm\n",
    "import matplotlib.pyplot as plt\n",
    "from scipy import stats\n",
    "import scipy as sp\n",
    "import numpy as np\n",
    "\n",
    "plt.style.use('seaborn-whitegrid')"
   ]
  },
  {
   "cell_type": "code",
   "execution_count": 2,
   "metadata": {},
   "outputs": [],
   "source": [
    "def summarize(alpha=0.05):\n",
    "\n",
    "    def _summarize(ser):\n",
    "        hpd_ = pm.hpd(ser, alpha=alpha)\n",
    "        return pd.Series({\n",
    "            'mean_': ser.mean(),\n",
    "            'lower': hpd_[0],\n",
    "            'upper': hpd_[1],\n",
    "        })\n",
    "\n",
    "    return _summarize\n",
    "\n",
    "\n",
    "def agg_prediction(trace_var, source_data, group_columns, aggregate_fc):\n",
    "    df = pd.DataFrame(trace_var).stack().reset_index().drop('level_0', axis=1)\n",
    "    merged = pd.merge(\n",
    "        df, source_data[group_columns],\n",
    "        left_on='level_1', right_index=True\n",
    "    )\n",
    "\n",
    "    return (\n",
    "        merged.groupby(group_columns)[0].apply(aggregate_fc)\n",
    "        .unstack().sort_index().reset_index()\n",
    "    )\n"
   ]
  },
  {
   "cell_type": "markdown",
   "metadata": {},
   "source": [
    "**H2** Return to the `Trolley` data. Define and fit a varying intercepts model for these data. Cluster intercepts on individual participants, as indicated by the unique values in the `id` variable. Include action, intention, and contact as ordinary terms. Compare the varying intercepts model and a model that ignores individuals, using both WAIC and posterior predictions. What is the impact of individual variation in these data?"
   ]
  },
  {
   "cell_type": "code",
   "execution_count": 3,
   "metadata": {},
   "outputs": [
    {
     "data": {
      "text/html": [
       "<div>\n",
       "<style scoped>\n",
       "    .dataframe tbody tr th:only-of-type {\n",
       "        vertical-align: middle;\n",
       "    }\n",
       "\n",
       "    .dataframe tbody tr th {\n",
       "        vertical-align: top;\n",
       "    }\n",
       "\n",
       "    .dataframe thead th {\n",
       "        text-align: right;\n",
       "    }\n",
       "</style>\n",
       "<table border=\"1\" class=\"dataframe\">\n",
       "  <thead>\n",
       "    <tr style=\"text-align: right;\">\n",
       "      <th></th>\n",
       "      <th>case</th>\n",
       "      <th>response</th>\n",
       "      <th>order</th>\n",
       "      <th>id</th>\n",
       "      <th>age</th>\n",
       "      <th>male</th>\n",
       "      <th>edu</th>\n",
       "      <th>action</th>\n",
       "      <th>intention</th>\n",
       "      <th>contact</th>\n",
       "      <th>story</th>\n",
       "      <th>action2</th>\n",
       "      <th>person_i</th>\n",
       "    </tr>\n",
       "  </thead>\n",
       "  <tbody>\n",
       "    <tr>\n",
       "      <th>934</th>\n",
       "      <td>cibur</td>\n",
       "      <td>4</td>\n",
       "      <td>29</td>\n",
       "      <td>96;586</td>\n",
       "      <td>57</td>\n",
       "      <td>0</td>\n",
       "      <td>High School Graduate</td>\n",
       "      <td>0</td>\n",
       "      <td>1</td>\n",
       "      <td>1</td>\n",
       "      <td>bur</td>\n",
       "      <td>1</td>\n",
       "      <td>31</td>\n",
       "    </tr>\n",
       "    <tr>\n",
       "      <th>4547</th>\n",
       "      <td>flswi</td>\n",
       "      <td>6</td>\n",
       "      <td>6</td>\n",
       "      <td>97;336</td>\n",
       "      <td>40</td>\n",
       "      <td>1</td>\n",
       "      <td>Master's Degree</td>\n",
       "      <td>0</td>\n",
       "      <td>0</td>\n",
       "      <td>0</td>\n",
       "      <td>swi</td>\n",
       "      <td>0</td>\n",
       "      <td>151</td>\n",
       "    </tr>\n",
       "    <tr>\n",
       "      <th>4650</th>\n",
       "      <td>cfaqu</td>\n",
       "      <td>3</td>\n",
       "      <td>20</td>\n",
       "      <td>97;356</td>\n",
       "      <td>48</td>\n",
       "      <td>1</td>\n",
       "      <td>Master's Degree</td>\n",
       "      <td>0</td>\n",
       "      <td>0</td>\n",
       "      <td>1</td>\n",
       "      <td>aqu</td>\n",
       "      <td>1</td>\n",
       "      <td>155</td>\n",
       "    </tr>\n",
       "    <tr>\n",
       "      <th>4874</th>\n",
       "      <td>flcar</td>\n",
       "      <td>2</td>\n",
       "      <td>18</td>\n",
       "      <td>97;408</td>\n",
       "      <td>46</td>\n",
       "      <td>0</td>\n",
       "      <td>Graduate Degree</td>\n",
       "      <td>0</td>\n",
       "      <td>0</td>\n",
       "      <td>0</td>\n",
       "      <td>car</td>\n",
       "      <td>0</td>\n",
       "      <td>162</td>\n",
       "    </tr>\n",
       "    <tr>\n",
       "      <th>1052</th>\n",
       "      <td>cfrub</td>\n",
       "      <td>5</td>\n",
       "      <td>7</td>\n",
       "      <td>96;603</td>\n",
       "      <td>23</td>\n",
       "      <td>1</td>\n",
       "      <td>Bachelor's Degree</td>\n",
       "      <td>0</td>\n",
       "      <td>0</td>\n",
       "      <td>1</td>\n",
       "      <td>rub</td>\n",
       "      <td>1</td>\n",
       "      <td>35</td>\n",
       "    </tr>\n",
       "  </tbody>\n",
       "</table>\n",
       "</div>"
      ],
      "text/plain": [
       "       case  response  order      id  age  male                   edu  action  \\\n",
       "934   cibur         4     29  96;586   57     0  High School Graduate       0   \n",
       "4547  flswi         6      6  97;336   40     1       Master's Degree       0   \n",
       "4650  cfaqu         3     20  97;356   48     1       Master's Degree       0   \n",
       "4874  flcar         2     18  97;408   46     0       Graduate Degree       0   \n",
       "1052  cfrub         5      7  96;603   23     1     Bachelor's Degree       0   \n",
       "\n",
       "      intention  contact story  action2  person_i  \n",
       "934           1        1   bur        1        31  \n",
       "4547          0        0   swi        0       151  \n",
       "4650          0        1   aqu        1       155  \n",
       "4874          0        0   car        0       162  \n",
       "1052          0        1   rub        1        35  "
      ]
     },
     "execution_count": 3,
     "metadata": {},
     "output_type": "execute_result"
    }
   ],
   "source": [
    "data = pd.read_csv('../data/Trolley.csv', sep=';')\n",
    "indiv = (data['id'].drop_duplicates().reset_index(drop=True).reset_index()\n",
    "         .set_index('id')['index'].rename('person_i').to_frame())\n",
    "data = pd.merge(data, indiv, left_on='id', right_index=True)\n",
    "\n",
    "data.sample(5)"
   ]
  },
  {
   "cell_type": "code",
   "execution_count": 60,
   "metadata": {},
   "outputs": [
    {
     "name": "stderr",
     "output_type": "stream",
     "text": [
      "/home/petrushev/etc/jup_env/lib/python3.7/site-packages/theano/tensor/subtensor.py:2197: FutureWarning: Using a non-tuple sequence for multidimensional indexing is deprecated; use `arr[tuple(seq)]` instead of `arr[seq]`. In the future this will be interpreted as an array index, `arr[np.array(seq)]`, which will result either in an error or a different result.\n",
      "  rval = inputs[0].__getitem__(inputs[1:])\n",
      "Auto-assigning NUTS sampler...\n",
      "Initializing NUTS using jitter+adapt_diag...\n",
      "Multiprocess sampling (2 chains in 2 jobs)\n",
      "NUTS: [beta, cutpoints]\n",
      "Sampling 2 chains: 100%|██████████| 8000/8000 [05:08<00:00, 19.54draws/s]\n"
     ]
    }
   ],
   "source": [
    "with pm.Model() as m_no_intercept:\n",
    "    num_persons = data.person_i.nunique()\n",
    "    \n",
    "    cutpoints = pm.Normal(\n",
    "        'cutpoints', mu=0, sd=1.5,\n",
    "        transform=pm.distributions.transforms.ordered,\n",
    "        shape=6, testval=np.linspace(-3, 3, 6))\n",
    "\n",
    "    beta = pm.Normal('beta', mu=0, sd=0.5, shape=3)\n",
    "\n",
    "    phi = (\n",
    "        beta[0] * data.action.values\n",
    "        + beta[1] * data.intention.values\n",
    "        + beta[2] * data.contact.values\n",
    "    )\n",
    "\n",
    "    responses = pm.OrderedLogistic(\n",
    "        'responses', phi, cutpoints,\n",
    "        observed=data.response - 1\n",
    "    )\n",
    "\n",
    "    m_no_intercept.name = 'no intercept'\n",
    "    m_no_intercept.trace = pm.sample(\n",
    "        3000, tune=1000, chains=2,\n",
    "    )\n"
   ]
  },
  {
   "cell_type": "code",
   "execution_count": 61,
   "metadata": {},
   "outputs": [
    {
     "data": {
      "image/png": "[encoded data removed]",
      "text/plain": [
       "<Figure size 432x288 with 1 Axes>"
      ]
     },
     "metadata": {
      "needs_background": "light"
     },
     "output_type": "display_data"
    }
   ],
   "source": [
    "pm.forestplot(m_no_intercept.trace, varnames=['cutpoints', 'beta'], rhat=False)\n",
    "None"
   ]
  },
  {
   "cell_type": "code",
   "execution_count": 62,
   "metadata": {},
   "outputs": [],
   "source": [
    "del prev_cutpoints"
   ]
  },
  {
   "cell_type": "code",
   "execution_count": 63,
   "metadata": {},
   "outputs": [
    {
     "name": "stderr",
     "output_type": "stream",
     "text": [
      "Auto-assigning NUTS sampler...\n",
      "Initializing NUTS using jitter+adapt_diag...\n",
      "Multiprocess sampling (2 chains in 2 jobs)\n",
      "NUTS: [alpha, beta, cutpoints]\n",
      "Sampling 2 chains: 100%|██████████| 8000/8000 [14:58<00:00,  8.90draws/s] \n",
      "The estimated number of effective samples is smaller than 200 for some parameters.\n"
     ]
    }
   ],
   "source": [
    "with pm.Model() as m_no_pooling:\n",
    "    num_persons = data.person_i.nunique()\n",
    "\n",
    "    cutpoints = pm.Normal(\n",
    "        'cutpoints',\n",
    "        mu=0,\n",
    "        sd=1.5,\n",
    "        transform=pm.distributions.transforms.ordered,\n",
    "        testval=np.linspace(-3, 3, 6),\n",
    "        shape=6\n",
    "    )\n",
    "\n",
    "    beta = pm.Normal('beta', mu=0, sd=0.5, shape=3)\n",
    "    alpha = pm.Normal('alpha', mu=0, sd=2,\n",
    "                      shape=num_persons)\n",
    "\n",
    "    phi = (\n",
    "        alpha[data.person_i.values]\n",
    "        + beta[0] * data.action.values\n",
    "        + beta[1] * data.intention.values\n",
    "        + beta[2] * data.contact.values\n",
    "    )\n",
    "\n",
    "    responses = pm.OrderedLogistic(\n",
    "        'responses', phi, cutpoints,\n",
    "        observed=data.response - 1\n",
    "    )    \n",
    "\n",
    "    m_no_pooling.name = 'no pooling'\n",
    "    m_no_pooling.trace = pm.sample(\n",
    "        3000, tune=1000, chains=2,\n",
    "    )"
   ]
  },
  {
   "cell_type": "code",
   "execution_count": 64,
   "metadata": {},
   "outputs": [
    {
     "data": {
      "image/png": "[encoded data removed]",
      "text/plain": [
       "<Figure size 432x288 with 2 Axes>"
      ]
     },
     "metadata": {
      "needs_background": "light"
     },
     "output_type": "display_data"
    }
   ],
   "source": [
    "pm.forestplot(m_no_pooling.trace, varnames=['cutpoints', 'beta'],)\n",
    "None"
   ]
  },
  {
   "cell_type": "code",
   "execution_count": 65,
   "metadata": {},
   "outputs": [
    {
     "data": {
      "image/png": "[encoded data removed]",
      "text/plain": [
       "<Figure size 640x400 with 1 Axes>"
      ]
     },
     "metadata": {
      "needs_background": "light"
     },
     "output_type": "display_data"
    }
   ],
   "source": [
    "tmp = pd.Series(m_no_pooling.trace['alpha'].mean(axis=0))\n",
    "\n",
    "fig = plt.figure(figsize=(8, 5), dpi=80)\n",
    "plt.scatter(tmp.index, tmp, marker='.')\n",
    "plt.gca().set(xlabel='person')\n",
    "None"
   ]
  },
  {
   "cell_type": "code",
   "execution_count": 53,
   "metadata": {},
   "outputs": [
    {
     "name": "stderr",
     "output_type": "stream",
     "text": [
      "Auto-assigning NUTS sampler...\n",
      "Initializing NUTS using jitter+adapt_diag...\n",
      "/home/petrushev/etc/jup_env/lib/python3.7/site-packages/theano/tensor/subtensor.py:2197: FutureWarning: Using a non-tuple sequence for multidimensional indexing is deprecated; use `arr[tuple(seq)]` instead of `arr[seq]`. In the future this will be interpreted as an array index, `arr[np.array(seq)]`, which will result either in an error or a different result.\n",
      "  rval = inputs[0].__getitem__(inputs[1:])\n",
      "Multiprocess sampling (2 chains in 2 jobs)\n",
      "NUTS: [alpha, beta, alpha_sd_bar, cutpoints]\n",
      "Sampling 2 chains: 100%|██████████| 8000/8000 [09:27<00:00, 11.04draws/s] \n",
      "The acceptance probability does not match the target. It is 0.6961192167464709, but should be close to 0.8. Try to increase the number of tuning steps.\n",
      "The number of effective samples is smaller than 10% for some parameters.\n"
     ]
    }
   ],
   "source": [
    "with pm.Model() as m_hier:\n",
    "    num_persons = data.person_i.nunique()\n",
    "    \n",
    "    cutpoints = pm.Normal(\n",
    "        'cutpoints',\n",
    "        mu=0,\n",
    "        sd=1.5,\n",
    "        transform=pm.distributions.transforms.ordered,\n",
    "        testval=np.linspace(-3, 3, 6),\n",
    "        shape=6\n",
    "    )\n",
    "\n",
    "    alpha_sd_bar = pm.Exponential('alpha_sd_bar', lam=1)\n",
    "    beta = pm.Normal('beta', mu=0, sd=0.5, shape=3)\n",
    "\n",
    "    alpha = pm.Normal('alpha', mu=0, sd=alpha_sd_bar,\n",
    "                      shape=num_persons)\n",
    "\n",
    "    phi = (\n",
    "        alpha[data.person_i.values]\n",
    "        + beta[0] * data.action.values\n",
    "        + beta[1] * data.intention.values\n",
    "        + beta[2] * data.contact.values\n",
    "    )\n",
    "\n",
    "    responses = pm.OrderedLogistic(\n",
    "        'responses', phi, cutpoints,\n",
    "        observed=data.response - 1\n",
    "    )    \n",
    "\n",
    "    m_hier.name = 'hierarchical'\n",
    "    m_hier.trace = pm.sample(\n",
    "        3000, tune=1000, chains=2,\n",
    "    )"
   ]
  },
  {
   "cell_type": "code",
   "execution_count": 54,
   "metadata": {},
   "outputs": [
    {
     "data": {
      "image/png": "[encoded data removed]",
      "text/plain": [
       "<Figure size 432x288 with 2 Axes>"
      ]
     },
     "metadata": {
      "needs_background": "light"
     },
     "output_type": "display_data"
    }
   ],
   "source": [
    "pm.forestplot(m_hier.trace, varnames=['cutpoints', 'beta', 'alpha_sd_bar'])\n",
    "None"
   ]
  },
  {
   "cell_type": "code",
   "execution_count": 76,
   "metadata": {},
   "outputs": [
    {
     "data": {
      "image/png": "[encoded data removed]",
      "text/plain": [
       "<Figure size 1190x340 with 1 Axes>"
      ]
     },
     "metadata": {
      "needs_background": "light"
     },
     "output_type": "display_data"
    }
   ],
   "source": [
    "tmp1 = pd.Series(m_no_pooling.trace['alpha'].mean(axis=0))\n",
    "tmp2 = pd.Series(m_hier.trace['alpha'].mean(axis=0))\n",
    "\n",
    "fig, (ax1) = plt.subplots(1, 1, figsize=(14, 4), dpi=85)\n",
    "\n",
    "ax1.scatter(tmp1, tmp1.index,\n",
    "            marker='.', label='no pooling', c='b', alpha=.3)\n",
    "ax1.scatter(tmp2, tmp2.index,\n",
    "            marker='.', label='hierarchical', c='r', alpha=.3)\n",
    "ax1.set(ylabel='person', yticks=[])\n",
    "ax1.legend()\n",
    "\n",
    "fig.tight_layout()\n",
    "None"
   ]
  },
  {
   "cell_type": "code",
   "execution_count": 77,
   "metadata": {},
   "outputs": [
    {
     "name": "stderr",
     "output_type": "stream",
     "text": [
      "/home/petrushev/etc/jup_env/lib/python3.7/site-packages/pymc3/stats.py:167: FutureWarning: arrays to stack must be passed as a \"sequence\" type such as list or tuple. Support for non-sequence iterables such as generators is deprecated as of NumPy 1.16 and will raise an error in the future.\n",
      "  return np.stack(logp)\n",
      "/home/petrushev/etc/jup_env/lib/python3.7/site-packages/pymc3/stats.py:218: UserWarning: For one or more samples the posterior variance of the\n",
      "        log predictive densities exceeds 0.4. This could be indication of\n",
      "        WAIC starting to fail see http://arxiv.org/abs/1507.04544 for details\n",
      "        \n",
      "  \"\"\")\n"
     ]
    },
    {
     "data": {
      "text/html": [
       "<div>\n",
       "<style scoped>\n",
       "    .dataframe tbody tr th:only-of-type {\n",
       "        vertical-align: middle;\n",
       "    }\n",
       "\n",
       "    .dataframe tbody tr th {\n",
       "        vertical-align: top;\n",
       "    }\n",
       "\n",
       "    .dataframe thead th {\n",
       "        text-align: right;\n",
       "    }\n",
       "</style>\n",
       "<table border=\"1\" class=\"dataframe\">\n",
       "  <thead>\n",
       "    <tr style=\"text-align: right;\">\n",
       "      <th></th>\n",
       "      <th>WAIC</th>\n",
       "      <th>pWAIC</th>\n",
       "      <th>dWAIC</th>\n",
       "      <th>weight</th>\n",
       "      <th>SE</th>\n",
       "      <th>dSE</th>\n",
       "      <th>var_warn</th>\n",
       "    </tr>\n",
       "  </thead>\n",
       "  <tbody>\n",
       "    <tr>\n",
       "      <th>no pooling</th>\n",
       "      <td>31338.2</td>\n",
       "      <td>356.59</td>\n",
       "      <td>0</td>\n",
       "      <td>0.91</td>\n",
       "      <td>178.54</td>\n",
       "      <td>0</td>\n",
       "      <td>1</td>\n",
       "    </tr>\n",
       "    <tr>\n",
       "      <th>hierarchical</th>\n",
       "      <td>31339</td>\n",
       "      <td>353.59</td>\n",
       "      <td>0.84</td>\n",
       "      <td>0</td>\n",
       "      <td>177.27</td>\n",
       "      <td>1.69</td>\n",
       "      <td>1</td>\n",
       "    </tr>\n",
       "    <tr>\n",
       "      <th>no intercept</th>\n",
       "      <td>37089.9</td>\n",
       "      <td>8.98</td>\n",
       "      <td>5751.78</td>\n",
       "      <td>0.09</td>\n",
       "      <td>75.79</td>\n",
       "      <td>173.41</td>\n",
       "      <td>0</td>\n",
       "    </tr>\n",
       "  </tbody>\n",
       "</table>\n",
       "</div>"
      ],
      "text/plain": [
       "                 WAIC   pWAIC    dWAIC weight      SE     dSE var_warn\n",
       "no pooling    31338.2  356.59        0   0.91  178.54       0        1\n",
       "hierarchical    31339  353.59     0.84      0  177.27    1.69        1\n",
       "no intercept  37089.9    8.98  5751.78   0.09   75.79  173.41        0"
      ]
     },
     "execution_count": 77,
     "metadata": {},
     "output_type": "execute_result"
    }
   ],
   "source": [
    "pm.compare({\n",
    "    m_no_intercept: m_no_intercept.trace,\n",
    "    m_no_pooling: m_no_pooling.trace,\n",
    "    m_hier: m_hier.trace,\n",
    "})"
   ]
  },
  {
   "cell_type": "markdown",
   "metadata": {},
   "source": [
    "---\n",
    "**H3** The `Trolley` data are also clustered by story, which indicates a unique narrative for each\n",
    "vignette. Define and fit a cross-classified varying intercepts model with both `id` and `story`. Use the\n",
    "same ordinary terms as in the previous problem. Compare this model to the previous models. What\n",
    "do you infer about the impact of different stories on responses?\n"
   ]
  },
  {
   "cell_type": "code",
   "execution_count": 28,
   "metadata": {},
   "outputs": [
    {
     "data": {
      "text/html": [
       "<div>\n",
       "<style scoped>\n",
       "    .dataframe tbody tr th:only-of-type {\n",
       "        vertical-align: middle;\n",
       "    }\n",
       "\n",
       "    .dataframe tbody tr th {\n",
       "        vertical-align: top;\n",
       "    }\n",
       "\n",
       "    .dataframe thead th {\n",
       "        text-align: right;\n",
       "    }\n",
       "</style>\n",
       "<table border=\"1\" class=\"dataframe\">\n",
       "  <thead>\n",
       "    <tr style=\"text-align: right;\">\n",
       "      <th></th>\n",
       "      <th>case</th>\n",
       "      <th>response</th>\n",
       "      <th>order</th>\n",
       "      <th>id</th>\n",
       "      <th>age</th>\n",
       "      <th>male</th>\n",
       "      <th>edu</th>\n",
       "      <th>action</th>\n",
       "      <th>intention</th>\n",
       "      <th>contact</th>\n",
       "      <th>story</th>\n",
       "      <th>action2</th>\n",
       "      <th>person_i</th>\n",
       "      <th>story_i</th>\n",
       "    </tr>\n",
       "  </thead>\n",
       "  <tbody>\n",
       "    <tr>\n",
       "      <th>2768</th>\n",
       "      <td>fkbox</td>\n",
       "      <td>7</td>\n",
       "      <td>10</td>\n",
       "      <td>96;915</td>\n",
       "      <td>56</td>\n",
       "      <td>1</td>\n",
       "      <td>Some College</td>\n",
       "      <td>1</td>\n",
       "      <td>0</td>\n",
       "      <td>0</td>\n",
       "      <td>box</td>\n",
       "      <td>1</td>\n",
       "      <td>92</td>\n",
       "      <td>3</td>\n",
       "    </tr>\n",
       "    <tr>\n",
       "      <th>8451</th>\n",
       "      <td>ikshi</td>\n",
       "      <td>3</td>\n",
       "      <td>17</td>\n",
       "      <td>97;880</td>\n",
       "      <td>19</td>\n",
       "      <td>0</td>\n",
       "      <td>Some College</td>\n",
       "      <td>1</td>\n",
       "      <td>1</td>\n",
       "      <td>0</td>\n",
       "      <td>shi</td>\n",
       "      <td>1</td>\n",
       "      <td>281</td>\n",
       "      <td>11</td>\n",
       "    </tr>\n",
       "    <tr>\n",
       "      <th>9057</th>\n",
       "      <td>ilshi</td>\n",
       "      <td>2</td>\n",
       "      <td>26</td>\n",
       "      <td>97;980</td>\n",
       "      <td>22</td>\n",
       "      <td>0</td>\n",
       "      <td>Some College</td>\n",
       "      <td>0</td>\n",
       "      <td>1</td>\n",
       "      <td>0</td>\n",
       "      <td>shi</td>\n",
       "      <td>0</td>\n",
       "      <td>301</td>\n",
       "      <td>11</td>\n",
       "    </tr>\n",
       "    <tr>\n",
       "      <th>6</th>\n",
       "      <td>fkaqu</td>\n",
       "      <td>5</td>\n",
       "      <td>29</td>\n",
       "      <td>96;434</td>\n",
       "      <td>14</td>\n",
       "      <td>0</td>\n",
       "      <td>Middle School</td>\n",
       "      <td>1</td>\n",
       "      <td>0</td>\n",
       "      <td>0</td>\n",
       "      <td>aqu</td>\n",
       "      <td>1</td>\n",
       "      <td>0</td>\n",
       "      <td>0</td>\n",
       "    </tr>\n",
       "    <tr>\n",
       "      <th>4575</th>\n",
       "      <td>flche</td>\n",
       "      <td>6</td>\n",
       "      <td>4</td>\n",
       "      <td>97;349</td>\n",
       "      <td>23</td>\n",
       "      <td>0</td>\n",
       "      <td>Bachelor's Degree</td>\n",
       "      <td>0</td>\n",
       "      <td>0</td>\n",
       "      <td>0</td>\n",
       "      <td>che</td>\n",
       "      <td>0</td>\n",
       "      <td>152</td>\n",
       "      <td>8</td>\n",
       "    </tr>\n",
       "  </tbody>\n",
       "</table>\n",
       "</div>"
      ],
      "text/plain": [
       "       case  response  order      id  age  male                edu  action  \\\n",
       "2768  fkbox         7     10  96;915   56     1       Some College       1   \n",
       "8451  ikshi         3     17  97;880   19     0       Some College       1   \n",
       "9057  ilshi         2     26  97;980   22     0       Some College       0   \n",
       "6     fkaqu         5     29  96;434   14     0      Middle School       1   \n",
       "4575  flche         6      4  97;349   23     0  Bachelor's Degree       0   \n",
       "\n",
       "      intention  contact story  action2  person_i  story_i  \n",
       "2768          0        0   box        1        92        3  \n",
       "8451          1        0   shi        1       281       11  \n",
       "9057          1        0   shi        0       301       11  \n",
       "6             0        0   aqu        1         0        0  \n",
       "4575          0        0   che        0       152        8  "
      ]
     },
     "execution_count": 28,
     "metadata": {},
     "output_type": "execute_result"
    }
   ],
   "source": [
    "stories = (data.story.drop_duplicates().reset_index(drop=True).reset_index()\n",
    "           .set_index('story')['index'].rename('story_i').to_frame())\n",
    "\n",
    "data = pd.merge(data, stories, left_on='story', right_index=True)\n",
    "\n",
    "data.sample(5)"
   ]
  },
  {
   "cell_type": "code",
   "execution_count": 78,
   "metadata": {
    "scrolled": false
   },
   "outputs": [
    {
     "name": "stderr",
     "output_type": "stream",
     "text": [
      "/home/petrushev/etc/jup_env/lib/python3.7/site-packages/theano/tensor/subtensor.py:2197: FutureWarning: Using a non-tuple sequence for multidimensional indexing is deprecated; use `arr[tuple(seq)]` instead of `arr[seq]`. In the future this will be interpreted as an array index, `arr[np.array(seq)]`, which will result either in an error or a different result.\n",
      "  rval = inputs[0].__getitem__(inputs[1:])\n",
      "Auto-assigning NUTS sampler...\n",
      "Initializing NUTS using jitter+adapt_diag...\n",
      "INFO (theano.gof.compilelock): Waiting for existing lock by process '9933' (I am process '6307')\n",
      "INFO (theano.gof.compilelock): To manually release the lock, delete /home/petrushev/.theano/compiledir_Linux-5.0-arch1-1-ARCH-x86_64-with-arch--3.7.3-64/lock_dir\n",
      "/home/petrushev/etc/jup_env/lib/python3.7/site-packages/theano/tensor/subtensor.py:2197: FutureWarning: Using a non-tuple sequence for multidimensional indexing is deprecated; use `arr[tuple(seq)]` instead of `arr[seq]`. In the future this will be interpreted as an array index, `arr[np.array(seq)]`, which will result either in an error or a different result.\n",
      "  rval = inputs[0].__getitem__(inputs[1:])\n",
      "Multiprocess sampling (2 chains in 2 jobs)\n",
      "NUTS: [story, person, beta, story_sd_bar, person_sd_bar, cutpoints]\n",
      "Sampling 2 chains: 100%|██████████| 9000/9000 [22:45<00:00,  3.49draws/s] \n",
      "The acceptance probability does not match the target. It is 0.6031369117280478, but should be close to 0.8. Try to increase the number of tuning steps.\n",
      "The estimated number of effective samples is smaller than 200 for some parameters.\n"
     ]
    }
   ],
   "source": [
    "with pm.Model() as m_hier_story:\n",
    "    num_persons = data.person_i.nunique()\n",
    "    num_stories = data.story_i.nunique()\n",
    "    \n",
    "    cutpoints = pm.Normal(\n",
    "        'cutpoints',\n",
    "        mu=0,\n",
    "        sd=1.5,\n",
    "        transform=pm.distributions.transforms.ordered,\n",
    "        testval=np.linspace(-3, 3, 6),\n",
    "        shape=6\n",
    "    )\n",
    "\n",
    "    person_sd_bar = pm.Exponential('person_sd_bar', lam=1)\n",
    "    story_sd_bar = pm.Exponential('story_sd_bar', lam=1)\n",
    "    beta = pm.Normal('beta', mu=0, sd=0.5, shape=3)\n",
    "\n",
    "    person = pm.Normal('person', mu=0, sd=person_sd_bar,\n",
    "                      shape=num_persons)\n",
    "    story = pm.Normal('story', mu=0, sd=story_sd_bar,\n",
    "                      shape=num_persons)\n",
    "\n",
    "    phi = (\n",
    "        person[data.person_i.values]\n",
    "        + story[data.story_i.values]\n",
    "        + beta[0] * data.action.values\n",
    "        + beta[1] * data.intention.values\n",
    "        + beta[2] * data.contact.values\n",
    "    )\n",
    "\n",
    "    responses = pm.OrderedLogistic(\n",
    "        'responses', phi, cutpoints,\n",
    "        observed=data.response - 1\n",
    "    )\n",
    "\n",
    "    m_hier_story.name = 'hierarchical, story'\n",
    "    m_hier_story.trace = pm.sample(\n",
    "        3000, tune=1500, chains=2,\n",
    "    )"
   ]
  },
  {
   "cell_type": "code",
   "execution_count": 79,
   "metadata": {},
   "outputs": [
    {
     "data": {
      "image/png": "[encoded data removed]",
      "text/plain": [
       "<Figure size 432x288 with 2 Axes>"
      ]
     },
     "metadata": {
      "needs_background": "light"
     },
     "output_type": "display_data"
    }
   ],
   "source": [
    "pm.forestplot(m_hier_story.trace,\n",
    "              varnames=['cutpoints', 'beta', 'person_sd_bar', 'story_sd_bar'])\n",
    "None"
   ]
  },
  {
   "cell_type": "code",
   "execution_count": 82,
   "metadata": {},
   "outputs": [
    {
     "data": {
      "image/png": "[encoded data removed]",
      "text/plain": [
       "<Figure size 1190x340 with 1 Axes>"
      ]
     },
     "metadata": {
      "needs_background": "light"
     },
     "output_type": "display_data"
    }
   ],
   "source": [
    "tmp = pd.Series(m_hier_story.trace['story'].mean(axis=0))\n",
    "\n",
    "fig, (ax1) = plt.subplots(1, 1, figsize=(14, 4), dpi=85)\n",
    "\n",
    "ax1.scatter(tmp.iloc[15:], tmp.iloc[15:].index,\n",
    "            marker='.', c='b', alpha=.3)\n",
    "ax1.set(ylabel='story', yticks=[])\n",
    "\n",
    "fig.tight_layout()\n",
    "None"
   ]
  },
  {
   "cell_type": "code",
   "execution_count": 83,
   "metadata": {},
   "outputs": [
    {
     "name": "stderr",
     "output_type": "stream",
     "text": [
      "/home/petrushev/etc/jup_env/lib/python3.7/site-packages/theano/tensor/subtensor.py:2197: FutureWarning: Using a non-tuple sequence for multidimensional indexing is deprecated; use `arr[tuple(seq)]` instead of `arr[seq]`. In the future this will be interpreted as an array index, `arr[np.array(seq)]`, which will result either in an error or a different result.\n",
      "  rval = inputs[0].__getitem__(inputs[1:])\n",
      "Auto-assigning NUTS sampler...\n",
      "Initializing NUTS using jitter+adapt_diag...\n",
      "Multiprocess sampling (2 chains in 2 jobs)\n",
      "NUTS: [story, beta, story_sd_bar, cutpoints]\n",
      "Sampling 2 chains: 100%|██████████| 9000/9000 [23:01<00:00,  9.14draws/s]  \n",
      "The gelman-rubin statistic is larger than 1.05 for some parameters. This indicates slight problems during sampling.\n",
      "The estimated number of effective samples is smaller than 200 for some parameters.\n"
     ]
    }
   ],
   "source": [
    "with pm.Model() as m_hier_story_only:\n",
    "    num_stories = data.story_i.nunique()\n",
    "    \n",
    "    cutpoints = pm.Normal(\n",
    "        'cutpoints',\n",
    "        mu=0,\n",
    "        sd=1.5,\n",
    "        transform=pm.distributions.transforms.ordered,\n",
    "        testval=np.linspace(-3, 3, 6),\n",
    "        shape=6\n",
    "    )\n",
    "\n",
    "    story_sd_bar = pm.Exponential('story_sd_bar', lam=1)\n",
    "    beta = pm.Normal('beta', mu=0, sd=0.5, shape=3)\n",
    "\n",
    "    story = pm.Normal('story', mu=0, sd=story_sd_bar,\n",
    "                      shape=num_persons)\n",
    "\n",
    "    phi = (\n",
    "        story[data.story_i.values]\n",
    "        + beta[0] * data.action.values\n",
    "        + beta[1] * data.intention.values\n",
    "        + beta[2] * data.contact.values\n",
    "    )\n",
    "\n",
    "    responses = pm.OrderedLogistic(\n",
    "        'responses', phi, cutpoints,\n",
    "        observed=data.response - 1\n",
    "    )\n",
    "\n",
    "    m_hier_story_only.name = 'hierarchical, story only'\n",
    "    m_hier_story_only.trace = pm.sample(\n",
    "        3000, tune=1500, chains=2,\n",
    "    )"
   ]
  },
  {
   "cell_type": "code",
   "execution_count": 84,
   "metadata": {},
   "outputs": [
    {
     "data": {
      "image/png": "[encoded data removed]",
      "text/plain": [
       "<Figure size 432x288 with 2 Axes>"
      ]
     },
     "metadata": {
      "needs_background": "light"
     },
     "output_type": "display_data"
    }
   ],
   "source": [
    "pm.forestplot(m_hier_story_only.trace,\n",
    "              varnames=['cutpoints', 'beta', 'story_sd_bar'])\n",
    "None"
   ]
  },
  {
   "cell_type": "code",
   "execution_count": 85,
   "metadata": {},
   "outputs": [
    {
     "data": {
      "image/png": "[encoded data removed]",
      "text/plain": [
       "<Figure size 1190x340 with 1 Axes>"
      ]
     },
     "metadata": {
      "needs_background": "light"
     },
     "output_type": "display_data"
    }
   ],
   "source": [
    "tmp = pd.Series(m_hier_story_only.trace['story'].mean(axis=0))\n",
    "\n",
    "fig, (ax1) = plt.subplots(1, 1, figsize=(14, 4), dpi=85)\n",
    "ax1.scatter(tmp.iloc[15:], tmp.iloc[15:].index,\n",
    "            marker='.', c='b', alpha=.3)\n",
    "ax1.set(ylabel='story', yticks=[])\n",
    "fig.tight_layout()\n",
    "None"
   ]
  },
  {
   "cell_type": "code",
   "execution_count": 86,
   "metadata": {},
   "outputs": [
    {
     "name": "stderr",
     "output_type": "stream",
     "text": [
      "/home/petrushev/etc/jup_env/lib/python3.7/site-packages/pymc3/stats.py:167: FutureWarning: arrays to stack must be passed as a \"sequence\" type such as list or tuple. Support for non-sequence iterables such as generators is deprecated as of NumPy 1.16 and will raise an error in the future.\n",
      "  return np.stack(logp)\n",
      "/home/petrushev/etc/jup_env/lib/python3.7/site-packages/pymc3/stats.py:218: UserWarning: For one or more samples the posterior variance of the\n",
      "        log predictive densities exceeds 0.4. This could be indication of\n",
      "        WAIC starting to fail see http://arxiv.org/abs/1507.04544 for details\n",
      "        \n",
      "  \"\"\")\n"
     ]
    },
    {
     "data": {
      "text/html": [
       "<div>\n",
       "<style scoped>\n",
       "    .dataframe tbody tr th:only-of-type {\n",
       "        vertical-align: middle;\n",
       "    }\n",
       "\n",
       "    .dataframe tbody tr th {\n",
       "        vertical-align: top;\n",
       "    }\n",
       "\n",
       "    .dataframe thead th {\n",
       "        text-align: right;\n",
       "    }\n",
       "</style>\n",
       "<table border=\"1\" class=\"dataframe\">\n",
       "  <thead>\n",
       "    <tr style=\"text-align: right;\">\n",
       "      <th></th>\n",
       "      <th>WAIC</th>\n",
       "      <th>pWAIC</th>\n",
       "      <th>dWAIC</th>\n",
       "      <th>weight</th>\n",
       "      <th>SE</th>\n",
       "      <th>dSE</th>\n",
       "      <th>var_warn</th>\n",
       "    </tr>\n",
       "  </thead>\n",
       "  <tbody>\n",
       "    <tr>\n",
       "      <th>hierarchical, story</th>\n",
       "      <td>30689.3</td>\n",
       "      <td>363.73</td>\n",
       "      <td>0</td>\n",
       "      <td>0.91</td>\n",
       "      <td>179.06</td>\n",
       "      <td>0</td>\n",
       "      <td>1</td>\n",
       "    </tr>\n",
       "    <tr>\n",
       "      <th>no pooling</th>\n",
       "      <td>31338.2</td>\n",
       "      <td>356.59</td>\n",
       "      <td>648.81</td>\n",
       "      <td>0</td>\n",
       "      <td>178.54</td>\n",
       "      <td>48.08</td>\n",
       "      <td>1</td>\n",
       "    </tr>\n",
       "    <tr>\n",
       "      <th>hierarchical</th>\n",
       "      <td>31339</td>\n",
       "      <td>353.59</td>\n",
       "      <td>649.65</td>\n",
       "      <td>0</td>\n",
       "      <td>177.27</td>\n",
       "      <td>47.95</td>\n",
       "      <td>1</td>\n",
       "    </tr>\n",
       "    <tr>\n",
       "      <th>hierarchical, story only</th>\n",
       "      <td>36726.2</td>\n",
       "      <td>19.88</td>\n",
       "      <td>6036.81</td>\n",
       "      <td>0.09</td>\n",
       "      <td>82.94</td>\n",
       "      <td>174.73</td>\n",
       "      <td>0</td>\n",
       "    </tr>\n",
       "    <tr>\n",
       "      <th>no intercept</th>\n",
       "      <td>37089.9</td>\n",
       "      <td>8.98</td>\n",
       "      <td>6400.59</td>\n",
       "      <td>0</td>\n",
       "      <td>75.79</td>\n",
       "      <td>174.55</td>\n",
       "      <td>0</td>\n",
       "    </tr>\n",
       "  </tbody>\n",
       "</table>\n",
       "</div>"
      ],
      "text/plain": [
       "                             WAIC   pWAIC    dWAIC weight      SE     dSE  \\\n",
       "hierarchical, story       30689.3  363.73        0   0.91  179.06       0   \n",
       "no pooling                31338.2  356.59   648.81      0  178.54   48.08   \n",
       "hierarchical                31339  353.59   649.65      0  177.27   47.95   \n",
       "hierarchical, story only  36726.2   19.88  6036.81   0.09   82.94  174.73   \n",
       "no intercept              37089.9    8.98  6400.59      0   75.79  174.55   \n",
       "\n",
       "                         var_warn  \n",
       "hierarchical, story             1  \n",
       "no pooling                      1  \n",
       "hierarchical                    1  \n",
       "hierarchical, story only        0  \n",
       "no intercept                    0  "
      ]
     },
     "execution_count": 86,
     "metadata": {},
     "output_type": "execute_result"
    }
   ],
   "source": [
    "pm.compare({\n",
    "    m_no_intercept: m_no_intercept.trace,\n",
    "    m_no_pooling: m_no_pooling.trace,\n",
    "    m_hier: m_hier.trace,\n",
    "    m_hier_story: m_hier_story.trace,\n",
    "    m_hier_story_only: m_hier_story_only.trace,\n",
    "})"
   ]
  },
  {
   "cell_type": "code",
   "execution_count": null,
   "metadata": {},
   "outputs": [],
   "source": []
  }
 ],
 "metadata": {
  "kernelspec": {
   "display_name": "Python 3",
   "language": "python",
   "name": "python3"
  },
  "language_info": {
   "codemirror_mode": {
    "name": "ipython",
    "version": 3
   },
   "file_extension": ".py",
   "mimetype": "text/x-python",
   "name": "python",
   "nbconvert_exporter": "python",
   "pygments_lexer": "ipython3",
   "version": "3.7.3"
  },
  "toc": {
   "base_numbering": 1,
   "nav_menu": {},
   "number_sections": true,
   "sideBar": true,
   "skip_h1_title": false,
   "title_cell": "Table of Contents",
   "title_sidebar": "Contents",
   "toc_cell": false,
   "toc_position": {},
   "toc_section_display": true,
   "toc_window_display": false
  },
  "varInspector": {
   "cols": {
    "lenName": 16,
    "lenType": 16,
    "lenVar": 40
   },
   "kernels_config": {
    "python": {
     "delete_cmd_postfix": "",
     "delete_cmd_prefix": "del ",
     "library": "var_list.py",
     "varRefreshCmd": "print(var_dic_list())"
    },
    "r": {
     "delete_cmd_postfix": ") ",
     "delete_cmd_prefix": "rm(",
     "library": "var_list.r",
     "varRefreshCmd": "cat(var_dic_list()) "
    }
   },
   "types_to_exclude": [
    "module",
    "function",
    "builtin_function_or_method",
    "instance",
    "_Feature"
   ],
   "window_display": false
  }
 },
 "nbformat": 4,
 "nbformat_minor": 2
}
