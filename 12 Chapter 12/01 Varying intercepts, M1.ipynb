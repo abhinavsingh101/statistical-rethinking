{
 "cells": [
  {
   "cell_type": "code",
   "execution_count": 2,
   "metadata": {},
   "outputs": [],
   "source": [
    "%matplotlib inline\n",
    "\n",
    "import pandas as pd\n",
    "import pymc3 as pm\n",
    "import matplotlib.pyplot as plt\n",
    "import numpy as np\n",
    "import scipy as sp\n",
    "\n",
    "plt.style.use('seaborn-whitegrid')"
   ]
  },
  {
   "cell_type": "code",
   "execution_count": 3,
   "metadata": {},
   "outputs": [],
   "source": [
    "def summarize(alpha=0.05):\n",
    "\n",
    "    def _summarize(ser):\n",
    "        hpd_ = pm.hpd(ser, alpha=alpha)\n",
    "        return pd.Series({\n",
    "            'mean_': ser.mean(),\n",
    "            'lower': hpd_[0],\n",
    "            'upper': hpd_[1],\n",
    "        })\n",
    "\n",
    "    return _summarize\n",
    "\n",
    "\n",
    "def agg_prediction(trace_var, source_data, group_columns, aggregate_fc):\n",
    "    df = pd.DataFrame(trace_var).stack().reset_index()\n",
    "    merged = pd.merge(\n",
    "        df, source_data,\n",
    "        left_on='level_1', right_index=True\n",
    "    )\n",
    "\n",
    "    return (\n",
    "        merged.groupby(group_columns)[0].apply(aggregate_fc)\n",
    "        .unstack().sort_index().reset_index()\n",
    "    )\n"
   ]
  },
  {
   "cell_type": "code",
   "execution_count": 4,
   "metadata": {},
   "outputs": [
    {
     "data": {
      "text/html": [
       "<div>\n",
       "<style scoped>\n",
       "    .dataframe tbody tr th:only-of-type {\n",
       "        vertical-align: middle;\n",
       "    }\n",
       "\n",
       "    .dataframe tbody tr th {\n",
       "        vertical-align: top;\n",
       "    }\n",
       "\n",
       "    .dataframe thead th {\n",
       "        text-align: right;\n",
       "    }\n",
       "</style>\n",
       "<table border=\"1\" class=\"dataframe\">\n",
       "  <thead>\n",
       "    <tr style=\"text-align: right;\">\n",
       "      <th></th>\n",
       "      <th>density</th>\n",
       "      <th>pred</th>\n",
       "      <th>size</th>\n",
       "      <th>surv</th>\n",
       "      <th>propsurv</th>\n",
       "      <th>is_pred</th>\n",
       "      <th>is_big</th>\n",
       "    </tr>\n",
       "  </thead>\n",
       "  <tbody>\n",
       "    <tr>\n",
       "      <th>41</th>\n",
       "      <td>35</td>\n",
       "      <td>pred</td>\n",
       "      <td>big</td>\n",
       "      <td>12</td>\n",
       "      <td>0.342857</td>\n",
       "      <td>1</td>\n",
       "      <td>1</td>\n",
       "    </tr>\n",
       "    <tr>\n",
       "      <th>40</th>\n",
       "      <td>35</td>\n",
       "      <td>pred</td>\n",
       "      <td>big</td>\n",
       "      <td>4</td>\n",
       "      <td>0.114286</td>\n",
       "      <td>1</td>\n",
       "      <td>1</td>\n",
       "    </tr>\n",
       "    <tr>\n",
       "      <th>43</th>\n",
       "      <td>35</td>\n",
       "      <td>pred</td>\n",
       "      <td>big</td>\n",
       "      <td>14</td>\n",
       "      <td>0.400000</td>\n",
       "      <td>1</td>\n",
       "      <td>1</td>\n",
       "    </tr>\n",
       "    <tr>\n",
       "      <th>17</th>\n",
       "      <td>25</td>\n",
       "      <td>no</td>\n",
       "      <td>big</td>\n",
       "      <td>23</td>\n",
       "      <td>0.920000</td>\n",
       "      <td>0</td>\n",
       "      <td>1</td>\n",
       "    </tr>\n",
       "    <tr>\n",
       "      <th>33</th>\n",
       "      <td>35</td>\n",
       "      <td>no</td>\n",
       "      <td>big</td>\n",
       "      <td>33</td>\n",
       "      <td>0.942857</td>\n",
       "      <td>0</td>\n",
       "      <td>1</td>\n",
       "    </tr>\n",
       "  </tbody>\n",
       "</table>\n",
       "</div>"
      ],
      "text/plain": [
       "    density  pred size  surv  propsurv  is_pred  is_big\n",
       "41       35  pred  big    12  0.342857        1       1\n",
       "40       35  pred  big     4  0.114286        1       1\n",
       "43       35  pred  big    14  0.400000        1       1\n",
       "17       25    no  big    23  0.920000        0       1\n",
       "33       35    no  big    33  0.942857        0       1"
      ]
     },
     "execution_count": 4,
     "metadata": {},
     "output_type": "execute_result"
    }
   ],
   "source": [
    "data = pd.read_csv('../data/reedfrogs.csv', sep=';')\n",
    "\n",
    "data = data.assign(\n",
    "    is_pred = (data.pred == 'pred').astype('int'),\n",
    "    is_big = (data['size'] == 'big').astype('int'),\n",
    ")\n",
    "\n",
    "data.sample(5)"
   ]
  },
  {
   "cell_type": "code",
   "execution_count": 4,
   "metadata": {},
   "outputs": [
    {
     "name": "stderr",
     "output_type": "stream",
     "text": [
      "Auto-assigning NUTS sampler...\n",
      "Initializing NUTS using jitter+adapt_diag...\n",
      "Multiprocess sampling (2 chains in 2 jobs)\n",
      "NUTS: [alpha]\n",
      "Sampling 2 chains: 100%|██████████| 14000/14000 [00:16<00:00, 865.32draws/s] \n"
     ]
    }
   ],
   "source": [
    "with pm.Model() as m_no_pool:\n",
    "    alpha = pm.Normal('alpha', mu=0, sd=1.5, shape=data.shape[0])\n",
    "    \n",
    "    p = pm.Deterministic(\n",
    "        'p',\n",
    "        pm.math.invlogit(\n",
    "            alpha[data.index.values]\n",
    "        )\n",
    "    )\n",
    "\n",
    "    surv_obs = pm.Binomial('surv_obs', n=data.density.values, p=p,\n",
    "                           observed=data.surv.values)\n",
    "\n",
    "    m_no_pool.name = 'no pooling'\n",
    "    m_no_pool.trace = pm.sample(5000, tune=2000, chains=2)"
   ]
  },
  {
   "cell_type": "code",
   "execution_count": 10,
   "metadata": {},
   "outputs": [
    {
     "name": "stderr",
     "output_type": "stream",
     "text": [
      "Auto-assigning NUTS sampler...\n",
      "Initializing NUTS using jitter+adapt_diag...\n",
      "Multiprocess sampling (2 chains in 2 jobs)\n",
      "NUTS: [alpha, sigma_bar, alpha_bar]\n",
      "Sampling 2 chains: 100%|██████████| 20000/20000 [00:28<00:00, 710.62draws/s]\n"
     ]
    }
   ],
   "source": [
    "with pm.Model() as m_hier:\n",
    "    alpha_bar = pm.Normal('alpha_bar', mu=0, sd=1)\n",
    "    sigma_bar = pm.HalfCauchy('sigma_bar', beta=1.5)\n",
    "\n",
    "    alpha = pm.Normal('alpha', mu=alpha_bar, sd=sigma_bar,\n",
    "                      shape=data.shape[0])\n",
    "\n",
    "    p = pm.Deterministic(\n",
    "        'p',\n",
    "        pm.math.invlogit(\n",
    "            1 + alpha[data.index.values]\n",
    "        )\n",
    "    )\n",
    "\n",
    "    surv_obs = pm.Binomial('surv_obs', n=data.density.values, p=p,\n",
    "                           observed=data.surv.values)\n",
    "\n",
    "    m_hier.name = 'hierarchical'\n",
    "    m_hier.trace = pm.sample(5000, tune=5000, chains=2)"
   ]
  },
  {
   "cell_type": "code",
   "execution_count": 11,
   "metadata": {},
   "outputs": [
    {
     "data": {
      "image/png": "[encoded data removed]",
      "text/plain": [
       "<Figure size 432x288 with 1 Axes>"
      ]
     },
     "metadata": {
      "needs_background": "light"
     },
     "output_type": "display_data"
    }
   ],
   "source": [
    "pm.forestplot(m_hier.trace,\n",
    "              varnames=['alpha_bar', 'sigma_bar'],\n",
    "              rhat=False)\n",
    "None"
   ]
  },
  {
   "cell_type": "code",
   "execution_count": null,
   "metadata": {},
   "outputs": [],
   "source": []
  },
  {
   "cell_type": "code",
   "execution_count": 31,
   "metadata": {},
   "outputs": [
    {
     "name": "stderr",
     "output_type": "stream",
     "text": [
      "/home/petrushev/etc/jup_env/lib/python3.7/site-packages/pymc3/stats.py:218: UserWarning: For one or more samples the posterior variance of the\n",
      "        log predictive densities exceeds 0.4. This could be indication of\n",
      "        WAIC starting to fail see http://arxiv.org/abs/1507.04544 for details\n",
      "        \n",
      "  \"\"\")\n"
     ]
    },
    {
     "data": {
      "text/html": [
       "<div>\n",
       "<style scoped>\n",
       "    .dataframe tbody tr th:only-of-type {\n",
       "        vertical-align: middle;\n",
       "    }\n",
       "\n",
       "    .dataframe tbody tr th {\n",
       "        vertical-align: top;\n",
       "    }\n",
       "\n",
       "    .dataframe thead th {\n",
       "        text-align: right;\n",
       "    }\n",
       "</style>\n",
       "<table border=\"1\" class=\"dataframe\">\n",
       "  <thead>\n",
       "    <tr style=\"text-align: right;\">\n",
       "      <th></th>\n",
       "      <th>WAIC</th>\n",
       "      <th>pWAIC</th>\n",
       "      <th>dWAIC</th>\n",
       "      <th>weight</th>\n",
       "      <th>SE</th>\n",
       "      <th>dSE</th>\n",
       "      <th>var_warn</th>\n",
       "    </tr>\n",
       "  </thead>\n",
       "  <tbody>\n",
       "    <tr>\n",
       "      <th>hierarchical</th>\n",
       "      <td>199.83</td>\n",
       "      <td>20.86</td>\n",
       "      <td>0</td>\n",
       "      <td>1</td>\n",
       "      <td>6.92</td>\n",
       "      <td>0</td>\n",
       "      <td>1</td>\n",
       "    </tr>\n",
       "    <tr>\n",
       "      <th>no pooling</th>\n",
       "      <td>214.78</td>\n",
       "      <td>25.63</td>\n",
       "      <td>14.95</td>\n",
       "      <td>0</td>\n",
       "      <td>4.29</td>\n",
       "      <td>3.82</td>\n",
       "      <td>1</td>\n",
       "    </tr>\n",
       "  </tbody>\n",
       "</table>\n",
       "</div>"
      ],
      "text/plain": [
       "                WAIC  pWAIC  dWAIC weight    SE   dSE var_warn\n",
       "hierarchical  199.83  20.86      0      1  6.92     0        1\n",
       "no pooling    214.78  25.63  14.95      0  4.29  3.82        1"
      ]
     },
     "execution_count": 31,
     "metadata": {},
     "output_type": "execute_result"
    }
   ],
   "source": [
    "pm.compare({\n",
    "        m_no_pool: m_no_pool.trace,\n",
    "        m_hier: m_hier.trace,\n",
    "    },\n",
    "    method='BB-pseudo-BMA'\n",
    ")"
   ]
  },
  {
   "cell_type": "code",
   "execution_count": null,
   "metadata": {},
   "outputs": [],
   "source": []
  },
  {
   "cell_type": "code",
   "execution_count": 32,
   "metadata": {},
   "outputs": [
    {
     "data": {
      "image/png": "[encoded data removed]",
      "text/plain": [
       "<Figure size 1120x400 with 1 Axes>"
      ]
     },
     "metadata": {
      "needs_background": "light"
     },
     "output_type": "display_data"
    }
   ],
   "source": [
    "tmp = agg_prediction(m_hier.trace['p'], data.reset_index(), ['density', 'propsurv'], summarize())\n",
    "mean_ = sp.special.expit(m_hier.trace['alpha_bar'] + 1).mean()\n",
    "\n",
    "raw_mean = data.surv.sum() / data.density.sum()\n",
    "\n",
    "fig, ax = plt.subplots(1, 1, figsize=(14, 5), dpi=80)\n",
    "\n",
    "ax.scatter(tmp.index, tmp.propsurv, marker='o',\n",
    "           facecolors='none', edgecolors='b', label='observed')\n",
    "ax.scatter(tmp.index, tmp.mean_, marker='x', color='b', label='predicted')\n",
    "\n",
    "\n",
    "ax.axvline(5.5, linewidth=1, color='gray')\n",
    "ax.axvline(17.5, linewidth=1, color='gray')\n",
    "ax.axhline(mean_, label='base mean')\n",
    "ax.axhline(raw_mean, label='raw mean', linestyle='--')\n",
    "\n",
    "ax.set(xticks=[2, 11, 23], xticklabels=['small', 'medium', 'large'],\n",
    "       xlabel='tanks', ylabel='survival rate')\n",
    "\n",
    "ax.grid(None)\n",
    "ax.legend(loc='lower right')\n",
    "None"
   ]
  },
  {
   "cell_type": "markdown",
   "metadata": {},
   "source": [
    "**M1** Revisit the Reed frog survival data, `reedfrogs`, and add the predation and size treatment variables to the varying intercepts model. Consider models with either main effect alone, both main effects, as well as a model including both and their interaction. Instead of focusing on inferences about these two predictor variables, focus on the inferred variation across tanks. Explain why it changes as it does across models.\n"
   ]
  },
  {
   "cell_type": "code",
   "execution_count": 33,
   "metadata": {},
   "outputs": [
    {
     "name": "stderr",
     "output_type": "stream",
     "text": [
      "Auto-assigning NUTS sampler...\n",
      "Initializing NUTS using jitter+adapt_diag...\n",
      "Multiprocess sampling (2 chains in 2 jobs)\n",
      "NUTS: [beta_size, alpha, sigma_bar, alpha_bar]\n",
      "Sampling 2 chains: 100%|██████████| 20000/20000 [00:51<00:00, 385.61draws/s]\n",
      "The acceptance probability does not match the target. It is 0.7163781202479783, but should be close to 0.8. Try to increase the number of tuning steps.\n"
     ]
    }
   ],
   "source": [
    "with pm.Model() as m_m1_1:\n",
    "    alpha_bar = pm.Normal('alpha_bar', mu=0, sd=1)\n",
    "    sigma_bar = pm.HalfCauchy('sigma_bar', beta=1.5)\n",
    "\n",
    "    alpha = pm.Normal('alpha', mu=alpha_bar, sd=sigma_bar,\n",
    "                      shape=data.shape[0])\n",
    "\n",
    "    beta_size = pm.Normal('beta_size', mu=0, sd=1)\n",
    "    \n",
    "    p = pm.Deterministic(\n",
    "        'p',\n",
    "        pm.math.invlogit(\n",
    "            1 + alpha[data.index.values]\n",
    "            + beta_size * data.is_big.values\n",
    "        )\n",
    "    )\n",
    "\n",
    "    surv_obs = pm.Binomial('surv_obs', n=data.density.values, p=p,\n",
    "                           observed=data.surv.values)\n",
    "\n",
    "    m_m1_1.name = 'm_m1_1'\n",
    "    m_m1_1.trace = pm.sample(5000, tune=5000, chains=2)"
   ]
  },
  {
   "cell_type": "code",
   "execution_count": 44,
   "metadata": {},
   "outputs": [
    {
     "data": {
      "image/png": "[encoded data removed]",
      "text/plain": [
       "<Figure size 432x288 with 1 Axes>"
      ]
     },
     "metadata": {
      "needs_background": "light"
     },
     "output_type": "display_data"
    }
   ],
   "source": [
    "pm.forestplot(m_m1_1.trace,\n",
    "              varnames=['alpha_bar', 'sigma_bar', 'beta_size'],\n",
    "              rhat=False)\n",
    "None"
   ]
  },
  {
   "cell_type": "code",
   "execution_count": 46,
   "metadata": {},
   "outputs": [
    {
     "data": {
      "image/png": "[encoded data removed]",
      "text/plain": [
       "<Figure size 1120x400 with 1 Axes>"
      ]
     },
     "metadata": {
      "needs_background": "light"
     },
     "output_type": "display_data"
    }
   ],
   "source": [
    "tmp = agg_prediction(m_hier.trace['alpha'], data.reset_index(), ['density', 'propsurv'], summarize())\n",
    "tmp2 = agg_prediction(m_m1_1.trace['alpha'], data.reset_index(), ['density', 'propsurv'], summarize())\n",
    "\n",
    "fig, ax = plt.subplots(1, 1, figsize=(14, 5), dpi=80)\n",
    "\n",
    "ax.scatter(tmp.index, tmp.mean_, marker='x', color='b', label='predicted', alpha=.7)\n",
    "ax.scatter(tmp2.index, tmp2.mean_, marker='x', color='r', label='predicted m_m1_1', alpha=.7)\n",
    "\n",
    "\n",
    "ax.axvline(5.5, linewidth=1, color='gray')\n",
    "ax.axvline(17.5, linewidth=1, color='gray')\n",
    "\n",
    "ax.set(xticks=[2, 11, 23], xticklabels=['small', 'medium', 'large'],\n",
    "       xlabel='tanks', ylabel='alpha')\n",
    "\n",
    "ax.grid(None)\n",
    "ax.legend(loc='lower right')\n",
    "None"
   ]
  },
  {
   "cell_type": "code",
   "execution_count": 49,
   "metadata": {
    "scrolled": false
   },
   "outputs": [
    {
     "name": "stderr",
     "output_type": "stream",
     "text": [
      "Auto-assigning NUTS sampler...\n",
      "Initializing NUTS using jitter+adapt_diag...\n",
      "Multiprocess sampling (2 chains in 2 jobs)\n",
      "NUTS: [beta_pred, alpha, sigma_bar, alpha_bar]\n",
      "Sampling 2 chains: 100%|██████████| 20000/20000 [00:51<00:00, 391.02draws/s]\n",
      "The number of effective samples is smaller than 25% for some parameters.\n"
     ]
    }
   ],
   "source": [
    "with pm.Model() as m_m1_2:\n",
    "    alpha_bar = pm.Normal('alpha_bar', mu=0, sd=1)\n",
    "    sigma_bar = pm.HalfCauchy('sigma_bar', beta=1.5)\n",
    "\n",
    "    alpha = pm.Normal('alpha', mu=alpha_bar, sd=sigma_bar,\n",
    "                      shape=data.shape[0])\n",
    "\n",
    "    beta_pred = pm.Normal('beta_pred', mu=0, sd=1)\n",
    "    \n",
    "    p = pm.Deterministic(\n",
    "        'p',\n",
    "        pm.math.invlogit(\n",
    "            1 + alpha[data.index.values]\n",
    "            + beta_pred * data.is_pred.values\n",
    "        )\n",
    "    )\n",
    "\n",
    "    surv_obs = pm.Binomial('surv_obs', n=data.density.values, p=p,\n",
    "                           observed=data.surv.values)\n",
    "\n",
    "    m_m1_2.name = 'm_m1_2'\n",
    "    m_m1_2.trace = pm.sample(5000, tune=5000, chains=2)"
   ]
  },
  {
   "cell_type": "code",
   "execution_count": 50,
   "metadata": {},
   "outputs": [
    {
     "data": {
      "image/png": "[encoded data removed]",
      "text/plain": [
       "<Figure size 432x288 with 1 Axes>"
      ]
     },
     "metadata": {
      "needs_background": "light"
     },
     "output_type": "display_data"
    }
   ],
   "source": [
    "pm.forestplot(m_m1_2.trace,\n",
    "              varnames=['alpha_bar', 'sigma_bar', 'beta_pred'],\n",
    "              rhat=False)\n",
    "None"
   ]
  },
  {
   "cell_type": "code",
   "execution_count": 52,
   "metadata": {},
   "outputs": [
    {
     "data": {
      "image/png": "[encoded data removed]",
      "text/plain": [
       "<Figure size 1120x400 with 1 Axes>"
      ]
     },
     "metadata": {
      "needs_background": "light"
     },
     "output_type": "display_data"
    }
   ],
   "source": [
    "tmp = agg_prediction(m_hier.trace['alpha'], data.reset_index(), ['density', 'propsurv'], summarize())\n",
    "tmp2 = agg_prediction(m_m1_2.trace['alpha'], data.reset_index(), ['density', 'propsurv'], summarize())\n",
    "\n",
    "fig, ax = plt.subplots(1, 1, figsize=(14, 5), dpi=80)\n",
    "\n",
    "ax.scatter(tmp.index, tmp.mean_, marker='x', color='b', label='predicted', alpha=.7)\n",
    "ax.scatter(tmp2.index, tmp2.mean_, marker='x', color='r', label='predicted m_m1_2', alpha=.7)\n",
    "\n",
    "\n",
    "ax.axvline(5.5, linewidth=1, color='gray')\n",
    "ax.axvline(17.5, linewidth=1, color='gray')\n",
    "\n",
    "ax.set(xticks=[2, 11, 23], xticklabels=['small', 'medium', 'large'],\n",
    "       xlabel='tanks', ylabel='alpha')\n",
    "\n",
    "ax.grid(None)\n",
    "ax.legend(loc='lower right')\n",
    "None"
   ]
  },
  {
   "cell_type": "code",
   "execution_count": 53,
   "metadata": {},
   "outputs": [
    {
     "name": "stderr",
     "output_type": "stream",
     "text": [
      "Auto-assigning NUTS sampler...\n",
      "Initializing NUTS using jitter+adapt_diag...\n",
      "Multiprocess sampling (2 chains in 2 jobs)\n",
      "NUTS: [beta_pred, beta_size, alpha, sigma_bar, alpha_bar]\n",
      "Sampling 2 chains: 100%|██████████| 20000/20000 [01:02<00:00, 317.59draws/s]\n"
     ]
    }
   ],
   "source": [
    "with pm.Model() as m_m1_3:\n",
    "    alpha_bar = pm.Normal('alpha_bar', mu=0, sd=1)\n",
    "    sigma_bar = pm.HalfCauchy('sigma_bar', beta=1.5)\n",
    "\n",
    "    alpha = pm.Normal('alpha', mu=alpha_bar, sd=sigma_bar,\n",
    "                      shape=data.shape[0])\n",
    "\n",
    "    beta_size = pm.Normal('beta_size', mu=0, sd=1)\n",
    "    beta_pred = pm.Normal('beta_pred', mu=0, sd=1)\n",
    "    \n",
    "    p = pm.Deterministic(\n",
    "        'p',\n",
    "        pm.math.invlogit(\n",
    "            1 + alpha[data.index.values]\n",
    "            + beta_size * data.is_big.values\n",
    "            + beta_pred * data.is_pred.values\n",
    "        )\n",
    "    )\n",
    "\n",
    "    surv_obs = pm.Binomial('surv_obs', n=data.density.values, p=p,\n",
    "                           observed=data.surv.values)\n",
    "\n",
    "    m_m1_3.name = 'm_m1_3'\n",
    "    m_m1_3.trace = pm.sample(5000, tune=5000, chains=2)"
   ]
  },
  {
   "cell_type": "code",
   "execution_count": 54,
   "metadata": {},
   "outputs": [
    {
     "data": {
      "image/png": "[encoded data removed]",
      "text/plain": [
       "<Figure size 432x288 with 1 Axes>"
      ]
     },
     "metadata": {
      "needs_background": "light"
     },
     "output_type": "display_data"
    }
   ],
   "source": [
    "pm.forestplot(m_m1_3.trace,\n",
    "              varnames=['alpha_bar', 'sigma_bar', 'beta_size', 'beta_pred'],\n",
    "              rhat=False)\n",
    "None"
   ]
  },
  {
   "cell_type": "code",
   "execution_count": 56,
   "metadata": {},
   "outputs": [
    {
     "data": {
      "image/png": "[encoded data removed]",
      "text/plain": [
       "<Figure size 1120x400 with 1 Axes>"
      ]
     },
     "metadata": {
      "needs_background": "light"
     },
     "output_type": "display_data"
    }
   ],
   "source": [
    "tmp = agg_prediction(m_hier.trace['alpha'], data.reset_index(), ['density', 'propsurv'], summarize())\n",
    "tmp2 = agg_prediction(m_m1_3.trace['alpha'], data.reset_index(), ['density', 'propsurv'], summarize())\n",
    "\n",
    "fig, ax = plt.subplots(1, 1, figsize=(14, 5), dpi=80)\n",
    "\n",
    "ax.scatter(tmp.index, tmp.mean_, marker='x', color='b', label='predicted', alpha=.7)\n",
    "ax.scatter(tmp2.index, tmp2.mean_, marker='x', color='r', label='predicted m_m1_3', alpha=.7)\n",
    "\n",
    "\n",
    "ax.axvline(5.5, linewidth=1, color='gray')\n",
    "ax.axvline(17.5, linewidth=1, color='gray')\n",
    "\n",
    "ax.set(xticks=[2, 11, 23], xticklabels=['small', 'medium', 'large'],\n",
    "       xlabel='tanks', ylabel='alpha')\n",
    "\n",
    "ax.grid(None)\n",
    "ax.legend(loc='lower right')\n",
    "None"
   ]
  },
  {
   "cell_type": "code",
   "execution_count": 57,
   "metadata": {},
   "outputs": [
    {
     "name": "stderr",
     "output_type": "stream",
     "text": [
      "Auto-assigning NUTS sampler...\n",
      "Initializing NUTS using jitter+adapt_diag...\n",
      "Multiprocess sampling (2 chains in 2 jobs)\n",
      "NUTS: [beta_intr, beta_pred, beta_size, alpha, sigma_bar, alpha_bar]\n",
      "Sampling 2 chains: 100%|██████████| 20000/20000 [00:57<00:00, 350.67draws/s]\n",
      "The number of effective samples is smaller than 25% for some parameters.\n"
     ]
    }
   ],
   "source": [
    "with pm.Model() as m_m1_4:\n",
    "    alpha_bar = pm.Normal('alpha_bar', mu=0, sd=1)\n",
    "    sigma_bar = pm.HalfCauchy('sigma_bar', beta=1.5)\n",
    "\n",
    "    alpha = pm.Normal('alpha', mu=alpha_bar, sd=sigma_bar,\n",
    "                      shape=data.shape[0])\n",
    "\n",
    "    beta_size = pm.Normal('beta_size', mu=0, sd=1)\n",
    "    beta_pred = pm.Normal('beta_pred', mu=0, sd=1)\n",
    "    beta_intr = pm.Normal('beta_intr', mu=0, sd=1)\n",
    "\n",
    "    p = pm.Deterministic(\n",
    "        'p',\n",
    "        pm.math.invlogit(\n",
    "            1 + alpha[data.index.values]\n",
    "            + beta_size * data.is_big.values\n",
    "            + beta_pred * data.is_pred.values\n",
    "            + beta_intr * (data.is_big.values * data.is_pred.values)\n",
    "        )\n",
    "    )\n",
    "\n",
    "    surv_obs = pm.Binomial('surv_obs', n=data.density.values, p=p,\n",
    "                           observed=data.surv.values)\n",
    "\n",
    "    m_m1_4.name = 'm_m1_4'\n",
    "    m_m1_4.trace = pm.sample(5000, tune=5000, chains=2)"
   ]
  },
  {
   "cell_type": "code",
   "execution_count": 58,
   "metadata": {},
   "outputs": [
    {
     "data": {
      "image/png": "[encoded data removed]",
      "text/plain": [
       "<Figure size 432x288 with 1 Axes>"
      ]
     },
     "metadata": {
      "needs_background": "light"
     },
     "output_type": "display_data"
    }
   ],
   "source": [
    "pm.forestplot(m_m1_4.trace,\n",
    "              varnames=['alpha_bar', 'sigma_bar', 'beta_size', 'beta_pred', 'beta_intr'],\n",
    "              rhat=False)\n",
    "None"
   ]
  },
  {
   "cell_type": "code",
   "execution_count": 59,
   "metadata": {},
   "outputs": [
    {
     "data": {
      "image/png": "[encoded data removed]",
      "text/plain": [
       "<Figure size 1120x400 with 1 Axes>"
      ]
     },
     "metadata": {
      "needs_background": "light"
     },
     "output_type": "display_data"
    }
   ],
   "source": [
    "tmp = agg_prediction(m_hier.trace['alpha'], data.reset_index(), ['density', 'propsurv'], summarize())\n",
    "tmp2 = agg_prediction(m_m1_4.trace['alpha'], data.reset_index(), ['density', 'propsurv'], summarize())\n",
    "\n",
    "fig, ax = plt.subplots(1, 1, figsize=(14, 5), dpi=80)\n",
    "\n",
    "ax.scatter(tmp.index, tmp.mean_, marker='x', color='b', label='predicted', alpha=.7)\n",
    "ax.scatter(tmp2.index, tmp2.mean_, marker='x', color='r', label='predicted m_m1_4', alpha=.7)\n",
    "\n",
    "\n",
    "ax.axvline(5.5, linewidth=1, color='gray')\n",
    "ax.axvline(17.5, linewidth=1, color='gray')\n",
    "\n",
    "ax.set(xticks=[2, 11, 23], xticklabels=['small', 'medium', 'large'],\n",
    "       xlabel='tanks', ylabel='alpha')\n",
    "\n",
    "ax.grid(None)\n",
    "ax.legend(loc='lower right')\n",
    "None"
   ]
  },
  {
   "cell_type": "code",
   "execution_count": 7,
   "metadata": {},
   "outputs": [
    {
     "name": "stderr",
     "output_type": "stream",
     "text": [
      "Auto-assigning NUTS sampler...\n",
      "Initializing NUTS using jitter+adapt_diag...\n",
      "Multiprocess sampling (2 chains in 2 jobs)\n",
      "NUTS: [beta_intr, beta_pred, alpha, sigma_bar, alpha_bar]\n",
      "Sampling 2 chains: 100%|██████████| 14000/14000 [00:42<00:00, 329.70draws/s]\n"
     ]
    }
   ],
   "source": [
    "with pm.Model() as m_m1_5:\n",
    "    alpha_bar = pm.Normal('alpha_bar', mu=0, sd=1)\n",
    "    sigma_bar = pm.HalfCauchy('sigma_bar', beta=1.5)\n",
    "\n",
    "    alpha = pm.Normal('alpha', mu=alpha_bar, sd=sigma_bar,\n",
    "                      shape=data.shape[0])\n",
    "\n",
    "    beta_pred = pm.Normal('beta_pred', mu=0, sd=1)\n",
    "    beta_intr = pm.Normal('beta_intr', mu=0, sd=1)\n",
    "\n",
    "    p = pm.Deterministic(\n",
    "        'p',\n",
    "        pm.math.invlogit(\n",
    "            2.5 + alpha[data.index.values]\n",
    "            + beta_pred * data.is_pred.values\n",
    "            + beta_intr * (data.is_big.values * data.is_pred.values)\n",
    "        )\n",
    "    )\n",
    "\n",
    "    surv_obs = pm.Binomial('surv_obs', n=data.density.values, p=p,\n",
    "                           observed=data.surv.values)\n",
    "\n",
    "    m_m1_5.name = 'm_m1_5'\n",
    "    m_m1_5.trace = pm.sample(5000, tune=2000, chains=2)"
   ]
  },
  {
   "cell_type": "code",
   "execution_count": 8,
   "metadata": {},
   "outputs": [
    {
     "data": {
      "image/png": "[encoded data removed]",
      "text/plain": [
       "<Figure size 432x288 with 1 Axes>"
      ]
     },
     "metadata": {
      "needs_background": "light"
     },
     "output_type": "display_data"
    }
   ],
   "source": [
    "pm.forestplot(m_m1_5.trace,\n",
    "              varnames=['alpha_bar', 'sigma_bar', 'beta_pred', 'beta_intr'],\n",
    "              rhat=False)\n",
    "None"
   ]
  },
  {
   "cell_type": "code",
   "execution_count": 12,
   "metadata": {},
   "outputs": [
    {
     "data": {
      "image/png": "[encoded data removed]",
      "text/plain": [
       "<Figure size 1120x400 with 1 Axes>"
      ]
     },
     "metadata": {
      "needs_background": "light"
     },
     "output_type": "display_data"
    }
   ],
   "source": [
    "tmp = agg_prediction(m_hier.trace['alpha'], data.reset_index(), ['density', 'propsurv'], summarize())\n",
    "tmp2 = agg_prediction(m_m1_5.trace['alpha'], data.reset_index(), ['density', 'propsurv'], summarize())\n",
    "\n",
    "fig, ax = plt.subplots(1, 1, figsize=(14, 5), dpi=80)\n",
    "\n",
    "ax.scatter(tmp.index, tmp.mean_, marker='x', color='b', label='predicted', alpha=.7)\n",
    "ax.scatter(tmp2.index, tmp2.mean_, marker='x', color='r', label='predicted m_m1_5', alpha=.7)\n",
    "\n",
    "\n",
    "ax.axvline(5.5, linewidth=1, color='gray')\n",
    "ax.axvline(17.5, linewidth=1, color='gray')\n",
    "\n",
    "ax.set(xticks=[2, 11, 23], xticklabels=['small', 'medium', 'large'],\n",
    "       xlabel='tanks', ylabel='alpha')\n",
    "\n",
    "ax.grid(None)\n",
    "ax.legend(loc='lower right')\n",
    "None"
   ]
  },
  {
   "cell_type": "code",
   "execution_count": 14,
   "metadata": {},
   "outputs": [
    {
     "name": "stderr",
     "output_type": "stream",
     "text": [
      "INFO (theano.gof.compilelock): Refreshing lock /home/petrushev/.theano/compiledir_Linux-5.0-arch1-1-ARCH-x86_64-with-arch--3.7.3-64/lock_dir/lock\n",
      "Auto-assigning NUTS sampler...\n",
      "Initializing NUTS using jitter+adapt_diag...\n",
      "Multiprocess sampling (2 chains in 2 jobs)\n",
      "NUTS: [alpha, beta_intr, beta_pred, alpha_sd_bar, alpha_base]\n",
      "Sampling 2 chains: 100%|██████████| 14000/14000 [00:38<00:00, 361.27draws/s]\n"
     ]
    }
   ],
   "source": [
    "with pm.Model() as m_m1_6:\n",
    "    alpha_base = pm.Normal('alpha_base', mu=0, sd=1)\n",
    "    alpha_sd_bar = pm.HalfCauchy('alpha_sd_bar', beta=1.5)\n",
    "    beta_pred = pm.Normal('beta_pred', mu=0, sd=1)\n",
    "    beta_intr = pm.Normal('beta_intr', mu=0, sd=1)\n",
    "\n",
    "    alpha = pm.Normal('alpha', mu=0, sd=alpha_sd_bar,\n",
    "                      shape=data.shape[0])\n",
    "\n",
    "    p = pm.Deterministic(\n",
    "        'p',\n",
    "        pm.math.invlogit(\n",
    "            2.5\n",
    "            + alpha_base\n",
    "            + alpha[data.index.values]\n",
    "            + beta_pred * data.is_pred.values\n",
    "            + beta_intr * (data.is_big.values * data.is_pred.values)\n",
    "        )\n",
    "    )\n",
    "\n",
    "    surv_obs = pm.Binomial('surv_obs', n=data.density.values, p=p,\n",
    "                           observed=data.surv.values)\n",
    "\n",
    "    m_m1_6.name = 'm_m1_6'\n",
    "    m_m1_6.trace = pm.sample(5000, tune=2000, chains=2)"
   ]
  },
  {
   "cell_type": "code",
   "execution_count": 16,
   "metadata": {},
   "outputs": [
    {
     "data": {
      "image/png": "[encoded data removed]",
      "text/plain": [
       "<Figure size 432x288 with 1 Axes>"
      ]
     },
     "metadata": {
      "needs_background": "light"
     },
     "output_type": "display_data"
    }
   ],
   "source": [
    "pm.forestplot(m_m1_6.trace,\n",
    "              varnames=['alpha_base', 'alpha_sd_bar', 'beta_pred', 'beta_intr'],\n",
    "              rhat=False)\n",
    "None"
   ]
  },
  {
   "cell_type": "code",
   "execution_count": null,
   "metadata": {},
   "outputs": [],
   "source": []
  },
  {
   "cell_type": "code",
   "execution_count": 17,
   "metadata": {},
   "outputs": [
    {
     "name": "stderr",
     "output_type": "stream",
     "text": [
      "/home/petrushev/etc/jup_env/lib/python3.7/site-packages/pymc3/stats.py:167: FutureWarning: arrays to stack must be passed as a \"sequence\" type such as list or tuple. Support for non-sequence iterables such as generators is deprecated as of NumPy 1.16 and will raise an error in the future.\n",
      "  return np.stack(logp)\n",
      "/home/petrushev/etc/jup_env/lib/python3.7/site-packages/pymc3/stats.py:218: UserWarning: For one or more samples the posterior variance of the\n",
      "        log predictive densities exceeds 0.4. This could be indication of\n",
      "        WAIC starting to fail see http://arxiv.org/abs/1507.04544 for details\n",
      "        \n",
      "  \"\"\")\n",
      "INFO (theano.gof.compilelock): Refreshing lock /home/petrushev/.theano/compiledir_Linux-5.0-arch1-1-ARCH-x86_64-with-arch--3.7.3-64/lock_dir/lock\n",
      "/home/petrushev/etc/jup_env/lib/python3.7/site-packages/pymc3/stats.py:167: FutureWarning: arrays to stack must be passed as a \"sequence\" type such as list or tuple. Support for non-sequence iterables such as generators is deprecated as of NumPy 1.16 and will raise an error in the future.\n",
      "  return np.stack(logp)\n",
      "/home/petrushev/etc/jup_env/lib/python3.7/site-packages/pymc3/stats.py:218: UserWarning: For one or more samples the posterior variance of the\n",
      "        log predictive densities exceeds 0.4. This could be indication of\n",
      "        WAIC starting to fail see http://arxiv.org/abs/1507.04544 for details\n",
      "        \n",
      "  \"\"\")\n"
     ]
    },
    {
     "data": {
      "text/html": [
       "<div>\n",
       "<style scoped>\n",
       "    .dataframe tbody tr th:only-of-type {\n",
       "        vertical-align: middle;\n",
       "    }\n",
       "\n",
       "    .dataframe tbody tr th {\n",
       "        vertical-align: top;\n",
       "    }\n",
       "\n",
       "    .dataframe thead th {\n",
       "        text-align: right;\n",
       "    }\n",
       "</style>\n",
       "<table border=\"1\" class=\"dataframe\">\n",
       "  <thead>\n",
       "    <tr style=\"text-align: right;\">\n",
       "      <th></th>\n",
       "      <th>WAIC</th>\n",
       "      <th>pWAIC</th>\n",
       "      <th>dWAIC</th>\n",
       "      <th>weight</th>\n",
       "      <th>SE</th>\n",
       "      <th>dSE</th>\n",
       "      <th>var_warn</th>\n",
       "    </tr>\n",
       "  </thead>\n",
       "  <tbody>\n",
       "    <tr>\n",
       "      <th>m_m1_6</th>\n",
       "      <td>198.72</td>\n",
       "      <td>18.66</td>\n",
       "      <td>0</td>\n",
       "      <td>0.36</td>\n",
       "      <td>9.11</td>\n",
       "      <td>0</td>\n",
       "      <td>1</td>\n",
       "    </tr>\n",
       "    <tr>\n",
       "      <th>m_m1_5</th>\n",
       "      <td>199.07</td>\n",
       "      <td>18.84</td>\n",
       "      <td>0.35</td>\n",
       "      <td>0.31</td>\n",
       "      <td>9.18</td>\n",
       "      <td>0.37</td>\n",
       "      <td>1</td>\n",
       "    </tr>\n",
       "    <tr>\n",
       "      <th>hierarchical</th>\n",
       "      <td>200.04</td>\n",
       "      <td>20.95</td>\n",
       "      <td>1.33</td>\n",
       "      <td>0.33</td>\n",
       "      <td>7</td>\n",
       "      <td>6.35</td>\n",
       "      <td>1</td>\n",
       "    </tr>\n",
       "  </tbody>\n",
       "</table>\n",
       "</div>"
      ],
      "text/plain": [
       "                WAIC  pWAIC dWAIC weight    SE   dSE var_warn\n",
       "m_m1_6        198.72  18.66     0   0.36  9.11     0        1\n",
       "m_m1_5        199.07  18.84  0.35   0.31  9.18  0.37        1\n",
       "hierarchical  200.04  20.95  1.33   0.33     7  6.35        1"
      ]
     },
     "execution_count": 17,
     "metadata": {},
     "output_type": "execute_result"
    }
   ],
   "source": [
    "pm.compare({\n",
    "        m_hier: m_hier.trace,\n",
    "#         m_m1_1: m_m1_1.trace,\n",
    "#         m_m1_2: m_m1_2.trace,\n",
    "#         m_m1_3: m_m1_3.trace,\n",
    "#         m_m1_4: m_m1_4.trace,\n",
    "        m_m1_5: m_m1_5.trace,\n",
    "        m_m1_6: m_m1_6.trace,\n",
    "    },\n",
    "    method='BB-pseudo-BMA'\n",
    ")"
   ]
  },
  {
   "cell_type": "markdown",
   "metadata": {},
   "source": [
    "**Note**: Even though `m_m1_5` one more predictor than `m_m1_2`, the number of effective parameters is smaller - perhaps because the variation accross intercepts is smaller."
   ]
  }
 ],
 "metadata": {
  "kernelspec": {
   "display_name": "Python 3",
   "language": "python",
   "name": "python3"
  },
  "language_info": {
   "codemirror_mode": {
    "name": "ipython",
    "version": 3
   },
   "file_extension": ".py",
   "mimetype": "text/x-python",
   "name": "python",
   "nbconvert_exporter": "python",
   "pygments_lexer": "ipython3",
   "version": "3.7.3"
  },
  "toc": {
   "base_numbering": 1,
   "nav_menu": {},
   "number_sections": true,
   "sideBar": true,
   "skip_h1_title": false,
   "title_cell": "Table of Contents",
   "title_sidebar": "Contents",
   "toc_cell": false,
   "toc_position": {},
   "toc_section_display": true,
   "toc_window_display": false
  },
  "varInspector": {
   "cols": {
    "lenName": 16,
    "lenType": 16,
    "lenVar": 40
   },
   "kernels_config": {
    "python": {
     "delete_cmd_postfix": "",
     "delete_cmd_prefix": "del ",
     "library": "var_list.py",
     "varRefreshCmd": "print(var_dic_list())"
    },
    "r": {
     "delete_cmd_postfix": ") ",
     "delete_cmd_prefix": "rm(",
     "library": "var_list.r",
     "varRefreshCmd": "cat(var_dic_list()) "
    }
   },
   "types_to_exclude": [
    "module",
    "function",
    "builtin_function_or_method",
    "instance",
    "_Feature"
   ],
   "window_display": false
  }
 },
 "nbformat": 4,
 "nbformat_minor": 2
}
