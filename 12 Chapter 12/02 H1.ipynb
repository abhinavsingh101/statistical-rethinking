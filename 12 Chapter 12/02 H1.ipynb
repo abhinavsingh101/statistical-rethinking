{
 "cells": [
  {
   "cell_type": "code",
   "execution_count": 1,
   "metadata": {},
   "outputs": [],
   "source": [
    "%matplotlib inline\n",
    "\n",
    "import pandas as pd\n",
    "import pymc3 as pm\n",
    "import matplotlib.pyplot as plt\n",
    "import numpy as np\n",
    "import scipy as sp\n",
    "\n",
    "plt.style.use('seaborn-whitegrid')"
   ]
  },
  {
   "cell_type": "code",
   "execution_count": 21,
   "metadata": {},
   "outputs": [],
   "source": [
    "def summarize(alpha=0.05):\n",
    "\n",
    "    def _summarize(ser):\n",
    "        hpd_ = pm.hpd(ser, alpha=alpha)\n",
    "        return pd.Series({\n",
    "            'mean_': ser.mean(),\n",
    "            'lower': hpd_[0],\n",
    "            'upper': hpd_[1],\n",
    "        })\n",
    "\n",
    "    return _summarize\n",
    "\n",
    "\n",
    "def agg_prediction(trace_var, source_data, group_columns, aggregate_fc):\n",
    "    df = pd.DataFrame(trace_var).stack().reset_index().drop('level_0', axis=1)\n",
    "    merged = pd.merge(\n",
    "        df, source_data[group_columns],\n",
    "        left_on='level_1', right_index=True\n",
    "    )\n",
    "\n",
    "    return (\n",
    "        merged.groupby(group_columns)[0].apply(aggregate_fc)\n",
    "        .unstack().sort_index().reset_index()\n",
    "    )\n"
   ]
  },
  {
   "cell_type": "markdown",
   "metadata": {},
   "source": [
    "**H1** In 1980, a typical Bengali woman could have 5 or more children in her lifetime. By the year 200, a typical Bengali woman had only 2 or 3. You’re going to look at a historical set of data, when contraception was widely available but many families chose not to use it. These data reside in `bangladesh` and come from the 1988 Bangladesh Fertility Survey. Each row is one of 1934 women. There are six variables, but you can focus on three of them for this practice problem:\n",
    "\n",
    "* `district`: ID number of administrative district each woman resided in\n",
    "* `use.contraception`: An indicator (0/1) of whether the woman was using contraception\n",
    "* `urban`: An indicator (0/1) of whether the woman lived in a city, as opposed to living in a\n",
    "rural area\n"
   ]
  },
  {
   "cell_type": "code",
   "execution_count": 2,
   "metadata": {},
   "outputs": [
    {
     "data": {
      "text/html": [
       "<div>\n",
       "<style scoped>\n",
       "    .dataframe tbody tr th:only-of-type {\n",
       "        vertical-align: middle;\n",
       "    }\n",
       "\n",
       "    .dataframe tbody tr th {\n",
       "        vertical-align: top;\n",
       "    }\n",
       "\n",
       "    .dataframe thead th {\n",
       "        text-align: right;\n",
       "    }\n",
       "</style>\n",
       "<table border=\"1\" class=\"dataframe\">\n",
       "  <thead>\n",
       "    <tr style=\"text-align: right;\">\n",
       "      <th></th>\n",
       "      <th>woman</th>\n",
       "      <th>district</th>\n",
       "      <th>use.contraception</th>\n",
       "      <th>living.children</th>\n",
       "      <th>age.centered</th>\n",
       "      <th>urban</th>\n",
       "      <th>district_id</th>\n",
       "    </tr>\n",
       "  </thead>\n",
       "  <tbody>\n",
       "    <tr>\n",
       "      <th>714</th>\n",
       "      <td>715</td>\n",
       "      <td>21</td>\n",
       "      <td>0</td>\n",
       "      <td>4</td>\n",
       "      <td>-3.5599</td>\n",
       "      <td>1</td>\n",
       "      <td>20</td>\n",
       "    </tr>\n",
       "    <tr>\n",
       "      <th>1776</th>\n",
       "      <td>1777</td>\n",
       "      <td>56</td>\n",
       "      <td>1</td>\n",
       "      <td>4</td>\n",
       "      <td>17.4400</td>\n",
       "      <td>0</td>\n",
       "      <td>54</td>\n",
       "    </tr>\n",
       "    <tr>\n",
       "      <th>1110</th>\n",
       "      <td>1111</td>\n",
       "      <td>33</td>\n",
       "      <td>0</td>\n",
       "      <td>3</td>\n",
       "      <td>-2.5599</td>\n",
       "      <td>0</td>\n",
       "      <td>32</td>\n",
       "    </tr>\n",
       "    <tr>\n",
       "      <th>291</th>\n",
       "      <td>292</td>\n",
       "      <td>8</td>\n",
       "      <td>1</td>\n",
       "      <td>1</td>\n",
       "      <td>-10.5590</td>\n",
       "      <td>1</td>\n",
       "      <td>7</td>\n",
       "    </tr>\n",
       "    <tr>\n",
       "      <th>1475</th>\n",
       "      <td>1476</td>\n",
       "      <td>46</td>\n",
       "      <td>0</td>\n",
       "      <td>4</td>\n",
       "      <td>15.4400</td>\n",
       "      <td>0</td>\n",
       "      <td>45</td>\n",
       "    </tr>\n",
       "  </tbody>\n",
       "</table>\n",
       "</div>"
      ],
      "text/plain": [
       "      woman  district  use.contraception  living.children  age.centered  \\\n",
       "714     715        21                  0                4       -3.5599   \n",
       "1776   1777        56                  1                4       17.4400   \n",
       "1110   1111        33                  0                3       -2.5599   \n",
       "291     292         8                  1                1      -10.5590   \n",
       "1475   1476        46                  0                4       15.4400   \n",
       "\n",
       "      urban  district_id  \n",
       "714       1           20  \n",
       "1776      0           54  \n",
       "1110      0           32  \n",
       "291       1            7  \n",
       "1475      0           45  "
      ]
     },
     "execution_count": 2,
     "metadata": {},
     "output_type": "execute_result"
    }
   ],
   "source": [
    "data = pd.read_csv('../data/bangladesh.csv', sep=';')\n",
    "\n",
    "districts = (data.district.drop_duplicates()\n",
    "             .reset_index(drop=True).reset_index()\n",
    "             .set_index('district')['index'].rename('district_id').to_frame())\n",
    "\n",
    "data = pd.merge(data, districts, left_on='district', right_index=True)\n",
    "\n",
    "data.sample(5)"
   ]
  },
  {
   "cell_type": "markdown",
   "metadata": {},
   "source": [
    "Now, focus on predicting `use.contraception`, clustered by `district_id`. Do not include urban just yet. Fit both \n",
    "\n",
    "- (1) a traditional fixed-effects model that uses dummy variables for district and \n",
    "- (2) a multilevel model with varying intercepts for district. \n",
    "\n"
   ]
  },
  {
   "cell_type": "code",
   "execution_count": 3,
   "metadata": {},
   "outputs": [
    {
     "name": "stderr",
     "output_type": "stream",
     "text": [
      "Auto-assigning NUTS sampler...\n",
      "Initializing NUTS using jitter+adapt_diag...\n",
      "Multiprocess sampling (2 chains in 2 jobs)\n",
      "NUTS: [alpha]\n",
      "Sampling 2 chains: 100%|██████████| 12000/12000 [00:30<00:00, 390.17draws/s]\n"
     ]
    }
   ],
   "source": [
    "with pm.Model() as m_no_pooling:\n",
    "    num_districts = data.district_id.nunique()\n",
    "\n",
    "    alpha = pm.Normal('alpha', mu=0, sd=1.5, shape=num_districts)\n",
    "\n",
    "    p = pm.Deterministic(\n",
    "        'p',\n",
    "        pm.math.invlogit(\n",
    "            alpha[data.district_id.values]\n",
    "        )\n",
    "    )\n",
    "    \n",
    "    use_obs = pm.Binomial('use_obs', n=1, p=p,\n",
    "                          observed=data['use.contraception'].values)\n",
    "    \n",
    "    m_no_pooling.name = 'no pooling'\n",
    "    m_no_pooling.trace = pm.sample(5000, tune=1000, chains=2)\n"
   ]
  },
  {
   "cell_type": "code",
   "execution_count": 11,
   "metadata": {},
   "outputs": [
    {
     "data": {
      "image/png": "[encoded data removed]",
      "text/plain": [
       "<Figure size 432x288 with 1 Axes>"
      ]
     },
     "metadata": {
      "needs_background": "light"
     },
     "output_type": "display_data"
    }
   ],
   "source": [
    "tmp = m_no_pooling.trace['alpha'].mean(axis=0)\n",
    "pm.kdeplot(tmp)\n",
    "None"
   ]
  },
  {
   "cell_type": "code",
   "execution_count": 12,
   "metadata": {},
   "outputs": [
    {
     "name": "stderr",
     "output_type": "stream",
     "text": [
      "Auto-assigning NUTS sampler...\n",
      "Initializing NUTS using jitter+adapt_diag...\n",
      "Multiprocess sampling (2 chains in 2 jobs)\n",
      "NUTS: [district_a, district_sd_bar, a]\n",
      "Sampling 2 chains: 100%|██████████| 12000/12000 [00:33<00:00, 363.37draws/s]\n"
     ]
    }
   ],
   "source": [
    "with pm.Model() as m_hier:\n",
    "    num_districts = data.district_id.nunique()\n",
    "\n",
    "    a = pm.Normal('a', mu=0, sd=1)\n",
    "    district_sd_bar = pm.Exponential('district_sd_bar', lam=1)\n",
    "\n",
    "    district_a = pm.Normal('district_a', mu=0, sd=district_sd_bar,\n",
    "                           shape=num_districts)\n",
    "\n",
    "    p = pm.Deterministic(\n",
    "        'p',\n",
    "        pm.math.invlogit(\n",
    "            a + district_a[data.district_id.values]\n",
    "        )\n",
    "    )\n",
    "\n",
    "    use_obs = pm.Binomial('use_obs', n=1, p=p,\n",
    "                          observed=data['use.contraception'].values)\n",
    "\n",
    "    m_hier.name = 'hierarchical'\n",
    "    m_hier.trace = pm.sample(5000, tune=1000, chains=2)\n",
    "    "
   ]
  },
  {
   "cell_type": "code",
   "execution_count": 13,
   "metadata": {},
   "outputs": [
    {
     "data": {
      "image/png": "[encoded data removed]",
      "text/plain": [
       "<Figure size 432x288 with 1 Axes>"
      ]
     },
     "metadata": {
      "needs_background": "light"
     },
     "output_type": "display_data"
    }
   ],
   "source": [
    "pm.forestplot(m_hier.trace, varnames=['a', 'district_sd_bar'], rhat=False)\n",
    "None"
   ]
  },
  {
   "cell_type": "code",
   "execution_count": 16,
   "metadata": {},
   "outputs": [
    {
     "data": {
      "image/png": "[encoded data removed]",
      "text/plain": [
       "<Figure size 960x400 with 1 Axes>"
      ]
     },
     "metadata": {
      "needs_background": "light"
     },
     "output_type": "display_data"
    }
   ],
   "source": [
    "fig = plt.figure(figsize=(12, 5), dpi=80)\n",
    "plt.scatter(np.arange(num_districts), m_no_pooling.trace['alpha'].mean(axis=0),\n",
    "            label='no pooling', alpha=.6)\n",
    "alpha_ = (m_hier.trace['a'].reshape(-1, 1) + m_hier.trace['district_a']).mean(axis=0)\n",
    "plt.scatter(np.arange(num_districts), alpha_,\n",
    "            label='hierarchical', alpha=.6)\n",
    "plt.legend()\n",
    "None"
   ]
  },
  {
   "cell_type": "markdown",
   "metadata": {},
   "source": [
    "Plot the predicted proportions of women in each district using contraception, for both the fixed-effects model and the varying-effects model. That is, make a plot in which district ID is on the horizontal axis and expected proportion using contraception is on the vertical. Make one plot for each model, or layer them on the same plot, as you prefer. How do the models disagree? Can you explain the pattern of disagreement? In particular, can you explain the most extreme cases of disagreement, both why they happen where\n",
    "they do and why the models reach different inferences?\n"
   ]
  },
  {
   "cell_type": "code",
   "execution_count": 25,
   "metadata": {},
   "outputs": [],
   "source": [
    "tmp1 = agg_prediction(m_no_pooling.trace['p'], data, ['district_id'], summarize())\n",
    "tmp2 = agg_prediction(m_hier.trace['p'], data, ['district_id'], summarize())"
   ]
  },
  {
   "cell_type": "code",
   "execution_count": 26,
   "metadata": {},
   "outputs": [
    {
     "data": {
      "image/png": "[encoded data removed]",
      "text/plain": [
       "<Figure size 960x400 with 1 Axes>"
      ]
     },
     "metadata": {
      "needs_background": "light"
     },
     "output_type": "display_data"
    }
   ],
   "source": [
    "fig = plt.figure(figsize=(12, 5), dpi=80)\n",
    "\n",
    "plt.scatter(tmp1.district_id, tmp1.mean_,\n",
    "            label='no pooling', alpha=.6)\n",
    "plt.scatter(tmp2.district_id, tmp2.mean_,\n",
    "            label='hierarchical', alpha=.6)\n",
    "plt.legend()\n",
    "None"
   ]
  },
  {
   "cell_type": "code",
   "execution_count": 53,
   "metadata": {},
   "outputs": [
    {
     "data": {
      "image/png": "[encoded data removed]",
      "text/plain": [
       "<Figure size 720x400 with 1 Axes>"
      ]
     },
     "metadata": {
      "needs_background": "light"
     },
     "output_type": "display_data"
    }
   ],
   "source": [
    "p_joined = tmp1.set_index('district_id')[['mean_']].join(\n",
    "    tmp2.set_index('district_id').mean_.rename('hier_mean')\n",
    ")\n",
    "p_joined = p_joined.join(data.groupby('district_id').woman.nunique().rename('n_women'))\n",
    "p_joined = p_joined.assign(diff_ = p_joined.mean_ - p_joined.hier_mean)\n",
    "p_joined = p_joined.assign(rel_diff = p_joined.diff_/p_joined.hier_mean)\n",
    "\n",
    "fig, ax = plt.subplots(1, 1, figsize=(9, 5), dpi=80)\n",
    "\n",
    "ax.scatter(p_joined.n_women, p_joined.rel_diff)\n",
    "ax.set(xscale='log', xlabel='number of women', ylabel='relative difference')\n",
    "\n",
    "None"
   ]
  },
  {
   "cell_type": "code",
   "execution_count": 27,
   "metadata": {},
   "outputs": [
    {
     "name": "stderr",
     "output_type": "stream",
     "text": [
      "/home/petrushev/etc/jup_env/lib/python3.7/site-packages/pymc3/stats.py:167: FutureWarning: arrays to stack must be passed as a \"sequence\" type such as list or tuple. Support for non-sequence iterables such as generators is deprecated as of NumPy 1.16 and will raise an error in the future.\n",
      "  return np.stack(logp)\n",
      "/home/petrushev/etc/jup_env/lib/python3.7/site-packages/pymc3/stats.py:218: UserWarning: For one or more samples the posterior variance of the\n",
      "        log predictive densities exceeds 0.4. This could be indication of\n",
      "        WAIC starting to fail see http://arxiv.org/abs/1507.04544 for details\n",
      "        \n",
      "  \"\"\")\n",
      "/home/petrushev/etc/jup_env/lib/python3.7/site-packages/pymc3/stats.py:167: FutureWarning: arrays to stack must be passed as a \"sequence\" type such as list or tuple. Support for non-sequence iterables such as generators is deprecated as of NumPy 1.16 and will raise an error in the future.\n",
      "  return np.stack(logp)\n"
     ]
    },
    {
     "data": {
      "text/html": [
       "<div>\n",
       "<style scoped>\n",
       "    .dataframe tbody tr th:only-of-type {\n",
       "        vertical-align: middle;\n",
       "    }\n",
       "\n",
       "    .dataframe tbody tr th {\n",
       "        vertical-align: top;\n",
       "    }\n",
       "\n",
       "    .dataframe thead th {\n",
       "        text-align: right;\n",
       "    }\n",
       "</style>\n",
       "<table border=\"1\" class=\"dataframe\">\n",
       "  <thead>\n",
       "    <tr style=\"text-align: right;\">\n",
       "      <th></th>\n",
       "      <th>WAIC</th>\n",
       "      <th>pWAIC</th>\n",
       "      <th>dWAIC</th>\n",
       "      <th>weight</th>\n",
       "      <th>SE</th>\n",
       "      <th>dSE</th>\n",
       "      <th>var_warn</th>\n",
       "    </tr>\n",
       "  </thead>\n",
       "  <tbody>\n",
       "    <tr>\n",
       "      <th>hierarchical</th>\n",
       "      <td>2514.48</td>\n",
       "      <td>35.48</td>\n",
       "      <td>0</td>\n",
       "      <td>0.81</td>\n",
       "      <td>24.97</td>\n",
       "      <td>0</td>\n",
       "      <td>0</td>\n",
       "    </tr>\n",
       "    <tr>\n",
       "      <th>no pooling</th>\n",
       "      <td>2523.87</td>\n",
       "      <td>53.91</td>\n",
       "      <td>9.38</td>\n",
       "      <td>0.19</td>\n",
       "      <td>28.9</td>\n",
       "      <td>7.78</td>\n",
       "      <td>1</td>\n",
       "    </tr>\n",
       "  </tbody>\n",
       "</table>\n",
       "</div>"
      ],
      "text/plain": [
       "                 WAIC  pWAIC dWAIC weight     SE   dSE var_warn\n",
       "hierarchical  2514.48  35.48     0   0.81  24.97     0        0\n",
       "no pooling    2523.87  53.91  9.38   0.19   28.9  7.78        1"
      ]
     },
     "execution_count": 27,
     "metadata": {},
     "output_type": "execute_result"
    }
   ],
   "source": [
    "pm.compare({\n",
    "    m_no_pooling: m_no_pooling.trace,\n",
    "    m_hier: m_hier.trace,\n",
    "})"
   ]
  },
  {
   "cell_type": "code",
   "execution_count": null,
   "metadata": {},
   "outputs": [],
   "source": []
  }
 ],
 "metadata": {
  "kernelspec": {
   "display_name": "Python 3",
   "language": "python",
   "name": "python3"
  },
  "language_info": {
   "codemirror_mode": {
    "name": "ipython",
    "version": 3
   },
   "file_extension": ".py",
   "mimetype": "text/x-python",
   "name": "python",
   "nbconvert_exporter": "python",
   "pygments_lexer": "ipython3",
   "version": "3.7.3"
  },
  "toc": {
   "base_numbering": 1,
   "nav_menu": {},
   "number_sections": true,
   "sideBar": true,
   "skip_h1_title": false,
   "title_cell": "Table of Contents",
   "title_sidebar": "Contents",
   "toc_cell": false,
   "toc_position": {},
   "toc_section_display": true,
   "toc_window_display": false
  },
  "varInspector": {
   "cols": {
    "lenName": 16,
    "lenType": 16,
    "lenVar": 40
   },
   "kernels_config": {
    "python": {
     "delete_cmd_postfix": "",
     "delete_cmd_prefix": "del ",
     "library": "var_list.py",
     "varRefreshCmd": "print(var_dic_list())"
    },
    "r": {
     "delete_cmd_postfix": ") ",
     "delete_cmd_prefix": "rm(",
     "library": "var_list.r",
     "varRefreshCmd": "cat(var_dic_list()) "
    }
   },
   "types_to_exclude": [
    "module",
    "function",
    "builtin_function_or_method",
    "instance",
    "_Feature"
   ],
   "window_display": false
  }
 },
 "nbformat": 4,
 "nbformat_minor": 2
}
