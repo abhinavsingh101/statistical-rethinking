{
 "cells": [
  {
   "cell_type": "code",
   "execution_count": 55,
   "metadata": {},
   "outputs": [],
   "source": [
    "%matplotlib inline\n",
    "\n",
    "import numpy as np\n",
    "import pandas as pd\n",
    "import pymc3 as pm\n",
    "import matplotlib.pyplot as plt\n",
    "\n",
    "plt.style.use('seaborn-whitegrid')"
   ]
  },
  {
   "cell_type": "code",
   "execution_count": 2,
   "metadata": {},
   "outputs": [],
   "source": [
    "births = pd.DataFrame(dict(\n",
    "    first = [\n",
    "         1,0,0,0,1,1,0,1,0,1,0,0,1,1,0,1,1,0,0,0,1,0,0,0,1,0,\n",
    "         0,0,0,1,1,1,0,1,0,1,1,1,0,1,0,1,1,0,1,0,0,1,1,0,1,0,\n",
    "         0,0,0,0,0,0,1,1,0,1,0,0,1,0,0,0,1,0,0,1,1,1,1,0,1,0,\n",
    "         1,1,1,1,1,0,0,1,0,1,1,0,1,0,1,1,1,0,1,1,1,1],\n",
    "    second = [\n",
    "         0,1,0,1,0,1,1,1,0,0,1,1,1,1,1,0,0,1,1,1,0,0,1,1,1,0,\n",
    "         1,1,1,0,1,1,1,0,1,0,0,1,1,1,1,0,0,1,0,1,1,1,1,1,1,1,\n",
    "         1,1,1,1,1,1,1,1,1,0,1,1,0,1,1,0,1,1,1,0,0,0,0,0,0,1,\n",
    "         0,0,0,1,1,0,0,1,0,0,1,1,0,0,0,1,1,1,0,0,0,0],\n",
    "))"
   ]
  },
  {
   "cell_type": "code",
   "execution_count": 4,
   "metadata": {},
   "outputs": [],
   "source": [
    "n_births = births['first'].count() + births['second'].count()\n",
    "n_boys =  births['first'].sum() + births['second'].sum()\n",
    "\n",
    "first_births = births['first'].count()\n",
    "second_births = n_births - first_births\n",
    "first_boys = births['first'].sum()\n",
    "second_boys = n_boys - first_boys\n",
    "\n",
    "births_after_girl = births[births['first'] == 0]['second'].count()\n",
    "boys_after_girl = births[births['first'] == 0]['second'].sum()"
   ]
  },
  {
   "cell_type": "markdown",
   "metadata": {},
   "source": [
    "**H1** Using grid approximation, compute the posterior distribution for the probability of a birth\n",
    "being a boy. Assume a uniform prior probability. Which parameter value maximizes the posterior\n",
    "probability?\n"
   ]
  },
  {
   "cell_type": "code",
   "execution_count": 7,
   "metadata": {},
   "outputs": [
    {
     "name": "stderr",
     "output_type": "stream",
     "text": [
      "/home/petrushev/etc/jup_env/lib/python3.7/site-packages/pymc3/tuning/starting.py:61: UserWarning: find_MAP should not be used to initialize the NUTS sampler, simply call pymc3.sample() and it will automatically initialize NUTS in a better way.\n",
      "  warnings.warn('find_MAP should not be used to initialize the NUTS sampler, simply call pymc3.sample() and it will automatically initialize NUTS in a better way.')\n",
      "logp = -7.0748, ||grad|| = 11: 100%|██████████| 6/6 [00:00<00:00, 700.18it/s]\n"
     ]
    }
   ],
   "source": [
    "with pm.Model() as model_h1:\n",
    "    # uninformed prior for the gender\n",
    "    p = pm.Uniform('p', lower=0, upper=1)\n",
    "\n",
    "    # both first- and second born are modeled with the same p\n",
    "    boys = pm.Binomial(\n",
    "        'boys',\n",
    "        n=[first_births, second_births],\n",
    "        p=[p, p],\n",
    "        observed=[first_boys, second_boys],\n",
    "    )\n",
    "\n",
    "    start = pm.find_MAP()"
   ]
  },
  {
   "cell_type": "code",
   "execution_count": 8,
   "metadata": {},
   "outputs": [
    {
     "data": {
      "text/plain": [
       "0.5549999989296014"
      ]
     },
     "execution_count": 8,
     "metadata": {},
     "output_type": "execute_result"
    }
   ],
   "source": [
    "np.asscalar(start['p'])"
   ]
  },
  {
   "cell_type": "markdown",
   "metadata": {},
   "source": [
    "**H2** Using the sample function, draw 10,000 random parameter values from the posterior distribution you calculated above. Use these samples to estimate the 50%, 89%, and 97% highest posterior\n",
    "density intervals."
   ]
  },
  {
   "cell_type": "code",
   "execution_count": 10,
   "metadata": {},
   "outputs": [
    {
     "name": "stderr",
     "output_type": "stream",
     "text": [
      "Auto-assigning NUTS sampler...\n",
      "Initializing NUTS using jitter+adapt_diag...\n",
      "Multiprocess sampling (2 chains in 2 jobs)\n",
      "NUTS: [p]\n",
      "Sampling 2 chains: 100%|██████████| 12000/12000 [00:05<00:00, 2040.28draws/s]\n"
     ]
    }
   ],
   "source": [
    "with model_h1:\n",
    "    model_h1.trace = pm.sample(5000, chains=2, tune=1000)"
   ]
  },
  {
   "cell_type": "code",
   "execution_count": 47,
   "metadata": {},
   "outputs": [
    {
     "data": {
      "text/html": [
       "<div>\n",
       "<style scoped>\n",
       "    .dataframe tbody tr th:only-of-type {\n",
       "        vertical-align: middle;\n",
       "    }\n",
       "\n",
       "    .dataframe tbody tr th {\n",
       "        vertical-align: top;\n",
       "    }\n",
       "\n",
       "    .dataframe thead th {\n",
       "        text-align: right;\n",
       "    }\n",
       "</style>\n",
       "<table border=\"1\" class=\"dataframe\">\n",
       "  <thead>\n",
       "    <tr style=\"text-align: right;\">\n",
       "      <th></th>\n",
       "      <th>interval</th>\n",
       "      <th>lower</th>\n",
       "      <th>upper</th>\n",
       "      <th>mean_</th>\n",
       "    </tr>\n",
       "  </thead>\n",
       "  <tbody>\n",
       "    <tr>\n",
       "      <th>0</th>\n",
       "      <td>0.50</td>\n",
       "      <td>0.526177</td>\n",
       "      <td>0.573165</td>\n",
       "      <td>0.554412</td>\n",
       "    </tr>\n",
       "    <tr>\n",
       "      <th>1</th>\n",
       "      <td>0.89</td>\n",
       "      <td>0.498953</td>\n",
       "      <td>0.610093</td>\n",
       "      <td>0.554412</td>\n",
       "    </tr>\n",
       "    <tr>\n",
       "      <th>2</th>\n",
       "      <td>0.97</td>\n",
       "      <td>0.479315</td>\n",
       "      <td>0.629175</td>\n",
       "      <td>0.554412</td>\n",
       "    </tr>\n",
       "  </tbody>\n",
       "</table>\n",
       "</div>"
      ],
      "text/plain": [
       "   interval     lower     upper     mean_\n",
       "0      0.50  0.526177  0.573165  0.554412\n",
       "1      0.89  0.498953  0.610093  0.554412\n",
       "2      0.97  0.479315  0.629175  0.554412"
      ]
     },
     "execution_count": 47,
     "metadata": {},
     "output_type": "execute_result"
    }
   ],
   "source": [
    "p_sample = pm.trace_to_dataframe(model_h1.trace, varnames=['p']).p\n",
    "\n",
    "pd.DataFrame(\n",
    "    [[interval] + list(pm.hpd(p_sample, alpha=1-interval)) + [p_sample.mean()]\n",
    "     for interval in (.50, .89, .97)],\n",
    "    columns=['interval', 'lower', 'upper', 'mean_']\n",
    ")"
   ]
  },
  {
   "cell_type": "markdown",
   "metadata": {},
   "source": [
    "**H3** Use rbinom to simulate 10,000 replicates of 200 births. You should end up with 10,000 numbers, each one a count of boys out of 200 births. Compare the distribution of predicted numbers of boys to the actual count in the data (111 boys out of 200 births). There are many good ways to visualize the simulations, but the dens command (part of the rethinking package) is probably the easiest way in this case. Does it look like the model fits the data well? That is, does the distribution of predictions include the actual observation as a central, likely outcome?"
   ]
  },
  {
   "cell_type": "code",
   "execution_count": 50,
   "metadata": {},
   "outputs": [
    {
     "name": "stderr",
     "output_type": "stream",
     "text": [
      "100%|██████████| 10000/10000 [00:07<00:00, 1282.00it/s]\n"
     ]
    }
   ],
   "source": [
    "with model_h1:\n",
    "    ppc = pm.sample_posterior_predictive(\n",
    "        model_h1.trace,\n",
    "        vars=[boys], samples=10000)"
   ]
  },
  {
   "cell_type": "code",
   "execution_count": 53,
   "metadata": {},
   "outputs": [
    {
     "data": {
      "text/html": [
       "<div>\n",
       "<style scoped>\n",
       "    .dataframe tbody tr th:only-of-type {\n",
       "        vertical-align: middle;\n",
       "    }\n",
       "\n",
       "    .dataframe tbody tr th {\n",
       "        vertical-align: top;\n",
       "    }\n",
       "\n",
       "    .dataframe thead th {\n",
       "        text-align: right;\n",
       "    }\n",
       "</style>\n",
       "<table border=\"1\" class=\"dataframe\">\n",
       "  <thead>\n",
       "    <tr style=\"text-align: right;\">\n",
       "      <th></th>\n",
       "      <th>first</th>\n",
       "      <th>second</th>\n",
       "    </tr>\n",
       "  </thead>\n",
       "  <tbody>\n",
       "    <tr>\n",
       "      <th>8142</th>\n",
       "      <td>53</td>\n",
       "      <td>49</td>\n",
       "    </tr>\n",
       "    <tr>\n",
       "      <th>4504</th>\n",
       "      <td>58</td>\n",
       "      <td>49</td>\n",
       "    </tr>\n",
       "    <tr>\n",
       "      <th>6408</th>\n",
       "      <td>51</td>\n",
       "      <td>54</td>\n",
       "    </tr>\n",
       "    <tr>\n",
       "      <th>385</th>\n",
       "      <td>64</td>\n",
       "      <td>68</td>\n",
       "    </tr>\n",
       "    <tr>\n",
       "      <th>5733</th>\n",
       "      <td>55</td>\n",
       "      <td>49</td>\n",
       "    </tr>\n",
       "  </tbody>\n",
       "</table>\n",
       "</div>"
      ],
      "text/plain": [
       "      first  second\n",
       "8142     53      49\n",
       "4504     58      49\n",
       "6408     51      54\n",
       "385      64      68\n",
       "5733     55      49"
      ]
     },
     "execution_count": 53,
     "metadata": {},
     "output_type": "execute_result"
    }
   ],
   "source": [
    "boys_ppc = pd.DataFrame(ppc['boys'], columns=['first', 'second'])\n",
    "boys_ppc.sample(5)"
   ]
  },
  {
   "cell_type": "code",
   "execution_count": 59,
   "metadata": {},
   "outputs": [
    {
     "data": {
      "image/png": "[encoded data removed]",
      "text/plain": [
       "<Figure size 640x400 with 1 Axes>"
      ]
     },
     "metadata": {},
     "output_type": "display_data"
    }
   ],
   "source": [
    "fig, ax = plt.subplots(1, 1, figsize=(8, 5), dpi=80)\n",
    "ax.hist(boys_ppc['first'] + boys_ppc['second'],\n",
    "        bins=23, density=True, alpha=.4, color='b', label='sampled')\n",
    "ax.axvline(x=n_boys, color='b', label='observed')\n",
    "ax.legend()\n",
    "None"
   ]
  },
  {
   "cell_type": "markdown",
   "metadata": {},
   "source": [
    "**H4** Now compare 10,000 counts of boys from 100 simulated first borns only to the number of boys\n",
    "in the first births, birth1. How does the model look in this light?"
   ]
  },
  {
   "cell_type": "code",
   "execution_count": 60,
   "metadata": {},
   "outputs": [
    {
     "data": {
      "image/png": "[encoded data removed]",
      "text/plain": [
       "<Figure size 640x400 with 1 Axes>"
      ]
     },
     "metadata": {},
     "output_type": "display_data"
    }
   ],
   "source": [
    "fig, ax = plt.subplots(1, 1, figsize=(8, 5), dpi=80)\n",
    "ax.hist(boys_ppc['first'],\n",
    "        bins=22, density=True, alpha=.4, color='b', label='sampled firstborn')\n",
    "ax.axvline(x=first_boys, color='b', label='observed firstborn')\n",
    "ax.legend()\n",
    "None"
   ]
  },
  {
   "cell_type": "markdown",
   "metadata": {},
   "source": [
    "**H5** The model assumes that sex of first and second births are independent. To check this assumption, focus now on second births that followed female first borns.\n",
    "\n",
    "Compare 10,000 simulated counts of boys to only those second births that followed girls.\n",
    "To do this correctly, you need to count the number of first borns who were girls and simulate that many births, 10,000 times. Compare the counts of boys in your simulations to the actual observed count of boys following girls. How does the model look in this light? Any guesses what is going on in these data?\n"
   ]
  },
  {
   "cell_type": "code",
   "execution_count": 65,
   "metadata": {},
   "outputs": [
    {
     "data": {
      "image/png": "[encoded data removed]",
      "text/plain": [
       "<Figure size 595x340 with 1 Axes>"
      ]
     },
     "metadata": {},
     "output_type": "display_data"
    }
   ],
   "source": [
    "fig, ax = plt.subplots(1, 1, figsize=(7, 4), dpi=85)\n",
    "ax.hist(boys_ppc['second']/2, bins=26, density=True, alpha=.4, color='g', label='half of secondborn boys')\n",
    "ax.axvline(x=boys_after_girl, color='y', label='observed boys after girl')\n",
    "ax.axvline(x=(n_boys - boys_after_girl - first_boys), color='b', label='observed boys after boy')\n",
    "ax.legend()\n",
    "None"
   ]
  },
  {
   "cell_type": "markdown",
   "metadata": {},
   "source": [
    "Model the second birth **separately, conditioned** on the first gender"
   ]
  },
  {
   "cell_type": "code",
   "execution_count": 66,
   "metadata": {},
   "outputs": [
    {
     "name": "stderr",
     "output_type": "stream",
     "text": [
      "Auto-assigning NUTS sampler...\n",
      "Initializing NUTS using jitter+adapt_diag...\n",
      "Multiprocess sampling (2 chains in 2 jobs)\n",
      "NUTS: [p2_g, p2_b, p1]\n",
      "Sampling 2 chains: 100%|██████████| 12000/12000 [00:08<00:00, 1450.50draws/s]\n"
     ]
    }
   ],
   "source": [
    "with pm.Model() as model_h5:\n",
    "    p1 = pm.Uniform('p1', lower=0, upper=1)\n",
    "\n",
    "    boys1 = pm.Binomial('boys1', p=p1, n=first_births,\n",
    "                        observed=first_boys)\n",
    "\n",
    "    # two uninformed priors for second born\n",
    "    p2_b = pm.Uniform('p2_b', lower=0, upper=1)\n",
    "    p2_g = pm.Uniform('p2_g', lower=0, upper=1)\n",
    "\n",
    "    # use second _b, _g for inference\n",
    "    boys2_b = pm.Binomial('boys2_b', p=p2_b, n=(n_births - first_births - births_after_girl),\n",
    "                          observed=(n_boys - first_boys - boys_after_girl))\n",
    "    boys2_g = pm.Binomial('boys2_g', p=p2_g, n=births_after_girl,\n",
    "                          observed=boys_after_girl)\n",
    "\n",
    "    model_h5.trace = pm.sample(5000, tune=1000, chains=2)"
   ]
  },
  {
   "cell_type": "code",
   "execution_count": 68,
   "metadata": {},
   "outputs": [
    {
     "data": {
      "text/html": [
       "<div>\n",
       "<style scoped>\n",
       "    .dataframe tbody tr th:only-of-type {\n",
       "        vertical-align: middle;\n",
       "    }\n",
       "\n",
       "    .dataframe tbody tr th {\n",
       "        vertical-align: top;\n",
       "    }\n",
       "\n",
       "    .dataframe thead th {\n",
       "        text-align: right;\n",
       "    }\n",
       "</style>\n",
       "<table border=\"1\" class=\"dataframe\">\n",
       "  <thead>\n",
       "    <tr style=\"text-align: right;\">\n",
       "      <th></th>\n",
       "      <th>mean</th>\n",
       "      <th>sd</th>\n",
       "      <th>mc_error</th>\n",
       "      <th>hpd_2.5</th>\n",
       "      <th>hpd_97.5</th>\n",
       "      <th>n_eff</th>\n",
       "      <th>Rhat</th>\n",
       "    </tr>\n",
       "  </thead>\n",
       "  <tbody>\n",
       "    <tr>\n",
       "      <th>p1</th>\n",
       "      <td>0.509666</td>\n",
       "      <td>0.048672</td>\n",
       "      <td>0.000434</td>\n",
       "      <td>0.412515</td>\n",
       "      <td>0.602438</td>\n",
       "      <td>13192.347632</td>\n",
       "      <td>0.999901</td>\n",
       "    </tr>\n",
       "    <tr>\n",
       "      <th>p2_b</th>\n",
       "      <td>0.415151</td>\n",
       "      <td>0.066587</td>\n",
       "      <td>0.000487</td>\n",
       "      <td>0.286184</td>\n",
       "      <td>0.541124</td>\n",
       "      <td>15413.593704</td>\n",
       "      <td>0.999970</td>\n",
       "    </tr>\n",
       "    <tr>\n",
       "      <th>p2_g</th>\n",
       "      <td>0.784031</td>\n",
       "      <td>0.057677</td>\n",
       "      <td>0.000500</td>\n",
       "      <td>0.666565</td>\n",
       "      <td>0.887501</td>\n",
       "      <td>16633.953240</td>\n",
       "      <td>0.999917</td>\n",
       "    </tr>\n",
       "  </tbody>\n",
       "</table>\n",
       "</div>"
      ],
      "text/plain": [
       "          mean        sd  mc_error   hpd_2.5  hpd_97.5         n_eff      Rhat\n",
       "p1    0.509666  0.048672  0.000434  0.412515  0.602438  13192.347632  0.999901\n",
       "p2_b  0.415151  0.066587  0.000487  0.286184  0.541124  15413.593704  0.999970\n",
       "p2_g  0.784031  0.057677  0.000500  0.666565  0.887501  16633.953240  0.999917"
      ]
     },
     "execution_count": 68,
     "metadata": {},
     "output_type": "execute_result"
    }
   ],
   "source": [
    "pm.summary(model_h5.trace)"
   ]
  },
  {
   "cell_type": "code",
   "execution_count": 69,
   "metadata": {},
   "outputs": [
    {
     "name": "stderr",
     "output_type": "stream",
     "text": [
      "100%|██████████| 10000/10000 [00:13<00:00, 754.44it/s]\n"
     ]
    }
   ],
   "source": [
    "with model_h5:\n",
    "    ppc = pm.sample_posterior_predictive(model_h5.trace, samples=10000)"
   ]
  },
  {
   "cell_type": "code",
   "execution_count": 70,
   "metadata": {},
   "outputs": [
    {
     "data": {
      "text/html": [
       "<div>\n",
       "<style scoped>\n",
       "    .dataframe tbody tr th:only-of-type {\n",
       "        vertical-align: middle;\n",
       "    }\n",
       "\n",
       "    .dataframe tbody tr th {\n",
       "        vertical-align: top;\n",
       "    }\n",
       "\n",
       "    .dataframe thead th {\n",
       "        text-align: right;\n",
       "    }\n",
       "</style>\n",
       "<table border=\"1\" class=\"dataframe\">\n",
       "  <thead>\n",
       "    <tr style=\"text-align: right;\">\n",
       "      <th></th>\n",
       "      <th>boys1</th>\n",
       "      <th>boys2_b</th>\n",
       "      <th>boys2_g</th>\n",
       "    </tr>\n",
       "  </thead>\n",
       "  <tbody>\n",
       "    <tr>\n",
       "      <th>5154</th>\n",
       "      <td>50</td>\n",
       "      <td>18</td>\n",
       "      <td>32</td>\n",
       "    </tr>\n",
       "    <tr>\n",
       "      <th>869</th>\n",
       "      <td>43</td>\n",
       "      <td>22</td>\n",
       "      <td>40</td>\n",
       "    </tr>\n",
       "    <tr>\n",
       "      <th>7868</th>\n",
       "      <td>52</td>\n",
       "      <td>12</td>\n",
       "      <td>38</td>\n",
       "    </tr>\n",
       "    <tr>\n",
       "      <th>1931</th>\n",
       "      <td>64</td>\n",
       "      <td>25</td>\n",
       "      <td>37</td>\n",
       "    </tr>\n",
       "    <tr>\n",
       "      <th>4417</th>\n",
       "      <td>47</td>\n",
       "      <td>14</td>\n",
       "      <td>34</td>\n",
       "    </tr>\n",
       "  </tbody>\n",
       "</table>\n",
       "</div>"
      ],
      "text/plain": [
       "      boys1  boys2_b  boys2_g\n",
       "5154     50       18       32\n",
       "869      43       22       40\n",
       "7868     52       12       38\n",
       "1931     64       25       37\n",
       "4417     47       14       34"
      ]
     },
     "execution_count": 70,
     "metadata": {},
     "output_type": "execute_result"
    }
   ],
   "source": [
    "boys_ppc = pd.DataFrame(ppc)\n",
    "boys_ppc.sample(5)"
   ]
  },
  {
   "cell_type": "code",
   "execution_count": 72,
   "metadata": {},
   "outputs": [
    {
     "data": {
      "image/png": "[encoded data removed]",
      "text/plain": [
       "<Figure size 864x360 with 1 Axes>"
      ]
     },
     "metadata": {},
     "output_type": "display_data"
    }
   ],
   "source": [
    "fig, ax = plt.subplots(1, 1, figsize=(12, 5))\n",
    "ax.axvline(x=boys_after_girl, color='b', label='observed boys after girl')\n",
    "ax.hist(boys_ppc['boys2_g'],\n",
    "        bins=23, density=True, alpha=.4, color='b', label='sampled boys after girl')\n",
    "ax.axvline(x=(n_boys - first_boys - boys_after_girl), color='g', label='observed boys after boy')\n",
    "ax.hist(boys_ppc['boys2_b'],\n",
    "        bins=23, density=True, alpha=.4, color='g', label='sampled boys after boy')\n",
    "ax.legend()\n",
    "None"
   ]
  },
  {
   "cell_type": "code",
   "execution_count": 73,
   "metadata": {},
   "outputs": [
    {
     "data": {
      "image/png": "[encoded data removed]",
      "text/plain": [
       "<Figure size 864x360 with 1 Axes>"
      ]
     },
     "metadata": {},
     "output_type": "display_data"
    }
   ],
   "source": [
    "fig, ax = plt.subplots(1, 1, figsize=(12, 5))\n",
    "ax.axvline(x=n_boys, color='b', label='observed boys')\n",
    "ax.hist(boys_ppc.apply(np.sum, axis=1),\n",
    "        bins=26, density=True, alpha=.4, color='b',label='sampled boys')\n",
    "ax.legend()\n",
    "None"
   ]
  },
  {
   "cell_type": "code",
   "execution_count": null,
   "metadata": {},
   "outputs": [],
   "source": []
  }
 ],
 "metadata": {
  "kernelspec": {
   "display_name": "Python 3",
   "language": "python",
   "name": "python3"
  },
  "language_info": {
   "codemirror_mode": {
    "name": "ipython",
    "version": 3
   },
   "file_extension": ".py",
   "mimetype": "text/x-python",
   "name": "python",
   "nbconvert_exporter": "python",
   "pygments_lexer": "ipython3",
   "version": "3.7.3"
  },
  "toc": {
   "base_numbering": 1,
   "nav_menu": {},
   "number_sections": true,
   "sideBar": true,
   "skip_h1_title": false,
   "title_cell": "Table of Contents",
   "title_sidebar": "Contents",
   "toc_cell": false,
   "toc_position": {},
   "toc_section_display": true,
   "toc_window_display": false
  },
  "varInspector": {
   "cols": {
    "lenName": 16,
    "lenType": 16,
    "lenVar": 40
   },
   "kernels_config": {
    "python": {
     "delete_cmd_postfix": "",
     "delete_cmd_prefix": "del ",
     "library": "var_list.py",
     "varRefreshCmd": "print(var_dic_list())"
    },
    "r": {
     "delete_cmd_postfix": ") ",
     "delete_cmd_prefix": "rm(",
     "library": "var_list.r",
     "varRefreshCmd": "cat(var_dic_list()) "
    }
   },
   "types_to_exclude": [
    "module",
    "function",
    "builtin_function_or_method",
    "instance",
    "_Feature"
   ],
   "window_display": false
  }
 },
 "nbformat": 4,
 "nbformat_minor": 2
}
