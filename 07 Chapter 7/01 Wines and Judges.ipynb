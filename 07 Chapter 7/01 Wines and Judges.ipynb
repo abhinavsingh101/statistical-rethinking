{
 "cells": [
  {
   "cell_type": "code",
   "execution_count": 1,
   "metadata": {},
   "outputs": [],
   "source": [
    "%matplotlib inline\n",
    "\n",
    "import pandas as pd\n",
    "import pymc3 as pm\n",
    "import matplotlib.pyplot as plt\n",
    "from scipy import stats\n",
    "import numpy as np\n",
    "from pandas.plotting import scatter_matrix\n",
    "\n",
    "plt.style.use('seaborn-whitegrid')"
   ]
  },
  {
   "cell_type": "code",
   "execution_count": 2,
   "metadata": {},
   "outputs": [],
   "source": [
    "def summarize(alpha=0.05):\n",
    "\n",
    "    def _summarize(ser):\n",
    "        hpd_ = pm.hpd(ser, alpha=alpha)\n",
    "        return pd.Series({\n",
    "            'mean_': ser.mean(),\n",
    "            'lower': hpd_[0],\n",
    "            'upper': hpd_[1],\n",
    "        })\n",
    "\n",
    "    return _summarize\n",
    "\n",
    "\n",
    "def agg_prediction(trace_var, source_data, group_columns, aggregate_fc):\n",
    "    df = pd.DataFrame(trace_var).stack().reset_index()\n",
    "    merged = pd.merge(\n",
    "        df, source_data,\n",
    "        left_on='level_1', right_index=True\n",
    "    )\n",
    "\n",
    "    return (\n",
    "        merged.groupby(group_columns)[0].apply(aggregate_fc)\n",
    "        .unstack().sort_index().reset_index()\n",
    "    )\n"
   ]
  },
  {
   "cell_type": "code",
   "execution_count": 4,
   "metadata": {},
   "outputs": [
    {
     "data": {
      "text/html": [
       "<div>\n",
       "<style scoped>\n",
       "    .dataframe tbody tr th:only-of-type {\n",
       "        vertical-align: middle;\n",
       "    }\n",
       "\n",
       "    .dataframe tbody tr th {\n",
       "        vertical-align: top;\n",
       "    }\n",
       "\n",
       "    .dataframe thead th {\n",
       "        text-align: right;\n",
       "    }\n",
       "</style>\n",
       "<table border=\"1\" class=\"dataframe\">\n",
       "  <thead>\n",
       "    <tr style=\"text-align: right;\">\n",
       "      <th></th>\n",
       "      <th>judge</th>\n",
       "      <th>flight</th>\n",
       "      <th>wine</th>\n",
       "      <th>score</th>\n",
       "      <th>wine_amer</th>\n",
       "      <th>judge_amer</th>\n",
       "      <th>flight_red</th>\n",
       "    </tr>\n",
       "  </thead>\n",
       "  <tbody>\n",
       "    <tr>\n",
       "      <th>76</th>\n",
       "      <td>Jamal Rayyis</td>\n",
       "      <td>white</td>\n",
       "      <td>G1</td>\n",
       "      <td>12.0</td>\n",
       "      <td>1</td>\n",
       "      <td>0</td>\n",
       "      <td>0</td>\n",
       "    </tr>\n",
       "    <tr>\n",
       "      <th>155</th>\n",
       "      <td>Daniele Meulder</td>\n",
       "      <td>red</td>\n",
       "      <td>F2</td>\n",
       "      <td>15.0</td>\n",
       "      <td>1</td>\n",
       "      <td>0</td>\n",
       "      <td>1</td>\n",
       "    </tr>\n",
       "    <tr>\n",
       "      <th>158</th>\n",
       "      <td>Daniele Meulder</td>\n",
       "      <td>red</td>\n",
       "      <td>I2</td>\n",
       "      <td>10.0</td>\n",
       "      <td>1</td>\n",
       "      <td>0</td>\n",
       "      <td>1</td>\n",
       "    </tr>\n",
       "    <tr>\n",
       "      <th>41</th>\n",
       "      <td>Robert Hodgson</td>\n",
       "      <td>white</td>\n",
       "      <td>B1</td>\n",
       "      <td>11.0</td>\n",
       "      <td>1</td>\n",
       "      <td>1</td>\n",
       "      <td>0</td>\n",
       "    </tr>\n",
       "    <tr>\n",
       "      <th>141</th>\n",
       "      <td>Linda Murphy</td>\n",
       "      <td>red</td>\n",
       "      <td>B2</td>\n",
       "      <td>14.0</td>\n",
       "      <td>0</td>\n",
       "      <td>1</td>\n",
       "      <td>1</td>\n",
       "    </tr>\n",
       "  </tbody>\n",
       "</table>\n",
       "</div>"
      ],
      "text/plain": [
       "               judge flight wine  score  wine_amer  judge_amer  flight_red\n",
       "76      Jamal Rayyis  white   G1   12.0          1           0           0\n",
       "155  Daniele Meulder    red   F2   15.0          1           0           1\n",
       "158  Daniele Meulder    red   I2   10.0          1           0           1\n",
       "41    Robert Hodgson  white   B1   11.0          1           1           0\n",
       "141     Linda Murphy    red   B2   14.0          0           1           1"
      ]
     },
     "execution_count": 4,
     "metadata": {},
     "output_type": "execute_result"
    }
   ],
   "source": [
    "wines = pd.read_csv('../data/Wines2012.csv', sep=';',\n",
    "                    names='judge,flight,wine,score,wine_amer,judge_amer'.split(','),\n",
    "                    skiprows=1)\n",
    "wines = wines.assign(flight_red = (wines.flight == 'red').astype('int'))\n",
    "\n",
    "wines.sample(5)"
   ]
  },
  {
   "cell_type": "code",
   "execution_count": 7,
   "metadata": {},
   "outputs": [
    {
     "name": "stderr",
     "output_type": "stream",
     "text": [
      "/home/petrushev/etc/jup_env/lib/python3.7/site-packages/theano/tensor/subtensor.py:2197: FutureWarning: Using a non-tuple sequence for multidimensional indexing is deprecated; use `arr[tuple(seq)]` instead of `arr[seq]`. In the future this will be interpreted as an array index, `arr[np.array(seq)]`, which will result either in an error or a different result.\n",
      "  rval = inputs[0].__getitem__(inputs[1:])\n",
      "Auto-assigning NUTS sampler...\n",
      "Initializing NUTS using jitter+adapt_diag...\n",
      "/home/petrushev/etc/jup_env/lib/python3.7/site-packages/theano/tensor/subtensor.py:2197: FutureWarning: Using a non-tuple sequence for multidimensional indexing is deprecated; use `arr[tuple(seq)]` instead of `arr[seq]`. In the future this will be interpreted as an array index, `arr[np.array(seq)]`, which will result either in an error or a different result.\n",
      "  rval = inputs[0].__getitem__(inputs[1:])\n",
      "Multiprocess sampling (2 chains in 2 jobs)\n",
      "NUTS: [sigma, beta]\n",
      "/home/petrushev/etc/jup_env/lib/python3.7/site-packages/theano/tensor/subtensor.py:2197: FutureWarning: Using a non-tuple sequence for multidimensional indexing is deprecated; use `arr[tuple(seq)]` instead of `arr[seq]`. In the future this will be interpreted as an array index, `arr[np.array(seq)]`, which will result either in an error or a different result.\n",
      "  rval = inputs[0].__getitem__(inputs[1:])\n",
      "Sampling 2 chains: 100%|██████████| 12000/12000 [00:28<00:00, 418.42draws/s]\n"
     ]
    }
   ],
   "source": [
    "with pm.Model() as m_01:\n",
    "    beta = pm.Normal('beta', mu=0, sd=1, shape=(2, 2, 2))\n",
    "\n",
    "    score_i = pm.Deterministic(\n",
    "        'score',\n",
    "        wines.score.mean()\n",
    "        + beta[tuple([wines.wine_amer.values,\n",
    "                      wines.judge_amer.values,\n",
    "                      wines.flight_red.values])]\n",
    "    )\n",
    "\n",
    "    sigma = pm.HalfCauchy('sigma', beta=5)\n",
    "    score_obs = pm.Normal('score_obs', mu=score_i, sd=sigma,\n",
    "                          observed=wines.score.values)\n",
    "    \n",
    "    m_01.name = 'full interaction'\n",
    "    m_01.trace = pm.sample(5000, tune=1000, chains=2)"
   ]
  },
  {
   "cell_type": "code",
   "execution_count": 8,
   "metadata": {},
   "outputs": [
    {
     "data": {
      "image/png": "[encoded data removed]",
      "text/plain": [
       "<Figure size 432x288 with 1 Axes>"
      ]
     },
     "metadata": {
      "needs_background": "light"
     },
     "output_type": "display_data"
    }
   ],
   "source": [
    "pm.forestplot(m_01.trace, varnames=['beta'], rhat=False)\n",
    "None"
   ]
  },
  {
   "cell_type": "code",
   "execution_count": 13,
   "metadata": {},
   "outputs": [
    {
     "name": "stderr",
     "output_type": "stream",
     "text": [
      "Auto-assigning NUTS sampler...\n",
      "Initializing NUTS using jitter+adapt_diag...\n",
      "Multiprocess sampling (2 chains in 2 jobs)\n",
      "NUTS: [sigma, beta3, beta2, beta1, alpha]\n",
      "Sampling 2 chains: 100%|██████████| 12000/12000 [00:32<00:00, 368.16draws/s]\n"
     ]
    }
   ],
   "source": [
    "with pm.Model() as m_02:\n",
    "    alpha = pm.Normal('alpha', mu=0, sd=1)\n",
    "    beta1 = pm.Normal('beta1', mu=0, sd=1, shape=3)\n",
    "    beta2 = pm.Normal('beta2', mu=0, sd=1, shape=3)\n",
    "    beta3 = pm.Normal('beta3', mu=0, sd=1)\n",
    "\n",
    "    score_i = pm.Deterministic(\n",
    "        'score',\n",
    "        wines.score.mean()\n",
    "        + alpha\n",
    "        + beta1[0] * wines.wine_amer.values\n",
    "        + beta1[1] * wines.judge_amer.values\n",
    "        + beta1[2] * wines.flight_red.values\n",
    "        + beta2[0] * (wines.wine_amer.values * wines.judge_amer.values)\n",
    "        + beta2[1] * (wines.wine_amer.values * wines.flight_red.values)\n",
    "        + beta2[2] * (wines.judge_amer.values * wines.flight_red.values)\n",
    "        + beta3 * (wines.wine_amer.values * wines.judge_amer.values * wines.flight_red.values)\n",
    "    )\n",
    "\n",
    "    sigma = pm.HalfCauchy('sigma', beta=5)\n",
    "    score_obs = pm.Normal('score_obs', mu=score_i, sd=sigma,\n",
    "                          observed=wines.score.values)\n",
    "    \n",
    "    m_02.name = 'full interaction, v2'\n",
    "    m_02.trace = pm.sample(5000, tune=1000, chains=2)"
   ]
  },
  {
   "cell_type": "code",
   "execution_count": 15,
   "metadata": {},
   "outputs": [
    {
     "data": {
      "image/png": "[encoded data removed]",
      "text/plain": [
       "<Figure size 432x288 with 1 Axes>"
      ]
     },
     "metadata": {
      "needs_background": "light"
     },
     "output_type": "display_data"
    }
   ],
   "source": [
    "pm.forestplot(m_02.trace,\n",
    "              varnames=['alpha', 'beta1', 'beta2', 'beta3'],\n",
    "              rhat=False)\n",
    "None"
   ]
  },
  {
   "cell_type": "code",
   "execution_count": 17,
   "metadata": {},
   "outputs": [
    {
     "name": "stderr",
     "output_type": "stream",
     "text": [
      "Auto-assigning NUTS sampler...\n",
      "Initializing NUTS using jitter+adapt_diag...\n",
      "INFO (theano.gof.compilelock): Refreshing lock /home/petrushev/.theano/compiledir_Linux-5.0-arch1-1-ARCH-x86_64-with-arch--3.7.3-64/lock_dir/lock\n",
      "Multiprocess sampling (2 chains in 2 jobs)\n",
      "NUTS: [sigma, beta3, beta2, beta1, alpha]\n",
      "Sampling 2 chains: 100%|██████████| 12000/12000 [00:29<00:00, 400.44draws/s]\n"
     ]
    }
   ],
   "source": [
    "with pm.Model() as m_03:\n",
    "    alpha = pm.Normal('alpha', mu=0, sd=1)\n",
    "    beta1 = pm.Normal('beta1', mu=0, sd=1, shape=2)\n",
    "    beta2 = pm.Normal('beta2', mu=0, sd=1, shape=3)\n",
    "    beta3 = pm.Normal('beta3', mu=0, sd=1)\n",
    "\n",
    "    score_i = pm.Deterministic(\n",
    "        'score',\n",
    "        wines.score.mean()\n",
    "        + alpha\n",
    "        + beta1[0] * wines.judge_amer.values\n",
    "        + beta1[1] * wines.flight_red.values\n",
    "        + beta2[0] * (wines.wine_amer.values * wines.judge_amer.values)\n",
    "        + beta2[1] * (wines.wine_amer.values * wines.flight_red.values)\n",
    "        + beta2[2] * (wines.judge_amer.values * wines.flight_red.values)\n",
    "        + beta3 * (wines.wine_amer.values * wines.judge_amer.values * wines.flight_red.values)\n",
    "    )\n",
    "\n",
    "    sigma = pm.HalfCauchy('sigma', beta=5)\n",
    "    score_obs = pm.Normal('score_obs', mu=score_i, sd=sigma,\n",
    "                          observed=wines.score.values)\n",
    "    \n",
    "    m_03.name = 'full interaction, v3'\n",
    "    m_03.trace = pm.sample(5000, tune=1000, chains=2)"
   ]
  },
  {
   "cell_type": "code",
   "execution_count": 21,
   "metadata": {},
   "outputs": [
    {
     "data": {
      "image/png": "[encoded data removed]",
      "text/plain": [
       "<Figure size 432x288 with 1 Axes>"
      ]
     },
     "metadata": {
      "needs_background": "light"
     },
     "output_type": "display_data"
    }
   ],
   "source": [
    "pm.forestplot(m_03.trace,\n",
    "              varnames=['alpha', 'beta1', 'beta2', 'beta3'],\n",
    "              rhat=False)\n",
    "None"
   ]
  },
  {
   "cell_type": "code",
   "execution_count": 22,
   "metadata": {},
   "outputs": [
    {
     "name": "stderr",
     "output_type": "stream",
     "text": [
      "Auto-assigning NUTS sampler...\n",
      "Initializing NUTS using jitter+adapt_diag...\n",
      "INFO (theano.gof.compilelock): Refreshing lock /home/petrushev/.theano/compiledir_Linux-5.0-arch1-1-ARCH-x86_64-with-arch--3.7.3-64/lock_dir/lock\n",
      "Multiprocess sampling (2 chains in 2 jobs)\n",
      "NUTS: [sigma, beta2, beta1, alpha]\n",
      "Sampling 2 chains: 100%|██████████| 12000/12000 [00:24<00:00, 491.45draws/s]\n"
     ]
    }
   ],
   "source": [
    "with pm.Model() as m_04:\n",
    "    alpha = pm.Normal('alpha', mu=0, sd=1)\n",
    "    beta1 = pm.Normal('beta1', mu=0, sd=1, shape=2)\n",
    "    beta2 = pm.Normal('beta2', mu=0, sd=1, shape=3)\n",
    "\n",
    "    score_i = pm.Deterministic(\n",
    "        'score',\n",
    "        wines.score.mean()\n",
    "        + alpha\n",
    "        + beta1[0] * wines.judge_amer.values\n",
    "        + beta1[1] * wines.flight_red.values\n",
    "        + beta2[0] * (wines.wine_amer.values * wines.judge_amer.values)\n",
    "        + beta2[1] * (wines.wine_amer.values * wines.flight_red.values)\n",
    "        + beta2[2] * (wines.judge_amer.values * wines.flight_red.values)\n",
    "    )\n",
    "\n",
    "    sigma = pm.HalfCauchy('sigma', beta=5)\n",
    "    score_obs = pm.Normal('score_obs', mu=score_i, sd=sigma,\n",
    "                          observed=wines.score.values)\n",
    "    \n",
    "    m_04.name = 'second level interaction'\n",
    "    m_04.trace = pm.sample(5000, tune=1000, chains=2)"
   ]
  },
  {
   "cell_type": "code",
   "execution_count": 24,
   "metadata": {},
   "outputs": [
    {
     "data": {
      "image/png": "[encoded data removed]",
      "text/plain": [
       "<Figure size 432x288 with 1 Axes>"
      ]
     },
     "metadata": {
      "needs_background": "light"
     },
     "output_type": "display_data"
    }
   ],
   "source": [
    "pm.forestplot(m_04.trace,\n",
    "              varnames=['alpha', 'beta1', 'beta2'],\n",
    "              rhat=False)\n",
    "None"
   ]
  },
  {
   "cell_type": "code",
   "execution_count": 29,
   "metadata": {},
   "outputs": [
    {
     "name": "stderr",
     "output_type": "stream",
     "text": [
      "Auto-assigning NUTS sampler...\n",
      "Initializing NUTS using jitter+adapt_diag...\n",
      "INFO (theano.gof.compilelock): Refreshing lock /home/petrushev/.theano/compiledir_Linux-5.0-arch1-1-ARCH-x86_64-with-arch--3.7.3-64/lock_dir/lock\n",
      "Multiprocess sampling (2 chains in 2 jobs)\n",
      "NUTS: [sigma, beta2, beta1, alpha]\n",
      "Sampling 2 chains: 100%|██████████| 12000/12000 [00:21<00:00, 551.70draws/s]\n"
     ]
    }
   ],
   "source": [
    "with pm.Model() as m_05:\n",
    "    alpha = pm.Normal('alpha', mu=0, sd=1)\n",
    "    beta1 = pm.Normal('beta1', mu=0, sd=1, shape=2)\n",
    "    beta2 = pm.Normal('beta2', mu=0, sd=1, shape=2)\n",
    "\n",
    "    score_i = pm.Deterministic(\n",
    "        'score',\n",
    "        wines.score.mean()\n",
    "        + alpha\n",
    "        + beta1[0] * wines.judge_amer.values\n",
    "        + beta1[1] * wines.flight_red.values\n",
    "        + beta2[0] * (wines.wine_amer.values * wines.flight_red.values)\n",
    "        + beta2[1] * (wines.judge_amer.values * wines.flight_red.values)\n",
    "    )\n",
    "\n",
    "    sigma = pm.HalfCauchy('sigma', beta=5)\n",
    "    score_obs = pm.Normal('score_obs', mu=score_i, sd=sigma,\n",
    "                          observed=wines.score.values)\n",
    "    \n",
    "    m_05.name = 'second level interaction, v2'\n",
    "    m_05.trace = pm.sample(5000, tune=1000, chains=2)"
   ]
  },
  {
   "cell_type": "code",
   "execution_count": 30,
   "metadata": {},
   "outputs": [
    {
     "data": {
      "image/png": "[encoded data removed]",
      "text/plain": [
       "<Figure size 432x288 with 1 Axes>"
      ]
     },
     "metadata": {
      "needs_background": "light"
     },
     "output_type": "display_data"
    }
   ],
   "source": [
    "pm.forestplot(m_05.trace,\n",
    "              varnames=['alpha', 'beta1', 'beta2'],\n",
    "              rhat=False)\n",
    "None"
   ]
  },
  {
   "cell_type": "code",
   "execution_count": 31,
   "metadata": {},
   "outputs": [
    {
     "name": "stderr",
     "output_type": "stream",
     "text": [
      "/home/petrushev/etc/jup_env/lib/python3.7/site-packages/theano/tensor/subtensor.py:2197: FutureWarning: Using a non-tuple sequence for multidimensional indexing is deprecated; use `arr[tuple(seq)]` instead of `arr[seq]`. In the future this will be interpreted as an array index, `arr[np.array(seq)]`, which will result either in an error or a different result.\n",
      "  rval = inputs[0].__getitem__(inputs[1:])\n"
     ]
    },
    {
     "data": {
      "text/html": [
       "<div>\n",
       "<style scoped>\n",
       "    .dataframe tbody tr th:only-of-type {\n",
       "        vertical-align: middle;\n",
       "    }\n",
       "\n",
       "    .dataframe tbody tr th {\n",
       "        vertical-align: top;\n",
       "    }\n",
       "\n",
       "    .dataframe thead th {\n",
       "        text-align: right;\n",
       "    }\n",
       "</style>\n",
       "<table border=\"1\" class=\"dataframe\">\n",
       "  <thead>\n",
       "    <tr style=\"text-align: right;\">\n",
       "      <th></th>\n",
       "      <th>WAIC</th>\n",
       "      <th>pWAIC</th>\n",
       "      <th>dWAIC</th>\n",
       "      <th>weight</th>\n",
       "      <th>SE</th>\n",
       "      <th>dSE</th>\n",
       "      <th>var_warn</th>\n",
       "    </tr>\n",
       "  </thead>\n",
       "  <tbody>\n",
       "    <tr>\n",
       "      <th>second level interaction, v2</th>\n",
       "      <td>864.67</td>\n",
       "      <td>4.65</td>\n",
       "      <td>0</td>\n",
       "      <td>1</td>\n",
       "      <td>17.19</td>\n",
       "      <td>0</td>\n",
       "      <td>0</td>\n",
       "    </tr>\n",
       "    <tr>\n",
       "      <th>second level interaction</th>\n",
       "      <td>866.17</td>\n",
       "      <td>5.31</td>\n",
       "      <td>1.5</td>\n",
       "      <td>0</td>\n",
       "      <td>17.07</td>\n",
       "      <td>0.33</td>\n",
       "      <td>0</td>\n",
       "    </tr>\n",
       "    <tr>\n",
       "      <th>full interaction</th>\n",
       "      <td>866.45</td>\n",
       "      <td>6.59</td>\n",
       "      <td>1.78</td>\n",
       "      <td>0</td>\n",
       "      <td>17.46</td>\n",
       "      <td>2.29</td>\n",
       "      <td>0</td>\n",
       "    </tr>\n",
       "    <tr>\n",
       "      <th>full interaction, v3</th>\n",
       "      <td>866.64</td>\n",
       "      <td>5.63</td>\n",
       "      <td>1.97</td>\n",
       "      <td>0</td>\n",
       "      <td>17.16</td>\n",
       "      <td>0.37</td>\n",
       "      <td>0</td>\n",
       "    </tr>\n",
       "    <tr>\n",
       "      <th>full interaction, v2</th>\n",
       "      <td>867.83</td>\n",
       "      <td>6.15</td>\n",
       "      <td>3.16</td>\n",
       "      <td>0</td>\n",
       "      <td>17.16</td>\n",
       "      <td>0.42</td>\n",
       "      <td>0</td>\n",
       "    </tr>\n",
       "  </tbody>\n",
       "</table>\n",
       "</div>"
      ],
      "text/plain": [
       "                                WAIC pWAIC dWAIC weight     SE   dSE var_warn\n",
       "second level interaction, v2  864.67  4.65     0      1  17.19     0        0\n",
       "second level interaction      866.17  5.31   1.5      0  17.07  0.33        0\n",
       "full interaction              866.45  6.59  1.78      0  17.46  2.29        0\n",
       "full interaction, v3          866.64  5.63  1.97      0  17.16  0.37        0\n",
       "full interaction, v2          867.83  6.15  3.16      0  17.16  0.42        0"
      ]
     },
     "execution_count": 31,
     "metadata": {},
     "output_type": "execute_result"
    }
   ],
   "source": [
    "pm.compare({\n",
    "    m_01: m_01.trace,\n",
    "    m_02: m_02.trace,\n",
    "    m_03: m_03.trace,\n",
    "    m_04: m_04.trace,\n",
    "    m_05: m_05.trace,\n",
    "})"
   ]
  },
  {
   "cell_type": "code",
   "execution_count": 66,
   "metadata": {},
   "outputs": [
    {
     "data": {
      "image/png": "[encoded data removed]",
      "text/plain": [
       "<Figure size 480x320 with 2 Axes>"
      ]
     },
     "metadata": {
      "needs_background": "light"
     },
     "output_type": "display_data"
    }
   ],
   "source": [
    "tmp = agg_prediction(m_05.trace['score'], wines,\n",
    "                     ['wine_amer', 'judge_amer', 'flight_red'], summarize())\n",
    "\n",
    "fig, axes = plt.subplots(1, 2, figsize=(6, 4), dpi=80, sharey=True)\n",
    "\n",
    "for j_amer, title in zip((0, 1), ('non-american', 'american')):\n",
    "    ax = axes[j_amer]\n",
    "\n",
    "    for flight, c in zip((0, 1), ('g', 'r')):\n",
    "        sub = tmp[(tmp.judge_amer == j_amer) & (tmp.flight_red == flight)]\n",
    "        data_sub = wines[(wines.judge_amer == j_amer) & (wines.flight_red == flight)]\n",
    "\n",
    "        ax.scatter(data_sub.wine_amer, data_sub.score,\n",
    "                   c=c, marker='.')\n",
    "\n",
    "        ax.plot(sub.wine_amer, sub.mean_, c=c, marker='o')\n",
    "        \n",
    "        ax.set(xticks=[0, 1], xticklabels=['non-american', 'american'],\n",
    "               xlabel='wine', title=f'{title} judge',\n",
    "               xlim=(-.2, 1.2), ylim=(8, 20))\n",
    "        \n",
    "fig.tight_layout()\n",
    "None"
   ]
  },
  {
   "cell_type": "markdown",
   "metadata": {},
   "source": [
    "* American judges give better scores\n",
    "* Non-american red wines score better than non-american white wines\n",
    "* American white wines score better than American red wines\n",
    "* White whines score about the same regardless of origin"
   ]
  },
  {
   "cell_type": "code",
   "execution_count": 67,
   "metadata": {},
   "outputs": [
    {
     "data": {
      "image/png": "[encoded data removed]",
      "text/plain": [
       "<Figure size 240x320 with 1 Axes>"
      ]
     },
     "metadata": {
      "needs_background": "light"
     },
     "output_type": "display_data"
    }
   ],
   "source": [
    "tmp = agg_prediction(m_05.trace['score'], wines,\n",
    "                     ['wine_amer', 'flight_red'], summarize())\n",
    "\n",
    "fig, ax = plt.subplots(1, 1, figsize=(3, 4), dpi=80, sharey=True)\n",
    "\n",
    "\n",
    "for flight, c in zip((0, 1), ('g', 'r')):\n",
    "    sub = tmp[(tmp.flight_red == flight)]\n",
    "    data_sub = wines[(wines.flight_red == flight)]\n",
    "\n",
    "    ax.scatter(data_sub.wine_amer, data_sub.score,\n",
    "               c=c, marker='.')\n",
    "\n",
    "    ax.plot(sub.wine_amer, sub.mean_, c=c, marker='o')\n",
    "\n",
    "    ax.set(xticks=[0, 1], xticklabels=['non-american', 'american'],\n",
    "           xlabel='wine',\n",
    "           xlim=(-.2, 1.2), ylim=(13, 16))\n",
    "        \n",
    "fig.tight_layout()\n",
    "None"
   ]
  }
 ],
 "metadata": {
  "kernelspec": {
   "display_name": "Python 3",
   "language": "python",
   "name": "python3"
  },
  "language_info": {
   "codemirror_mode": {
    "name": "ipython",
    "version": 3
   },
   "file_extension": ".py",
   "mimetype": "text/x-python",
   "name": "python",
   "nbconvert_exporter": "python",
   "pygments_lexer": "ipython3",
   "version": "3.7.3"
  },
  "toc": {
   "base_numbering": 1,
   "nav_menu": {},
   "number_sections": true,
   "sideBar": true,
   "skip_h1_title": false,
   "title_cell": "Table of Contents",
   "title_sidebar": "Contents",
   "toc_cell": false,
   "toc_position": {},
   "toc_section_display": true,
   "toc_window_display": false
  },
  "varInspector": {
   "cols": {
    "lenName": 16,
    "lenType": 16,
    "lenVar": 40
   },
   "kernels_config": {
    "python": {
     "delete_cmd_postfix": "",
     "delete_cmd_prefix": "del ",
     "library": "var_list.py",
     "varRefreshCmd": "print(var_dic_list())"
    },
    "r": {
     "delete_cmd_postfix": ") ",
     "delete_cmd_prefix": "rm(",
     "library": "var_list.r",
     "varRefreshCmd": "cat(var_dic_list()) "
    }
   },
   "types_to_exclude": [
    "module",
    "function",
    "builtin_function_or_method",
    "instance",
    "_Feature"
   ],
   "window_display": false
  }
 },
 "nbformat": 4,
 "nbformat_minor": 2
}
