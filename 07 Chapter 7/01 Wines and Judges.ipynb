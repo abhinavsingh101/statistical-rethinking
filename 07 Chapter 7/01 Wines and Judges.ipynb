{
 "cells": [
  {
   "cell_type": "code",
   "execution_count": 1,
   "metadata": {},
   "outputs": [],
   "source": [
    "%matplotlib inline\n",
    "\n",
    "import pandas as pd\n",
    "import pymc3 as pm\n",
    "import matplotlib.pyplot as plt\n",
    "from scipy import stats\n",
    "import numpy as np\n",
    "from pandas.plotting import scatter_matrix\n",
    "\n",
    "plt.style.use('seaborn-whitegrid')"
   ]
  },
  {
   "cell_type": "code",
   "execution_count": 2,
   "metadata": {},
   "outputs": [],
   "source": [
    "def summarize(alpha=0.05):\n",
    "    \n",
    "    def _summarize(ser):\n",
    "        hpd_ = pm.hpd(ser, alpha=alpha)\n",
    "        return pd.Series({\n",
    "            'mean_': ser.mean(),\n",
    "            'lower': hpd_[0],\n",
    "            'upper': hpd_[1],\n",
    "        })\n",
    "    \n",
    "    return _summarize\n",
    "\n",
    "\n",
    "def agg_prediction(trace_var, source_data, group_columns, aggregate_fc):\n",
    "    df = pd.DataFrame(trace_var).stack().reset_index()\n",
    "    merged = pd.merge(\n",
    "        df, source_data,\n",
    "        left_on='level_1', right_index=True\n",
    "    )\n",
    "\n",
    "    return (\n",
    "        merged.groupby(group_columns)[0].apply(aggregate_fc)\n",
    "        .unstack().sort_index().reset_index()\n",
    "    )"
   ]
  },
  {
   "cell_type": "code",
   "execution_count": 4,
   "metadata": {},
   "outputs": [
    {
     "data": {
      "text/html": [
       "<div>\n",
       "<style scoped>\n",
       "    .dataframe tbody tr th:only-of-type {\n",
       "        vertical-align: middle;\n",
       "    }\n",
       "\n",
       "    .dataframe tbody tr th {\n",
       "        vertical-align: top;\n",
       "    }\n",
       "\n",
       "    .dataframe thead th {\n",
       "        text-align: right;\n",
       "    }\n",
       "</style>\n",
       "<table border=\"1\" class=\"dataframe\">\n",
       "  <thead>\n",
       "    <tr style=\"text-align: right;\">\n",
       "      <th></th>\n",
       "      <th>score</th>\n",
       "      <th>wine_amer</th>\n",
       "      <th>judge_amer</th>\n",
       "      <th>flight_red</th>\n",
       "    </tr>\n",
       "  </thead>\n",
       "  <tbody>\n",
       "    <tr>\n",
       "      <th>157</th>\n",
       "      <td>11.0</td>\n",
       "      <td>1</td>\n",
       "      <td>0</td>\n",
       "      <td>1</td>\n",
       "    </tr>\n",
       "    <tr>\n",
       "      <th>5</th>\n",
       "      <td>13.0</td>\n",
       "      <td>1</td>\n",
       "      <td>0</td>\n",
       "      <td>0</td>\n",
       "    </tr>\n",
       "    <tr>\n",
       "      <th>39</th>\n",
       "      <td>14.0</td>\n",
       "      <td>0</td>\n",
       "      <td>0</td>\n",
       "      <td>0</td>\n",
       "    </tr>\n",
       "    <tr>\n",
       "      <th>151</th>\n",
       "      <td>16.0</td>\n",
       "      <td>0</td>\n",
       "      <td>0</td>\n",
       "      <td>1</td>\n",
       "    </tr>\n",
       "    <tr>\n",
       "      <th>84</th>\n",
       "      <td>15.0</td>\n",
       "      <td>1</td>\n",
       "      <td>1</td>\n",
       "      <td>0</td>\n",
       "    </tr>\n",
       "  </tbody>\n",
       "</table>\n",
       "</div>"
      ],
      "text/plain": [
       "     score  wine_amer  judge_amer  flight_red\n",
       "157   11.0          1           0           1\n",
       "5     13.0          1           0           0\n",
       "39    14.0          0           0           0\n",
       "151   16.0          0           0           1\n",
       "84    15.0          1           1           0"
      ]
     },
     "execution_count": 4,
     "metadata": {},
     "output_type": "execute_result"
    }
   ],
   "source": [
    "wines = pd.read_csv('../data/Wines2012.csv', sep=';',\n",
    "                    names='judge,flight,wine,score,wine_amer,judge_amer'.split(','),\n",
    "                    skiprows=1)\n",
    "wines = wines.assign(flight_red = (wines.flight == 'red').astype('int'))\n",
    "wines = wines.drop(['judge', 'flight', 'wine'], axis=1)\n",
    "wines.sample(5)"
   ]
  },
  {
   "cell_type": "code",
   "execution_count": 7,
   "metadata": {},
   "outputs": [
    {
     "data": {
      "text/html": [
       "<div>\n",
       "<style scoped>\n",
       "    .dataframe tbody tr th:only-of-type {\n",
       "        vertical-align: middle;\n",
       "    }\n",
       "\n",
       "    .dataframe tbody tr th {\n",
       "        vertical-align: top;\n",
       "    }\n",
       "\n",
       "    .dataframe thead th {\n",
       "        text-align: right;\n",
       "    }\n",
       "</style>\n",
       "<table border=\"1\" class=\"dataframe\">\n",
       "  <thead>\n",
       "    <tr style=\"text-align: right;\">\n",
       "      <th></th>\n",
       "      <th>wine_amer</th>\n",
       "      <th>judge_amer</th>\n",
       "      <th>flight_red</th>\n",
       "    </tr>\n",
       "  </thead>\n",
       "  <tbody>\n",
       "    <tr>\n",
       "      <th>0</th>\n",
       "      <td>0</td>\n",
       "      <td>0</td>\n",
       "      <td>0</td>\n",
       "    </tr>\n",
       "    <tr>\n",
       "      <th>1</th>\n",
       "      <td>0</td>\n",
       "      <td>0</td>\n",
       "      <td>1</td>\n",
       "    </tr>\n",
       "    <tr>\n",
       "      <th>2</th>\n",
       "      <td>0</td>\n",
       "      <td>1</td>\n",
       "      <td>0</td>\n",
       "    </tr>\n",
       "    <tr>\n",
       "      <th>3</th>\n",
       "      <td>0</td>\n",
       "      <td>1</td>\n",
       "      <td>1</td>\n",
       "    </tr>\n",
       "    <tr>\n",
       "      <th>4</th>\n",
       "      <td>1</td>\n",
       "      <td>0</td>\n",
       "      <td>0</td>\n",
       "    </tr>\n",
       "    <tr>\n",
       "      <th>5</th>\n",
       "      <td>1</td>\n",
       "      <td>0</td>\n",
       "      <td>1</td>\n",
       "    </tr>\n",
       "    <tr>\n",
       "      <th>6</th>\n",
       "      <td>1</td>\n",
       "      <td>1</td>\n",
       "      <td>0</td>\n",
       "    </tr>\n",
       "    <tr>\n",
       "      <th>7</th>\n",
       "      <td>1</td>\n",
       "      <td>1</td>\n",
       "      <td>1</td>\n",
       "    </tr>\n",
       "  </tbody>\n",
       "</table>\n",
       "</div>"
      ],
      "text/plain": [
       "   wine_amer  judge_amer  flight_red\n",
       "0          0           0           0\n",
       "1          0           0           1\n",
       "2          0           1           0\n",
       "3          0           1           1\n",
       "4          1           0           0\n",
       "5          1           0           1\n",
       "6          1           1           0\n",
       "7          1           1           1"
      ]
     },
     "execution_count": 7,
     "metadata": {},
     "output_type": "execute_result"
    }
   ],
   "source": [
    "train = wines.copy()\n",
    "test = (\n",
    "    wines[['wine_amer', 'judge_amer', 'flight_red']]\n",
    "    .sort_values(['wine_amer', 'judge_amer', 'flight_red'])\n",
    "    .drop_duplicates().reset_index(drop=True)\n",
    ")\n",
    "test"
   ]
  },
  {
   "cell_type": "markdown",
   "metadata": {},
   "source": [
    "**univariate model, judges offset**"
   ]
  },
  {
   "cell_type": "code",
   "execution_count": 8,
   "metadata": {},
   "outputs": [
    {
     "name": "stderr",
     "output_type": "stream",
     "text": [
      "Auto-assigning NUTS sampler...\n",
      "Initializing NUTS using jitter+adapt_diag...\n",
      "Multiprocess sampling (2 chains in 2 jobs)\n",
      "NUTS: [sigma, alpha]\n",
      "Sampling 2 chains: 100%|██████████| 12000/12000 [00:08<00:00, 1336.97draws/s]\n"
     ]
    }
   ],
   "source": [
    "with pm.Model() as model_j:\n",
    "    alpha = pm.Normal('alpha', mu=0, sd=1, shape=2)\n",
    "\n",
    "    score = pm.Deterministic(\n",
    "        'score',\n",
    "        train.score.mean() + alpha[train.judge_amer.values]\n",
    "    )\n",
    "\n",
    "    score_test = pm.Deterministic(\n",
    "        'score_test',\n",
    "        train.score.mean()\n",
    "        + alpha[test.judge_amer.values]\n",
    "    )\n",
    "\n",
    "    score_sigma = pm.HalfCauchy('sigma', 10)\n",
    "    score_obs = pm.Normal('score_obs', mu=score, sd=score_sigma,\n",
    "                          observed=train.score.values)\n",
    "\n",
    "    model_j.name = 'judges'\n",
    "    model_j.trace = pm.sample(5000, tune=1000, chains=2)"
   ]
  },
  {
   "cell_type": "code",
   "execution_count": 13,
   "metadata": {},
   "outputs": [
    {
     "data": {
      "image/png": "[encoded data removed]",
      "text/plain": [
       "<Figure size 432x288 with 1 Axes>"
      ]
     },
     "metadata": {
      "needs_background": "light"
     },
     "output_type": "display_data"
    }
   ],
   "source": [
    "pm.forestplot(model_j.trace, varnames=['alpha'], rhat=False)\n",
    "None"
   ]
  },
  {
   "cell_type": "markdown",
   "metadata": {},
   "source": [
    "**single interaction, flight vs wine**"
   ]
  },
  {
   "cell_type": "code",
   "execution_count": 12,
   "metadata": {},
   "outputs": [
    {
     "name": "stderr",
     "output_type": "stream",
     "text": [
      "/home/petrushev/etc/jup_env/lib/python3.7/site-packages/theano/tensor/subtensor.py:2197: FutureWarning: Using a non-tuple sequence for multidimensional indexing is deprecated; use `arr[tuple(seq)]` instead of `arr[seq]`. In the future this will be interpreted as an array index, `arr[np.array(seq)]`, which will result either in an error or a different result.\n",
      "  rval = inputs[0].__getitem__(inputs[1:])\n",
      "Auto-assigning NUTS sampler...\n",
      "Initializing NUTS using jitter+adapt_diag...\n",
      "/home/petrushev/etc/jup_env/lib/python3.7/site-packages/theano/tensor/subtensor.py:2197: FutureWarning: Using a non-tuple sequence for multidimensional indexing is deprecated; use `arr[tuple(seq)]` instead of `arr[seq]`. In the future this will be interpreted as an array index, `arr[np.array(seq)]`, which will result either in an error or a different result.\n",
      "  rval = inputs[0].__getitem__(inputs[1:])\n",
      "Multiprocess sampling (2 chains in 2 jobs)\n",
      "NUTS: [sigma, beta]\n",
      "Sampling 2 chains: 100%|██████████| 13000/13000 [00:15<00:00, 838.03draws/s] \n"
     ]
    }
   ],
   "source": [
    "with pm.Model() as model_fw:\n",
    "    beta = pm.Normal('beta', mu=0, sd=1, shape=(2, 2))\n",
    "\n",
    "    score = pm.Deterministic(\n",
    "        'score',\n",
    "        train.score.mean()\n",
    "        + beta[train.wine_amer.values, train.flight_red.values]\n",
    "    )\n",
    "\n",
    "    score_test = pm.Deterministic(\n",
    "        'score_test',\n",
    "        train.score.mean()\n",
    "        + beta[test.wine_amer.values, test.flight_red.values]\n",
    "    )\n",
    "\n",
    "    score_sigma = pm.HalfCauchy('sigma', 10)\n",
    "    score_obs = pm.Normal('score_obs', mu=score, sd=score_sigma,\n",
    "                          observed=train.score.values)\n",
    "\n",
    "    model_fw.name = 'wine vs flight'\n",
    "    model_fw.trace = pm.sample(5000, tune=1500, chains=2)"
   ]
  },
  {
   "cell_type": "code",
   "execution_count": 14,
   "metadata": {},
   "outputs": [
    {
     "data": {
      "image/png": "[encoded data removed]",
      "text/plain": [
       "<Figure size 432x288 with 1 Axes>"
      ]
     },
     "metadata": {
      "needs_background": "light"
     },
     "output_type": "display_data"
    }
   ],
   "source": [
    "pm.forestplot(model_fw.trace, varnames=['beta'], rhat=False)\n",
    "None"
   ]
  },
  {
   "cell_type": "markdown",
   "metadata": {},
   "source": [
    "**interaction + judge**"
   ]
  },
  {
   "cell_type": "code",
   "execution_count": 15,
   "metadata": {},
   "outputs": [
    {
     "name": "stderr",
     "output_type": "stream",
     "text": [
      "/home/petrushev/etc/jup_env/lib/python3.7/site-packages/theano/tensor/subtensor.py:2197: FutureWarning: Using a non-tuple sequence for multidimensional indexing is deprecated; use `arr[tuple(seq)]` instead of `arr[seq]`. In the future this will be interpreted as an array index, `arr[np.array(seq)]`, which will result either in an error or a different result.\n",
      "  rval = inputs[0].__getitem__(inputs[1:])\n",
      "Auto-assigning NUTS sampler...\n",
      "Initializing NUTS using jitter+adapt_diag...\n",
      "/home/petrushev/etc/jup_env/lib/python3.7/site-packages/theano/tensor/subtensor.py:2197: FutureWarning: Using a non-tuple sequence for multidimensional indexing is deprecated; use `arr[tuple(seq)]` instead of `arr[seq]`. In the future this will be interpreted as an array index, `arr[np.array(seq)]`, which will result either in an error or a different result.\n",
      "  rval = inputs[0].__getitem__(inputs[1:])\n",
      "Multiprocess sampling (2 chains in 2 jobs)\n",
      "NUTS: [sigma, beta_j, beta]\n",
      "/home/petrushev/etc/jup_env/lib/python3.7/site-packages/theano/tensor/subtensor.py:2197: FutureWarning: Using a non-tuple sequence for multidimensional indexing is deprecated; use `arr[tuple(seq)]` instead of `arr[seq]`. In the future this will be interpreted as an array index, `arr[np.array(seq)]`, which will result either in an error or a different result.\n",
      "  rval = inputs[0].__getitem__(inputs[1:])\n",
      "Sampling 2 chains: 100%|██████████| 13000/13000 [00:25<00:00, 504.83draws/s]\n"
     ]
    }
   ],
   "source": [
    "with pm.Model() as model_fw_j:\n",
    "    beta = pm.Normal('beta', mu=0, sd=1, shape=(2, 2))\n",
    "    beta_j = pm.Normal('beta_j', mu=0, sd=1, shape=2)\n",
    "\n",
    "    score = pm.Deterministic(\n",
    "        'score',\n",
    "        train.score.mean()\n",
    "        + beta[train.wine_amer.values, train.flight_red.values]\n",
    "        + beta_j[train.judge_amer.values]\n",
    "    )\n",
    "\n",
    "    score_test = pm.Deterministic(\n",
    "        'score_test',\n",
    "        train.score.mean()\n",
    "        + beta[test.wine_amer.values, test.flight_red.values]\n",
    "        + beta_j[test.judge_amer.values]\n",
    "    )\n",
    "    \n",
    "    score_sigma = pm.HalfCauchy('sigma', 10)\n",
    "    score_obs = pm.Normal('score_obs', mu=score, sd=score_sigma,\n",
    "                          observed=train.score.values)\n",
    "\n",
    "    model_fw_j.name = 'wine vs flight & judge'\n",
    "    model_fw_j.trace = pm.sample(5000, tune=1500, chains=2)"
   ]
  },
  {
   "cell_type": "code",
   "execution_count": 17,
   "metadata": {},
   "outputs": [
    {
     "data": {
      "image/png": "[encoded data removed]",
      "text/plain": [
       "<Figure size 432x288 with 1 Axes>"
      ]
     },
     "metadata": {
      "needs_background": "light"
     },
     "output_type": "display_data"
    }
   ],
   "source": [
    "pm.forestplot(model_fw_j.trace, varnames=['beta', 'beta_j'], rhat=False)\n",
    "None"
   ]
  },
  {
   "cell_type": "markdown",
   "metadata": {},
   "source": [
    "---"
   ]
  },
  {
   "cell_type": "markdown",
   "metadata": {},
   "source": [
    "**comparison**"
   ]
  },
  {
   "cell_type": "code",
   "execution_count": 19,
   "metadata": {},
   "outputs": [
    {
     "data": {
      "text/html": [
       "<div>\n",
       "<style scoped>\n",
       "    .dataframe tbody tr th:only-of-type {\n",
       "        vertical-align: middle;\n",
       "    }\n",
       "\n",
       "    .dataframe tbody tr th {\n",
       "        vertical-align: top;\n",
       "    }\n",
       "\n",
       "    .dataframe thead th {\n",
       "        text-align: right;\n",
       "    }\n",
       "</style>\n",
       "<table border=\"1\" class=\"dataframe\">\n",
       "  <thead>\n",
       "    <tr style=\"text-align: right;\">\n",
       "      <th></th>\n",
       "      <th>WAIC</th>\n",
       "      <th>pWAIC</th>\n",
       "      <th>dWAIC</th>\n",
       "      <th>weight</th>\n",
       "      <th>SE</th>\n",
       "      <th>dSE</th>\n",
       "      <th>var_warn</th>\n",
       "    </tr>\n",
       "  </thead>\n",
       "  <tbody>\n",
       "    <tr>\n",
       "      <th>wine vs flight &amp; judge</th>\n",
       "      <td>865.02</td>\n",
       "      <td>5.04</td>\n",
       "      <td>0</td>\n",
       "      <td>0.35</td>\n",
       "      <td>16.69</td>\n",
       "      <td>0</td>\n",
       "      <td>0</td>\n",
       "    </tr>\n",
       "    <tr>\n",
       "      <th>judges</th>\n",
       "      <td>865.44</td>\n",
       "      <td>2.7</td>\n",
       "      <td>0.42</td>\n",
       "      <td>0.36</td>\n",
       "      <td>17.07</td>\n",
       "      <td>4.08</td>\n",
       "      <td>0</td>\n",
       "    </tr>\n",
       "    <tr>\n",
       "      <th>wine vs flight</th>\n",
       "      <td>865.92</td>\n",
       "      <td>4.07</td>\n",
       "      <td>0.89</td>\n",
       "      <td>0.29</td>\n",
       "      <td>16.04</td>\n",
       "      <td>3.2</td>\n",
       "      <td>0</td>\n",
       "    </tr>\n",
       "  </tbody>\n",
       "</table>\n",
       "</div>"
      ],
      "text/plain": [
       "                          WAIC pWAIC dWAIC weight     SE   dSE var_warn\n",
       "wine vs flight & judge  865.02  5.04     0   0.35  16.69     0        0\n",
       "judges                  865.44   2.7  0.42   0.36  17.07  4.08        0\n",
       "wine vs flight          865.92  4.07  0.89   0.29  16.04   3.2        0"
      ]
     },
     "execution_count": 19,
     "metadata": {},
     "output_type": "execute_result"
    }
   ],
   "source": [
    "comparison = pm.compare({\n",
    "        model_j: model_j.trace,\n",
    "        model_fw: model_fw.trace,\n",
    "        model_fw_j: model_fw_j.trace,\n",
    "    },\n",
    "    method='BB-pseudo-BMA'\n",
    ")\n",
    "\n",
    "comparison"
   ]
  },
  {
   "cell_type": "markdown",
   "metadata": {},
   "source": [
    "**ensemble model**"
   ]
  },
  {
   "cell_type": "code",
   "execution_count": 20,
   "metadata": {},
   "outputs": [
    {
     "data": {
      "text/html": [
       "<div>\n",
       "<style scoped>\n",
       "    .dataframe tbody tr th:only-of-type {\n",
       "        vertical-align: middle;\n",
       "    }\n",
       "\n",
       "    .dataframe tbody tr th {\n",
       "        vertical-align: top;\n",
       "    }\n",
       "\n",
       "    .dataframe thead th {\n",
       "        text-align: right;\n",
       "    }\n",
       "</style>\n",
       "<table border=\"1\" class=\"dataframe\">\n",
       "  <thead>\n",
       "    <tr style=\"text-align: right;\">\n",
       "      <th></th>\n",
       "      <th>weight</th>\n",
       "    </tr>\n",
       "  </thead>\n",
       "  <tbody>\n",
       "    <tr>\n",
       "      <th>wine vs flight &amp; judge</th>\n",
       "      <td>9722</td>\n",
       "    </tr>\n",
       "    <tr>\n",
       "      <th>judges</th>\n",
       "      <td>10000</td>\n",
       "    </tr>\n",
       "    <tr>\n",
       "      <th>wine vs flight</th>\n",
       "      <td>8055</td>\n",
       "    </tr>\n",
       "  </tbody>\n",
       "</table>\n",
       "</div>"
      ],
      "text/plain": [
       "                        weight\n",
       "wine vs flight & judge    9722\n",
       "judges                   10000\n",
       "wine vs flight            8055"
      ]
     },
     "execution_count": 20,
     "metadata": {},
     "output_type": "execute_result"
    }
   ],
   "source": [
    "nsamples = (comparison.weight / comparison.weight.max() * 10000).astype('int')\n",
    "nsamples.to_frame()"
   ]
  },
  {
   "cell_type": "code",
   "execution_count": 27,
   "metadata": {},
   "outputs": [],
   "source": [
    "mix = pd.concat([\n",
    "    pd.DataFrame(model_j.trace['score_test']).sample(nsamples['judges']),\n",
    "    pd.DataFrame(model_fw.trace['score_test']).sample(nsamples['wine vs flight']),\n",
    "    pd.DataFrame(model_fw_j.trace['score_test']).sample(nsamples['wine vs flight & judge']),\n",
    "\n",
    "], ignore_index=True)#.stack().rename('score_pred').reset_index()\n",
    "\n",
    "mix = agg_prediction(mix, test,\n",
    "                     ['wine_amer', 'judge_amer', 'flight_red'],\n",
    "                     summarize())\n"
   ]
  },
  {
   "cell_type": "code",
   "execution_count": 45,
   "metadata": {},
   "outputs": [
    {
     "data": {
      "image/png": "[encoded data removed]",
      "text/plain": [
       "<Figure size 960x400 with 1 Axes>"
      ]
     },
     "metadata": {
      "needs_background": "light"
     },
     "output_type": "display_data"
    }
   ],
   "source": [
    "fig, ax = plt.subplots(1, 1, figsize=(12, 5), dpi=80)\n",
    "\n",
    "labels = []\n",
    "\n",
    "for ix, row in mix.iterrows():\n",
    "    tmp_true = train[(train.wine_amer == row.wine_amer)\n",
    "                     & (train.judge_amer == row.judge_amer)\n",
    "                     & (train.flight_red == row.flight_red)]\n",
    "\n",
    "    obs = ax.scatter(tmp_true.score, np.ones(tmp_true.shape[0]) * ix, c='b', alpha=.6)\n",
    "\n",
    "    pred = ax.plot((row.lower, row.upper), (ix, ix), c='r')\n",
    "    ax.scatter(row.mean_, ix, c='r', alpha=.6)\n",
    "    \n",
    "    label = (np.array([row.wine_amer, row.judge_amer, row.flight_red])).astype('int')\n",
    "    labels.append(label)\n",
    "    \n",
    "obs.set_label('observed')\n",
    "pred[0].set_label('predicted')\n",
    "\n",
    "ax.axvline(train.score.mean(), label='mean score', c='grey', linestyle='--')\n",
    "    \n",
    "ax.set(\n",
    "    xlabel='score', ylabel='wine-judge-flight combination',\n",
    "    xlim=(6, 20), title='ensamble predictions', ylim=(-0.1, 7.1),\n",
    "    yticks=range(8),yticklabels=labels\n",
    ")\n",
    "\n",
    "fig.legend()\n",
    "None"
   ]
  }
 ],
 "metadata": {
  "kernelspec": {
   "display_name": "Python 3",
   "language": "python",
   "name": "python3"
  },
  "language_info": {
   "codemirror_mode": {
    "name": "ipython",
    "version": 3
   },
   "file_extension": ".py",
   "mimetype": "text/x-python",
   "name": "python",
   "nbconvert_exporter": "python",
   "pygments_lexer": "ipython3",
   "version": "3.7.3"
  },
  "toc": {
   "base_numbering": 1,
   "nav_menu": {},
   "number_sections": true,
   "sideBar": true,
   "skip_h1_title": false,
   "title_cell": "Table of Contents",
   "title_sidebar": "Contents",
   "toc_cell": false,
   "toc_position": {},
   "toc_section_display": true,
   "toc_window_display": false
  },
  "varInspector": {
   "cols": {
    "lenName": 16,
    "lenType": 16,
    "lenVar": 40
   },
   "kernels_config": {
    "python": {
     "delete_cmd_postfix": "",
     "delete_cmd_prefix": "del ",
     "library": "var_list.py",
     "varRefreshCmd": "print(var_dic_list())"
    },
    "r": {
     "delete_cmd_postfix": ") ",
     "delete_cmd_prefix": "rm(",
     "library": "var_list.r",
     "varRefreshCmd": "cat(var_dic_list()) "
    }
   },
   "types_to_exclude": [
    "module",
    "function",
    "builtin_function_or_method",
    "instance",
    "_Feature"
   ],
   "window_display": false
  }
 },
 "nbformat": 4,
 "nbformat_minor": 2
}
