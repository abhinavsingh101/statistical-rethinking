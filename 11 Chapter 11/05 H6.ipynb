{
 "cells": [
  {
   "cell_type": "code",
   "execution_count": 1,
   "metadata": {},
   "outputs": [],
   "source": [
    "%matplotlib inline\n",
    "\n",
    "import pandas as pd\n",
    "import pymc3 as pm\n",
    "import matplotlib.pyplot as plt\n",
    "import numpy as np\n",
    "\n",
    "plt.style.use('seaborn-whitegrid')"
   ]
  },
  {
   "cell_type": "code",
   "execution_count": 2,
   "metadata": {},
   "outputs": [],
   "source": [
    "def summarize(alpha=0.05):\n",
    "\n",
    "    def _summarize(ser):\n",
    "        hpd_ = pm.hpd(ser, alpha=alpha)\n",
    "        return pd.Series({\n",
    "            'mean_': ser.mean(),\n",
    "            'lower': hpd_[0],\n",
    "            'upper': hpd_[1],\n",
    "        })\n",
    "\n",
    "    return _summarize\n",
    "\n",
    "\n",
    "def agg_prediction(trace_var, source_data, group_columns, aggregate_fc):\n",
    "    df = pd.DataFrame(trace_var).stack().reset_index()\n",
    "    merged = pd.merge(\n",
    "        df, source_data,\n",
    "        left_on='level_1', right_index=True\n",
    "    )\n",
    "\n",
    "    return (\n",
    "        merged.groupby(group_columns)[0].apply(aggregate_fc)\n",
    "        .unstack().sort_index().reset_index()\n",
    "    )\n"
   ]
  },
  {
   "cell_type": "markdown",
   "metadata": {},
   "source": [
    "**H6** The data in `Fish` are records of visits to a national park. \n",
    "\n",
    "- `fish_caught` : Number of fish caught during visit\n",
    "- `livebait` : Whether or not group used livebait to fish\n",
    "- `camper` : Whether or not group had a camper\n",
    "- `persons` : Number of adults in group\n",
    "- `child` : Number of children in group\n",
    "- `hours` : Number of hours group spent in park\n",
    "\n",
    "The question of interest is how many fish an average visitor takes per hour, when fishing. The problem is that not everyone tried to fish, so the `fish_caught` numbers are zero-inflated. As with the monks example in the chapter, there is a process that determines who is fishing (working) and another process that determines fish per hour (manuscripts per day), conditional on fishing (working). We want to model both. Otherwise we’ll end up with an underestimate of rate of fish extraction from the park. You will model these data using zero-inflated Poisson GLMs.\n",
    "\n",
    "Predict `fish_caught` as a function of any of the other variables you think are relevant. One thing you must do, however, is use a proper Poisson offset/exposure in the Poisson portion of the zero-inflated model: \n",
    "$\\mu_i =  \\tau_i ~\\alpha~ e^{ ~\\beta x_i }$.\n",
    "Then use the `hours` variable to construct the offset. This will adjust the model for the differing amount of time individuals spent in the park.\n"
   ]
  },
  {
   "cell_type": "code",
   "execution_count": 3,
   "metadata": {},
   "outputs": [
    {
     "data": {
      "text/html": [
       "<div>\n",
       "<style scoped>\n",
       "    .dataframe tbody tr th:only-of-type {\n",
       "        vertical-align: middle;\n",
       "    }\n",
       "\n",
       "    .dataframe tbody tr th {\n",
       "        vertical-align: top;\n",
       "    }\n",
       "\n",
       "    .dataframe thead th {\n",
       "        text-align: right;\n",
       "    }\n",
       "</style>\n",
       "<table border=\"1\" class=\"dataframe\">\n",
       "  <thead>\n",
       "    <tr style=\"text-align: right;\">\n",
       "      <th></th>\n",
       "      <th>fish_caught</th>\n",
       "      <th>livebait</th>\n",
       "      <th>camper</th>\n",
       "      <th>persons</th>\n",
       "      <th>child</th>\n",
       "      <th>hours</th>\n",
       "    </tr>\n",
       "  </thead>\n",
       "  <tbody>\n",
       "    <tr>\n",
       "      <th>87</th>\n",
       "      <td>1</td>\n",
       "      <td>1</td>\n",
       "      <td>1</td>\n",
       "      <td>1</td>\n",
       "      <td>0</td>\n",
       "      <td>9.611</td>\n",
       "    </tr>\n",
       "    <tr>\n",
       "      <th>80</th>\n",
       "      <td>3</td>\n",
       "      <td>1</td>\n",
       "      <td>1</td>\n",
       "      <td>4</td>\n",
       "      <td>1</td>\n",
       "      <td>0.664</td>\n",
       "    </tr>\n",
       "    <tr>\n",
       "      <th>236</th>\n",
       "      <td>2</td>\n",
       "      <td>1</td>\n",
       "      <td>1</td>\n",
       "      <td>2</td>\n",
       "      <td>0</td>\n",
       "      <td>2.583</td>\n",
       "    </tr>\n",
       "    <tr>\n",
       "      <th>60</th>\n",
       "      <td>2</td>\n",
       "      <td>1</td>\n",
       "      <td>0</td>\n",
       "      <td>2</td>\n",
       "      <td>0</td>\n",
       "      <td>2.955</td>\n",
       "    </tr>\n",
       "    <tr>\n",
       "      <th>50</th>\n",
       "      <td>1</td>\n",
       "      <td>1</td>\n",
       "      <td>1</td>\n",
       "      <td>2</td>\n",
       "      <td>1</td>\n",
       "      <td>1.329</td>\n",
       "    </tr>\n",
       "  </tbody>\n",
       "</table>\n",
       "</div>"
      ],
      "text/plain": [
       "     fish_caught  livebait  camper  persons  child  hours\n",
       "87             1         1       1        1      0  9.611\n",
       "80             3         1       1        4      1  0.664\n",
       "236            2         1       1        2      0  2.583\n",
       "60             2         1       0        2      0  2.955\n",
       "50             1         1       1        2      1  1.329"
      ]
     },
     "execution_count": 3,
     "metadata": {},
     "output_type": "execute_result"
    }
   ],
   "source": [
    "data = pd.read_csv('../data/Fish.csv', sep=';')\n",
    "data.sample(5)"
   ]
  },
  {
   "cell_type": "code",
   "execution_count": 5,
   "metadata": {},
   "outputs": [
    {
     "name": "stderr",
     "output_type": "stream",
     "text": [
      "Auto-assigning NUTS sampler...\n",
      "Initializing NUTS using jitter+adapt_diag...\n",
      "Multiprocess sampling (2 chains in 2 jobs)\n",
      "NUTS: [logit_psi, alpha]\n",
      "Sampling 2 chains: 100%|██████████| 12000/12000 [00:10<00:00, 1180.58draws/s]\n"
     ]
    }
   ],
   "source": [
    "with pm.Model() as m_basic:\n",
    "    base_rate = data.fish_caught.sum() / data.hours.sum()\n",
    "    alpha = pm.Exponential('alpha', lam=1/base_rate)\n",
    "\n",
    "    logit_psi = pm.Normal('logit_psi', mu=0, sd=1.5)\n",
    "    psi = pm.Deterministic('psi', pm.math.invlogit(logit_psi)) \n",
    "\n",
    "    fish = pm.Deterministic(\n",
    "        'fish',\n",
    "        data.hours.values * alpha\n",
    "    )\n",
    "\n",
    "    fish_obs = pm.ZeroInflatedPoisson(\n",
    "        'fish_obs',\n",
    "        psi = psi,\n",
    "        theta = fish,\n",
    "        observed = data.fish_caught.values\n",
    "    )\n",
    "    \n",
    "    m_basic.name = 'basic'\n",
    "    m_basic.trace = pm.sample(5000, tune=1000, chains=2)\n",
    "    "
   ]
  },
  {
   "cell_type": "code",
   "execution_count": 6,
   "metadata": {},
   "outputs": [
    {
     "data": {
      "image/png": "[encoded data removed]",
      "text/plain": [
       "<Figure size 432x288 with 1 Axes>"
      ]
     },
     "metadata": {
      "needs_background": "light"
     },
     "output_type": "display_data"
    }
   ],
   "source": [
    "pm.forestplot(m_basic.trace, varnames=['alpha', 'psi'], rhat=False)\n",
    "None"
   ]
  },
  {
   "cell_type": "code",
   "execution_count": 8,
   "metadata": {},
   "outputs": [
    {
     "name": "stderr",
     "output_type": "stream",
     "text": [
      "Auto-assigning NUTS sampler...\n",
      "Initializing NUTS using jitter+adapt_diag...\n",
      "Multiprocess sampling (2 chains in 2 jobs)\n",
      "NUTS: [alpha, beta_psi_bait, logit_psi]\n",
      "Sampling 2 chains: 100%|██████████| 12000/12000 [00:28<00:00, 418.61draws/s]\n"
     ]
    }
   ],
   "source": [
    "with pm.Model() as m_bait:\n",
    "    base_rate = data.fish_caught.sum() / data.hours.sum()\n",
    "\n",
    "    logit_psi = pm.Normal('logit_psi', mu=0, sd=1.5)\n",
    "    beta_psi_bait = pm.Normal('beta_psi_bait', mu=0, sd=1)\n",
    "\n",
    "    alpha = pm.Exponential('alpha', lam=1/base_rate, shape=2)\n",
    "\n",
    "    psi_i = pm.math.invlogit(\n",
    "        logit_psi\n",
    "        + beta_psi_bait * data.livebait.values\n",
    "    )\n",
    "\n",
    "    fish = (\n",
    "        data.hours.values\n",
    "        * alpha[data.livebait.values]\n",
    "    )\n",
    "\n",
    "    fish_obs = pm.ZeroInflatedPoisson(\n",
    "        'fish_obs',\n",
    "        psi = psi_i,\n",
    "        theta = fish,\n",
    "        observed = data.fish_caught.values\n",
    "    )\n",
    "    \n",
    "    m_bait.name = 'livebait'\n",
    "    m_bait.trace = pm.sample(5000, tune=1000, chains=2)\n",
    "    "
   ]
  },
  {
   "cell_type": "code",
   "execution_count": 9,
   "metadata": {},
   "outputs": [
    {
     "data": {
      "image/png": "[encoded data removed]",
      "text/plain": [
       "<Figure size 432x288 with 1 Axes>"
      ]
     },
     "metadata": {
      "needs_background": "light"
     },
     "output_type": "display_data"
    }
   ],
   "source": [
    "pm.forestplot(m_bait.trace, varnames=['alpha', 'logit_psi', 'beta_psi_bait'], rhat=False)\n",
    "None"
   ]
  },
  {
   "cell_type": "code",
   "execution_count": 12,
   "metadata": {},
   "outputs": [
    {
     "name": "stderr",
     "output_type": "stream",
     "text": [
      "Auto-assigning NUTS sampler...\n",
      "Initializing NUTS using jitter+adapt_diag...\n",
      "Multiprocess sampling (2 chains in 2 jobs)\n",
      "NUTS: [alpha, beta_psi_c, beta_psi_bait, logit_psi]\n",
      "Sampling 2 chains: 100%|██████████| 15000/15000 [00:41<00:00, 361.52draws/s]\n"
     ]
    }
   ],
   "source": [
    "with pm.Model() as m_bait_camper:\n",
    "    base_rate = data.fish_caught.sum() / data.hours.sum()\n",
    "\n",
    "    logit_psi = pm.Normal('logit_psi', mu=0, sd=1.5)\n",
    "    beta_psi_bait = pm.Normal('beta_psi_bait', mu=0, sd=1)\n",
    "    beta_psi_c = pm.Normal('beta_psi_c', mu=0, sd=1)\n",
    "\n",
    "    alpha = pm.Exponential('alpha', lam=1/base_rate, shape=2)\n",
    "\n",
    "    psi_i = pm.math.invlogit(\n",
    "        logit_psi\n",
    "        + beta_psi_bait * data.livebait.values\n",
    "        + beta_psi_c * data.camper.values\n",
    "    )\n",
    "\n",
    "    fish = (\n",
    "        data.hours.values\n",
    "        * alpha[data.livebait.values]\n",
    "    )\n",
    "\n",
    "    fish_obs = pm.ZeroInflatedPoisson(\n",
    "        'fish_obs',\n",
    "        psi = psi_i,\n",
    "        theta = fish,\n",
    "        observed = data.fish_caught.values\n",
    "    )\n",
    "    \n",
    "    m_bait_camper.name = 'livebait & camper'\n",
    "    m_bait_camper.trace = pm.sample(5000, tune=2500, chains=2)\n",
    "    "
   ]
  },
  {
   "cell_type": "code",
   "execution_count": 13,
   "metadata": {},
   "outputs": [
    {
     "data": {
      "image/png": "[encoded data removed]",
      "text/plain": [
       "<Figure size 432x288 with 1 Axes>"
      ]
     },
     "metadata": {
      "needs_background": "light"
     },
     "output_type": "display_data"
    }
   ],
   "source": [
    "pm.forestplot(m_bait_camper.trace,\n",
    "              varnames=['logit_psi', 'beta_psi_bait', 'beta_psi_c', 'alpha'],\n",
    "              rhat=False)\n",
    "None"
   ]
  },
  {
   "cell_type": "code",
   "execution_count": 16,
   "metadata": {},
   "outputs": [
    {
     "name": "stderr",
     "output_type": "stream",
     "text": [
      "Auto-assigning NUTS sampler...\n",
      "Initializing NUTS using jitter+adapt_diag...\n",
      "Multiprocess sampling (2 chains in 2 jobs)\n",
      "NUTS: [beta_fish_p, alpha, beta_psi_p, beta_psi_bait, logit_psi]\n",
      "Sampling 2 chains: 100%|██████████| 15000/15000 [01:04<00:00, 234.04draws/s]\n"
     ]
    }
   ],
   "source": [
    "with pm.Model() as m_bait_persons:\n",
    "    base_rate = data.fish_caught.sum() / data.hours.sum()\n",
    "\n",
    "    logit_psi = pm.Normal('logit_psi', mu=0, sd=1.5)\n",
    "    beta_psi_bait = pm.Normal('beta_psi_bait', mu=0, sd=1)\n",
    "    beta_psi_p = pm.Normal('beta_psi_p', mu=0, sd=2)\n",
    "\n",
    "    alpha = pm.Exponential('alpha', lam=1/base_rate, shape=2)\n",
    "    beta_fish_p = pm.Normal('beta_fish_p', mu=0, sd=2)\n",
    "\n",
    "    psi_i = pm.math.invlogit(\n",
    "        logit_psi\n",
    "        + beta_psi_bait * data.livebait.values\n",
    "        + beta_psi_p * data.persons.values\n",
    "    )\n",
    "\n",
    "    fish = (\n",
    "        data.hours.values\n",
    "        * alpha[data.livebait.values]\n",
    "        * pm.math.exp(beta_fish_p * data.persons.values)\n",
    "    )\n",
    "\n",
    "    fish_obs = pm.ZeroInflatedPoisson(\n",
    "        'fish_obs',\n",
    "        psi = psi_i,\n",
    "        theta = fish,\n",
    "        observed = data.fish_caught.values\n",
    "    )\n",
    "    \n",
    "    m_bait_persons.name = 'livebait & persons'\n",
    "    m_bait_persons.trace = pm.sample(5000, tune=2500, chains=2)\n",
    "    "
   ]
  },
  {
   "cell_type": "code",
   "execution_count": 17,
   "metadata": {},
   "outputs": [
    {
     "data": {
      "image/png": "[encoded data removed]",
      "text/plain": [
       "<Figure size 432x288 with 1 Axes>"
      ]
     },
     "metadata": {
      "needs_background": "light"
     },
     "output_type": "display_data"
    }
   ],
   "source": [
    "pm.forestplot(m_bait_persons.trace,\n",
    "              varnames=['logit_psi', 'beta_psi_bait', 'beta_psi_p', 'alpha', 'beta_fish_p'],\n",
    "              rhat=False)\n",
    "None"
   ]
  },
  {
   "cell_type": "code",
   "execution_count": 18,
   "metadata": {},
   "outputs": [
    {
     "name": "stderr",
     "output_type": "stream",
     "text": [
      "Auto-assigning NUTS sampler...\n",
      "Initializing NUTS using jitter+adapt_diag...\n",
      "Multiprocess sampling (2 chains in 2 jobs)\n",
      "NUTS: [beta_fish_p, alpha_bait, beta_psi_multi, logit_psi]\n",
      "Sampling 2 chains: 100%|██████████| 12000/12000 [00:49<00:00, 242.51draws/s]\n"
     ]
    }
   ],
   "source": [
    "with pm.Model() as m_bait_persons_2:\n",
    "    base_rate = data.fish_caught.sum() / data.hours.sum()\n",
    "\n",
    "    logit_psi = pm.Normal('logit_psi', mu=0, sd=1.5)\n",
    "    beta_psi_multi = pm.Normal('beta_psi_multi', mu=0, sd=1)\n",
    "\n",
    "    alpha_bait = pm.Exponential('alpha_bait', lam=1/base_rate, shape=2)\n",
    "    beta_fish_p = pm.Normal('beta_fish_p', mu=0, sd=2)\n",
    "\n",
    "    psi_i = pm.math.invlogit(\n",
    "        logit_psi\n",
    "        + beta_psi_multi * (data.persons.values > 1).astype('int')\n",
    "    )\n",
    "\n",
    "    fish = (\n",
    "        data.hours.values\n",
    "        * alpha_bait[data.livebait.values]\n",
    "        * pm.math.exp(beta_fish_p * data.persons.values)\n",
    "    )\n",
    "\n",
    "    fish_obs = pm.ZeroInflatedPoisson(\n",
    "        'fish_obs',\n",
    "        psi = psi_i,\n",
    "        theta = fish,\n",
    "        observed = data.fish_caught.values\n",
    "    )\n",
    "    \n",
    "    m_bait_persons_2.name = 'livebait & persons, v2'\n",
    "    m_bait_persons_2.trace = pm.sample(5000, tune=1000, chains=2)\n",
    "    "
   ]
  },
  {
   "cell_type": "code",
   "execution_count": 19,
   "metadata": {},
   "outputs": [
    {
     "data": {
      "image/png": "[encoded data removed]",
      "text/plain": [
       "<Figure size 432x288 with 1 Axes>"
      ]
     },
     "metadata": {
      "needs_background": "light"
     },
     "output_type": "display_data"
    }
   ],
   "source": [
    "pm.forestplot(m_bait_persons_2.trace,\n",
    "              varnames=['logit_psi', 'beta_psi_multi', 'alpha_bait', 'beta_fish_p'],\n",
    "              rhat=False)\n",
    "None"
   ]
  },
  {
   "cell_type": "code",
   "execution_count": 20,
   "metadata": {},
   "outputs": [
    {
     "name": "stderr",
     "output_type": "stream",
     "text": [
      "Auto-assigning NUTS sampler...\n",
      "Initializing NUTS using jitter+adapt_diag...\n",
      "Multiprocess sampling (2 chains in 2 jobs)\n",
      "NUTS: [beta_fish_ch, beta_fish_p, alpha_bait, beta_psi_ch, beta_psi_multi, logit_psi]\n",
      "Sampling 2 chains: 100%|██████████| 12000/12000 [00:52<00:00, 229.69draws/s]\n"
     ]
    }
   ],
   "source": [
    "with pm.Model() as m_all:\n",
    "    base_rate = data.fish_caught.sum() / data.hours.sum()\n",
    "\n",
    "    logit_psi = pm.Normal('logit_psi', mu=0, sd=1.5)\n",
    "    beta_psi_multi = pm.Normal('beta_psi_multi', mu=0, sd=1)\n",
    "    beta_psi_ch = pm.Normal('beta_psi_ch', mu=0, sd=2)\n",
    "\n",
    "    alpha_bait = pm.Exponential('alpha_bait', lam=1/base_rate, shape=2)\n",
    "    beta_fish_p = pm.Normal('beta_fish_p', mu=0, sd=2)\n",
    "    beta_fish_ch = pm.Normal('beta_fish_ch', mu=0, sd=2)\n",
    "\n",
    "    psi_i = pm.math.invlogit(\n",
    "        logit_psi\n",
    "        + beta_psi_multi * (data.persons.values > 1).astype('int')\n",
    "        + beta_psi_ch * (data.child.values > 0).astype('int')\n",
    "    )\n",
    "\n",
    "    fish = (\n",
    "        data.hours.values\n",
    "        * alpha_bait[data.livebait.values]\n",
    "        * pm.math.exp(\n",
    "            beta_fish_p * data.persons.values\n",
    "            + beta_fish_ch * data.child.values\n",
    "        )\n",
    "    )\n",
    "\n",
    "    fish_obs = pm.ZeroInflatedPoisson(\n",
    "        'fish_obs',\n",
    "        psi = psi_i,\n",
    "        theta = fish,\n",
    "        observed = data.fish_caught.values\n",
    "    )\n",
    "\n",
    "    m_all.name = 'all'\n",
    "    m_all.trace = pm.sample(5000, tune=1000, chains=2)\n",
    "    "
   ]
  },
  {
   "cell_type": "code",
   "execution_count": 22,
   "metadata": {},
   "outputs": [
    {
     "data": {
      "image/png": "[encoded data removed]",
      "text/plain": [
       "<Figure size 432x288 with 1 Axes>"
      ]
     },
     "metadata": {
      "needs_background": "light"
     },
     "output_type": "display_data"
    }
   ],
   "source": [
    "pm.forestplot(m_all.trace,\n",
    "              varnames=['logit_psi', 'beta_psi_multi', 'beta_psi_ch',\n",
    "                        'alpha_bait', 'beta_fish_p', 'beta_fish_ch'],\n",
    "              rhat=False)\n",
    "None"
   ]
  },
  {
   "cell_type": "code",
   "execution_count": 24,
   "metadata": {},
   "outputs": [
    {
     "name": "stderr",
     "output_type": "stream",
     "text": [
      "/home/petrushev/etc/jup_env/lib/python3.7/site-packages/pymc3/stats.py:218: UserWarning: For one or more samples the posterior variance of the\n",
      "        log predictive densities exceeds 0.4. This could be indication of\n",
      "        WAIC starting to fail see http://arxiv.org/abs/1507.04544 for details\n",
      "        \n",
      "  \"\"\")\n",
      "/home/petrushev/etc/jup_env/lib/python3.7/site-packages/pymc3/stats.py:218: UserWarning: For one or more samples the posterior variance of the\n",
      "        log predictive densities exceeds 0.4. This could be indication of\n",
      "        WAIC starting to fail see http://arxiv.org/abs/1507.04544 for details\n",
      "        \n",
      "  \"\"\")\n",
      "/home/petrushev/etc/jup_env/lib/python3.7/site-packages/pymc3/stats.py:218: UserWarning: For one or more samples the posterior variance of the\n",
      "        log predictive densities exceeds 0.4. This could be indication of\n",
      "        WAIC starting to fail see http://arxiv.org/abs/1507.04544 for details\n",
      "        \n",
      "  \"\"\")\n"
     ]
    },
    {
     "data": {
      "text/html": [
       "<div>\n",
       "<style scoped>\n",
       "    .dataframe tbody tr th:only-of-type {\n",
       "        vertical-align: middle;\n",
       "    }\n",
       "\n",
       "    .dataframe tbody tr th {\n",
       "        vertical-align: top;\n",
       "    }\n",
       "\n",
       "    .dataframe thead th {\n",
       "        text-align: right;\n",
       "    }\n",
       "</style>\n",
       "<table border=\"1\" class=\"dataframe\">\n",
       "  <thead>\n",
       "    <tr style=\"text-align: right;\">\n",
       "      <th></th>\n",
       "      <th>WAIC</th>\n",
       "      <th>pWAIC</th>\n",
       "      <th>dWAIC</th>\n",
       "      <th>weight</th>\n",
       "      <th>SE</th>\n",
       "      <th>dSE</th>\n",
       "      <th>var_warn</th>\n",
       "    </tr>\n",
       "  </thead>\n",
       "  <tbody>\n",
       "    <tr>\n",
       "      <th>all</th>\n",
       "      <td>2139.63</td>\n",
       "      <td>92.5</td>\n",
       "      <td>0</td>\n",
       "      <td>0.52</td>\n",
       "      <td>404.3</td>\n",
       "      <td>0</td>\n",
       "      <td>1</td>\n",
       "    </tr>\n",
       "    <tr>\n",
       "      <th>livebait &amp; persons</th>\n",
       "      <td>2143.83</td>\n",
       "      <td>76.05</td>\n",
       "      <td>4.2</td>\n",
       "      <td>0.37</td>\n",
       "      <td>407.37</td>\n",
       "      <td>45.5</td>\n",
       "      <td>1</td>\n",
       "    </tr>\n",
       "    <tr>\n",
       "      <th>livebait &amp; persons, v2</th>\n",
       "      <td>2150.41</td>\n",
       "      <td>75.38</td>\n",
       "      <td>10.78</td>\n",
       "      <td>0.09</td>\n",
       "      <td>407.41</td>\n",
       "      <td>47.58</td>\n",
       "      <td>1</td>\n",
       "    </tr>\n",
       "    <tr>\n",
       "      <th>livebait</th>\n",
       "      <td>2506.19</td>\n",
       "      <td>47.62</td>\n",
       "      <td>366.56</td>\n",
       "      <td>0.01</td>\n",
       "      <td>470.08</td>\n",
       "      <td>212.94</td>\n",
       "      <td>1</td>\n",
       "    </tr>\n",
       "    <tr>\n",
       "      <th>livebait &amp; camper</th>\n",
       "      <td>2506.52</td>\n",
       "      <td>50.21</td>\n",
       "      <td>366.88</td>\n",
       "      <td>0.01</td>\n",
       "      <td>468.77</td>\n",
       "      <td>211.73</td>\n",
       "      <td>1</td>\n",
       "    </tr>\n",
       "    <tr>\n",
       "      <th>basic</th>\n",
       "      <td>2562.35</td>\n",
       "      <td>42.24</td>\n",
       "      <td>422.72</td>\n",
       "      <td>0.01</td>\n",
       "      <td>483.78</td>\n",
       "      <td>231.85</td>\n",
       "      <td>1</td>\n",
       "    </tr>\n",
       "  </tbody>\n",
       "</table>\n",
       "</div>"
      ],
      "text/plain": [
       "                           WAIC  pWAIC   dWAIC weight      SE     dSE var_warn\n",
       "all                     2139.63   92.5       0   0.52   404.3       0        1\n",
       "livebait & persons      2143.83  76.05     4.2   0.37  407.37    45.5        1\n",
       "livebait & persons, v2  2150.41  75.38   10.78   0.09  407.41   47.58        1\n",
       "livebait                2506.19  47.62  366.56   0.01  470.08  212.94        1\n",
       "livebait & camper       2506.52  50.21  366.88   0.01  468.77  211.73        1\n",
       "basic                   2562.35  42.24  422.72   0.01  483.78  231.85        1"
      ]
     },
     "execution_count": 24,
     "metadata": {},
     "output_type": "execute_result"
    }
   ],
   "source": [
    "comparison = pm.compare({\n",
    "        m_basic: m_basic.trace,\n",
    "        m_bait: m_bait.trace,\n",
    "        m_bait_persons_2: m_bait_persons_2.trace,\n",
    "        m_all: m_all.trace,\n",
    "        m_bait_camper: m_bait_camper.trace,\n",
    "        m_bait_persons: m_bait_persons.trace,\n",
    "    },\n",
    "    method='BB-pseudo-BMA'\n",
    ")\n",
    "comparison"
   ]
  }
 ],
 "metadata": {
  "kernelspec": {
   "display_name": "Python 3",
   "language": "python",
   "name": "python3"
  },
  "language_info": {
   "codemirror_mode": {
    "name": "ipython",
    "version": 3
   },
   "file_extension": ".py",
   "mimetype": "text/x-python",
   "name": "python",
   "nbconvert_exporter": "python",
   "pygments_lexer": "ipython3",
   "version": "3.7.3"
  },
  "toc": {
   "base_numbering": 1,
   "nav_menu": {},
   "number_sections": true,
   "sideBar": true,
   "skip_h1_title": false,
   "title_cell": "Table of Contents",
   "title_sidebar": "Contents",
   "toc_cell": false,
   "toc_position": {},
   "toc_section_display": true,
   "toc_window_display": false
  },
  "varInspector": {
   "cols": {
    "lenName": 16,
    "lenType": 16,
    "lenVar": 40
   },
   "kernels_config": {
    "python": {
     "delete_cmd_postfix": "",
     "delete_cmd_prefix": "del ",
     "library": "var_list.py",
     "varRefreshCmd": "print(var_dic_list())"
    },
    "r": {
     "delete_cmd_postfix": ") ",
     "delete_cmd_prefix": "rm(",
     "library": "var_list.r",
     "varRefreshCmd": "cat(var_dic_list()) "
    }
   },
   "types_to_exclude": [
    "module",
    "function",
    "builtin_function_or_method",
    "instance",
    "_Feature"
   ],
   "window_display": false
  }
 },
 "nbformat": 4,
 "nbformat_minor": 2
}
