{
 "cells": [
  {
   "cell_type": "code",
   "execution_count": 1,
   "metadata": {},
   "outputs": [
    {
     "name": "stderr",
     "output_type": "stream",
     "text": [
      "WARNING (theano.tensor.blas): Using NumPy C-API based implementation for BLAS functions.\n"
     ]
    }
   ],
   "source": [
    "%matplotlib inline\n",
    "\n",
    "import gc\n",
    "import pandas as pd\n",
    "import pymc3 as pm\n",
    "import matplotlib.pyplot as plt\n",
    "from scipy import stats\n",
    "import scipy as sp\n",
    "import numpy as np\n",
    "import theano.tensor as tt\n",
    "\n",
    "plt.style.use('seaborn-whitegrid')"
   ]
  },
  {
   "cell_type": "code",
   "execution_count": 2,
   "metadata": {},
   "outputs": [],
   "source": [
    "def summarize(alpha=0.05):\n",
    "\n",
    "    def _summarize(ser):\n",
    "        hpd_ = pm.hpd(ser, alpha=alpha)\n",
    "        return pd.Series({\n",
    "            'mean_': ser.mean(),\n",
    "            'lower': hpd_[0],\n",
    "            'upper': hpd_[1],\n",
    "        })\n",
    "\n",
    "    return _summarize\n",
    "\n",
    "\n",
    "def agg_prediction(trace_var, source_data, group_columns, aggregate_fc):\n",
    "    df = pd.DataFrame(trace_var).stack().reset_index()\n",
    "    merged = pd.merge(\n",
    "        df, source_data,\n",
    "        left_on='level_1', right_index=True\n",
    "    )\n",
    "\n",
    "    return (\n",
    "        merged.groupby(group_columns)[0].apply(aggregate_fc)\n",
    "        .unstack().sort_index().reset_index()\n",
    "    )\n"
   ]
  },
  {
   "cell_type": "markdown",
   "metadata": {},
   "source": [
    "**11.1. Ordered categorical outcomes**"
   ]
  },
  {
   "cell_type": "code",
   "execution_count": 3,
   "metadata": {},
   "outputs": [
    {
     "data": {
      "text/html": [
       "<div>\n",
       "<style scoped>\n",
       "    .dataframe tbody tr th:only-of-type {\n",
       "        vertical-align: middle;\n",
       "    }\n",
       "\n",
       "    .dataframe tbody tr th {\n",
       "        vertical-align: top;\n",
       "    }\n",
       "\n",
       "    .dataframe thead th {\n",
       "        text-align: right;\n",
       "    }\n",
       "</style>\n",
       "<table border=\"1\" class=\"dataframe\">\n",
       "  <thead>\n",
       "    <tr style=\"text-align: right;\">\n",
       "      <th></th>\n",
       "      <th>case</th>\n",
       "      <th>response</th>\n",
       "      <th>order</th>\n",
       "      <th>id</th>\n",
       "      <th>age</th>\n",
       "      <th>male</th>\n",
       "      <th>edu</th>\n",
       "      <th>action</th>\n",
       "      <th>intention</th>\n",
       "      <th>contact</th>\n",
       "      <th>story</th>\n",
       "      <th>action2</th>\n",
       "    </tr>\n",
       "  </thead>\n",
       "  <tbody>\n",
       "    <tr>\n",
       "      <th>4203</th>\n",
       "      <td>cibox</td>\n",
       "      <td>7</td>\n",
       "      <td>32</td>\n",
       "      <td>97;264</td>\n",
       "      <td>57</td>\n",
       "      <td>1</td>\n",
       "      <td>Master's Degree</td>\n",
       "      <td>0</td>\n",
       "      <td>1</td>\n",
       "      <td>1</td>\n",
       "      <td>box</td>\n",
       "      <td>1</td>\n",
       "    </tr>\n",
       "    <tr>\n",
       "      <th>911</th>\n",
       "      <td>fkspe</td>\n",
       "      <td>4</td>\n",
       "      <td>9</td>\n",
       "      <td>96;581</td>\n",
       "      <td>26</td>\n",
       "      <td>1</td>\n",
       "      <td>Bachelor's Degree</td>\n",
       "      <td>1</td>\n",
       "      <td>0</td>\n",
       "      <td>0</td>\n",
       "      <td>spe</td>\n",
       "      <td>1</td>\n",
       "    </tr>\n",
       "    <tr>\n",
       "      <th>3890</th>\n",
       "      <td>ikpon</td>\n",
       "      <td>1</td>\n",
       "      <td>32</td>\n",
       "      <td>97;194</td>\n",
       "      <td>37</td>\n",
       "      <td>0</td>\n",
       "      <td>Some College</td>\n",
       "      <td>1</td>\n",
       "      <td>1</td>\n",
       "      <td>0</td>\n",
       "      <td>pon</td>\n",
       "      <td>1</td>\n",
       "    </tr>\n",
       "    <tr>\n",
       "      <th>2432</th>\n",
       "      <td>cfrub</td>\n",
       "      <td>4</td>\n",
       "      <td>7</td>\n",
       "      <td>96;839</td>\n",
       "      <td>36</td>\n",
       "      <td>1</td>\n",
       "      <td>Master's Degree</td>\n",
       "      <td>0</td>\n",
       "      <td>0</td>\n",
       "      <td>1</td>\n",
       "      <td>rub</td>\n",
       "      <td>1</td>\n",
       "    </tr>\n",
       "    <tr>\n",
       "      <th>3731</th>\n",
       "      <td>fkspe</td>\n",
       "      <td>3</td>\n",
       "      <td>14</td>\n",
       "      <td>97;166</td>\n",
       "      <td>46</td>\n",
       "      <td>1</td>\n",
       "      <td>Bachelor's Degree</td>\n",
       "      <td>1</td>\n",
       "      <td>0</td>\n",
       "      <td>0</td>\n",
       "      <td>spe</td>\n",
       "      <td>1</td>\n",
       "    </tr>\n",
       "  </tbody>\n",
       "</table>\n",
       "</div>"
      ],
      "text/plain": [
       "       case  response  order      id  age  male                edu  action  \\\n",
       "4203  cibox         7     32  97;264   57     1    Master's Degree       0   \n",
       "911   fkspe         4      9  96;581   26     1  Bachelor's Degree       1   \n",
       "3890  ikpon         1     32  97;194   37     0       Some College       1   \n",
       "2432  cfrub         4      7  96;839   36     1    Master's Degree       0   \n",
       "3731  fkspe         3     14  97;166   46     1  Bachelor's Degree       1   \n",
       "\n",
       "      intention  contact story  action2  \n",
       "4203          1        1   box        1  \n",
       "911           0        0   spe        1  \n",
       "3890          1        0   pon        1  \n",
       "2432          0        1   rub        1  \n",
       "3731          0        0   spe        1  "
      ]
     },
     "execution_count": 3,
     "metadata": {},
     "output_type": "execute_result"
    }
   ],
   "source": [
    "data = pd.read_csv('../data/Trolley.csv', sep=';')\n",
    "data.sample(5)"
   ]
  },
  {
   "cell_type": "code",
   "execution_count": 4,
   "metadata": {},
   "outputs": [
    {
     "data": {
      "image/png": "[encoded data removed]",
      "text/plain": [
       "<Figure size 640x400 with 2 Axes>"
      ]
     },
     "metadata": {
      "needs_background": "light"
     },
     "output_type": "display_data"
    }
   ],
   "source": [
    "response_counts, responses = np.histogram(data.response, bins= np.linspace(1, 8, 8))\n",
    "cum_freq = response_counts.cumsum() / response_counts.sum()\n",
    "\n",
    "fig, ax = plt.subplots(1, 1, figsize=(8, 5), dpi=80)\n",
    "\n",
    "ax.bar(responses[:-1], response_counts, alpha=.3)\n",
    "ax.set(ylabel='response counts', xlabel='response')\n",
    "ax.grid(None)\n",
    "\n",
    "ax2 = ax.twinx()\n",
    "ax2.plot(responses[:-1], cum_freq * 100)\n",
    "ax2.set(ylabel='cumulative ratio (%)',\n",
    "        ylim=(0, 100),\n",
    "        yticks=np.linspace(0, 100, 6)[1:])\n",
    "None"
   ]
  },
  {
   "cell_type": "code",
   "execution_count": 5,
   "metadata": {},
   "outputs": [
    {
     "name": "stderr",
     "output_type": "stream",
     "text": [
      "/home/petrushev/projects/jup_venv/lib/python3.7/site-packages/theano/tensor/subtensor.py:2197: FutureWarning: Using a non-tuple sequence for multidimensional indexing is deprecated; use `arr[tuple(seq)]` instead of `arr[seq]`. In the future this will be interpreted as an array index, `arr[np.array(seq)]`, which will result either in an error or a different result.\n",
      "  rval = inputs[0].__getitem__(inputs[1:])\n",
      "/home/petrushev/projects/jup_venv/lib/python3.7/site-packages/theano/tensor/subtensor.py:2197: FutureWarning: Using a non-tuple sequence for multidimensional indexing is deprecated; use `arr[tuple(seq)]` instead of `arr[seq]`. In the future this will be interpreted as an array index, `arr[np.array(seq)]`, which will result either in an error or a different result.\n",
      "  rval = inputs[0].__getitem__(inputs[1:])\n",
      "Auto-assigning NUTS sampler...\n",
      "Initializing NUTS using jitter+adapt_diag...\n",
      "/home/petrushev/projects/jup_venv/lib/python3.7/site-packages/theano/tensor/subtensor.py:2197: FutureWarning: Using a non-tuple sequence for multidimensional indexing is deprecated; use `arr[tuple(seq)]` instead of `arr[seq]`. In the future this will be interpreted as an array index, `arr[np.array(seq)]`, which will result either in an error or a different result.\n",
      "  rval = inputs[0].__getitem__(inputs[1:])\n",
      "Multiprocess sampling (2 chains in 2 jobs)\n",
      "NUTS: [cutpoints]\n",
      "Sampling 2 chains:   0%|          | 0/8000 [00:00<?, ?draws/s]/home/petrushev/projects/jup_venv/lib/python3.7/site-packages/theano/tensor/subtensor.py:2197: FutureWarning: Using a non-tuple sequence for multidimensional indexing is deprecated; use `arr[tuple(seq)]` instead of `arr[seq]`. In the future this will be interpreted as an array index, `arr[np.array(seq)]`, which will result either in an error or a different result.\n",
      "  rval = inputs[0].__getitem__(inputs[1:])\n",
      "/home/petrushev/projects/jup_venv/lib/python3.7/site-packages/theano/tensor/subtensor.py:2197: FutureWarning: Using a non-tuple sequence for multidimensional indexing is deprecated; use `arr[tuple(seq)]` instead of `arr[seq]`. In the future this will be interpreted as an array index, `arr[np.array(seq)]`, which will result either in an error or a different result.\n",
      "  rval = inputs[0].__getitem__(inputs[1:])\n",
      "Sampling 2 chains: 100%|██████████| 8000/8000 [00:45<00:00, 176.63draws/s]\n"
     ]
    }
   ],
   "source": [
    "with pm.Model() as m11_1:\n",
    "    cutpoints = pm.Normal(\n",
    "        'cutpoints', mu=0, sd=1.5,\n",
    "        transform=pm.distributions.transforms.ordered,\n",
    "        shape=6, testval=np.linspace(-3, 3, 6))\n",
    "\n",
    "    responses = pm.OrderedLogistic(\n",
    "        'responses', 0., cutpoints,\n",
    "        observed=data.response - 1\n",
    "    )\n",
    "\n",
    "    m11_1.name = 'm11.1'\n",
    "    m11_1.trace = pm.sample(3000, tune=1000, chains=2)\n"
   ]
  },
  {
   "cell_type": "code",
   "execution_count": 6,
   "metadata": {},
   "outputs": [
    {
     "data": {
      "image/png": "[encoded data removed]",
      "text/plain": [
       "<Figure size 432x288 with 1 Axes>"
      ]
     },
     "metadata": {
      "needs_background": "light"
     },
     "output_type": "display_data"
    }
   ],
   "source": [
    "pm.forestplot(m11_1.trace, varnames=['cutpoints'], rhat=False)\n",
    "None"
   ]
  },
  {
   "cell_type": "code",
   "execution_count": 7,
   "metadata": {},
   "outputs": [
    {
     "data": {
      "image/png": "[encoded data removed]",
      "text/plain": [
       "<Figure size 640x400 with 1 Axes>"
      ]
     },
     "metadata": {
      "needs_background": "light"
     },
     "output_type": "display_data"
    }
   ],
   "source": [
    "tmp = pd.DataFrame(m11_1.trace['cutpoints']).stack().map(sp.special.expit).reset_index()\n",
    "tmp = tmp.groupby('level_1')[0].apply(summarize(0.01)).unstack()\n",
    "\n",
    "fig, ax = plt.subplots(1, 1, figsize=(8, 5), dpi=80)\n",
    "\n",
    "ax.scatter(tmp.index + 1, cum_freq[:-1], label='observed')\n",
    "ax.fill_between(tmp.index+1, tmp.lower, tmp.upper, alpha=.3, label='99% hdi')\n",
    "\n",
    "ax.set(xlabel='response', ylabel='cumulative probability')\n",
    "ax.legend()\n",
    "None"
   ]
  },
  {
   "cell_type": "code",
   "execution_count": 8,
   "metadata": {},
   "outputs": [
    {
     "name": "stderr",
     "output_type": "stream",
     "text": [
      "/home/petrushev/projects/jup_venv/lib/python3.7/site-packages/theano/tensor/subtensor.py:2197: FutureWarning: Using a non-tuple sequence for multidimensional indexing is deprecated; use `arr[tuple(seq)]` instead of `arr[seq]`. In the future this will be interpreted as an array index, `arr[np.array(seq)]`, which will result either in an error or a different result.\n",
      "  rval = inputs[0].__getitem__(inputs[1:])\n",
      "Auto-assigning NUTS sampler...\n",
      "Initializing NUTS using jitter+adapt_diag...\n",
      "/home/petrushev/projects/jup_venv/lib/python3.7/site-packages/theano/tensor/subtensor.py:2197: FutureWarning: Using a non-tuple sequence for multidimensional indexing is deprecated; use `arr[tuple(seq)]` instead of `arr[seq]`. In the future this will be interpreted as an array index, `arr[np.array(seq)]`, which will result either in an error or a different result.\n",
      "  rval = inputs[0].__getitem__(inputs[1:])\n",
      "Multiprocess sampling (2 chains in 2 jobs)\n",
      "NUTS: [beta, cutpoints]\n",
      "Sampling 2 chains: 100%|██████████| 8000/8000 [04:38<00:00, 14.84draws/s]\n"
     ]
    }
   ],
   "source": [
    "with pm.Model() as m11_2:\n",
    "    cutpoints = pm.Normal(\n",
    "        'cutpoints', 0., 1.5,\n",
    "        transform=pm.distributions.transforms.ordered,\n",
    "        shape=6, testval=np.linspace(-3, 3, 6))\n",
    "\n",
    "    beta = pm.Normal('beta', mu=0, sd=0.5, shape=3)\n",
    "    \n",
    "    phi = (\n",
    "        beta[0] * data.action.values\n",
    "        + beta[1] * data.intention.values\n",
    "        + beta[2] * data.contact.values\n",
    "    )\n",
    "\n",
    "    responses = pm.OrderedLogistic(\n",
    "        'responses', phi, cutpoints,\n",
    "        observed=data.response - 1\n",
    "    )\n",
    "\n",
    "    m11_2.name = 'm11.2'\n",
    "    m11_2.trace = pm.sample(3000, tune=1000, chains=2)\n"
   ]
  },
  {
   "cell_type": "code",
   "execution_count": 9,
   "metadata": {},
   "outputs": [
    {
     "data": {
      "image/png": "[encoded data removed]",
      "text/plain": [
       "<Figure size 432x288 with 1 Axes>"
      ]
     },
     "metadata": {
      "needs_background": "light"
     },
     "output_type": "display_data"
    }
   ],
   "source": [
    "pm.forestplot(m11_2.trace, varnames=['cutpoints', 'beta'], rhat=False)\n",
    "None"
   ]
  },
  {
   "cell_type": "code",
   "execution_count": 10,
   "metadata": {},
   "outputs": [
    {
     "name": "stderr",
     "output_type": "stream",
     "text": [
      "/home/petrushev/projects/jup_venv/lib/python3.7/site-packages/pymc3/tuning/starting.py:61: UserWarning: find_MAP should not be used to initialize the NUTS sampler, simply call pymc3.sample() and it will automatically initialize NUTS in a better way.\n",
      "  warnings.warn('find_MAP should not be used to initialize the NUTS sampler, simply call pymc3.sample() and it will automatically initialize NUTS in a better way.')\n",
      "  0%|          | 0/5000 [00:00<?, ?it/s]/home/petrushev/projects/jup_venv/lib/python3.7/site-packages/theano/tensor/subtensor.py:2197: FutureWarning: Using a non-tuple sequence for multidimensional indexing is deprecated; use `arr[tuple(seq)]` instead of `arr[seq]`. In the future this will be interpreted as an array index, `arr[np.array(seq)]`, which will result either in an error or a different result.\n",
      "  rval = inputs[0].__getitem__(inputs[1:])\n",
      "logp = -18,470, ||grad|| = 5.7343: 100%|██████████| 28/28 [00:00<00:00, 174.12it/s]  \n",
      "Auto-assigning NUTS sampler...\n",
      "Initializing NUTS using jitter+adapt_diag...\n",
      "/home/petrushev/projects/jup_venv/lib/python3.7/site-packages/theano/tensor/subtensor.py:2197: FutureWarning: Using a non-tuple sequence for multidimensional indexing is deprecated; use `arr[tuple(seq)]` instead of `arr[seq]`. In the future this will be interpreted as an array index, `arr[np.array(seq)]`, which will result either in an error or a different result.\n",
      "  rval = inputs[0].__getitem__(inputs[1:])\n",
      "Multiprocess sampling (2 chains in 2 jobs)\n",
      "NUTS: [beta2, beta, cutpoints]\n",
      "Sampling 2 chains: 100%|██████████| 8000/8000 [04:32<00:00, 17.34draws/s]\n"
     ]
    }
   ],
   "source": [
    "with pm.Model() as m11_3:\n",
    "    cutpoints = pm.Normal(\n",
    "        'cutpoints', 0., 1.5,\n",
    "        transform=pm.distributions.transforms.ordered,\n",
    "        shape=6, testval=np.linspace(-3, 3, 6))\n",
    "\n",
    "    beta = pm.Normal('beta', mu=0, sd=0.5, shape=3)\n",
    "    beta2 = pm.Normal('beta2', mu=0, sd=0.5, shape=2)\n",
    "    \n",
    "    phi = (\n",
    "        beta[0] * data.action.values\n",
    "        + beta[1] * data.intention.values\n",
    "        + beta[2] * data.contact.values\n",
    "        + beta2[0] * (data.intention.values * data.action.values)\n",
    "        + beta2[1] * (data.intention.values * data.contact.values)\n",
    "    )\n",
    "\n",
    "    responses = pm.OrderedLogistic(\n",
    "        'responses', phi, cutpoints,\n",
    "        observed=data.response - 1\n",
    "    )\n",
    "\n",
    "    m11_3.name = 'm11.3'\n",
    "    start = pm.find_MAP()\n",
    "    m11_3.trace = pm.sample(3000, tune=1000, chains=2, start=start)"
   ]
  },
  {
   "cell_type": "code",
   "execution_count": 11,
   "metadata": {},
   "outputs": [
    {
     "data": {
      "image/png": "[encoded data removed]",
      "text/plain": [
       "<Figure size 432x288 with 1 Axes>"
      ]
     },
     "metadata": {
      "needs_background": "light"
     },
     "output_type": "display_data"
    }
   ],
   "source": [
    "pm.forestplot(m11_3.trace, varnames=['cutpoints', 'beta', 'beta2'], rhat=False)\n",
    "None"
   ]
  },
  {
   "cell_type": "code",
   "execution_count": 12,
   "metadata": {},
   "outputs": [
    {
     "data": {
      "image/png": "[encoded data removed]",
      "text/plain": [
       "<Figure size 640x400 with 1 Axes>"
      ]
     },
     "metadata": {
      "needs_background": "light"
     },
     "output_type": "display_data"
    }
   ],
   "source": [
    "tmp = pd.DataFrame(m11_3.trace['cutpoints']).stack().map(sp.special.expit).reset_index()\n",
    "tmp = tmp.groupby('level_1')[0].apply(summarize(0.11)).unstack()\n",
    "\n",
    "fig, ax = plt.subplots(1, 1, figsize=(8, 5), dpi=80)\n",
    "\n",
    "ax.scatter(tmp.index + 1, cum_freq[:-1], label='observed')\n",
    "ax.plot(tmp.index + 1, tmp.mean_)\n",
    "ax.fill_between(tmp.index+1, tmp.lower, tmp.upper, alpha=.3, label='89% hdi')\n",
    "\n",
    "ax.set(xlabel='response', ylabel='cumulative probability')\n",
    "ax.legend()\n",
    "None"
   ]
  },
  {
   "cell_type": "code",
   "execution_count": 13,
   "metadata": {},
   "outputs": [
    {
     "name": "stderr",
     "output_type": "stream",
     "text": [
      "/home/petrushev/projects/jup_venv/lib/python3.7/site-packages/theano/tensor/subtensor.py:2197: FutureWarning: Using a non-tuple sequence for multidimensional indexing is deprecated; use `arr[tuple(seq)]` instead of `arr[seq]`. In the future this will be interpreted as an array index, `arr[np.array(seq)]`, which will result either in an error or a different result.\n",
      "  rval = inputs[0].__getitem__(inputs[1:])\n"
     ]
    },
    {
     "data": {
      "text/html": [
       "<div>\n",
       "<style scoped>\n",
       "    .dataframe tbody tr th:only-of-type {\n",
       "        vertical-align: middle;\n",
       "    }\n",
       "\n",
       "    .dataframe tbody tr th {\n",
       "        vertical-align: top;\n",
       "    }\n",
       "\n",
       "    .dataframe thead th {\n",
       "        text-align: right;\n",
       "    }\n",
       "</style>\n",
       "<table border=\"1\" class=\"dataframe\">\n",
       "  <thead>\n",
       "    <tr style=\"text-align: right;\">\n",
       "      <th></th>\n",
       "      <th>WAIC</th>\n",
       "      <th>pWAIC</th>\n",
       "      <th>dWAIC</th>\n",
       "      <th>weight</th>\n",
       "      <th>SE</th>\n",
       "      <th>dSE</th>\n",
       "      <th>var_warn</th>\n",
       "    </tr>\n",
       "  </thead>\n",
       "  <tbody>\n",
       "    <tr>\n",
       "      <th>m11.3</th>\n",
       "      <td>36929.2</td>\n",
       "      <td>10.96</td>\n",
       "      <td>0</td>\n",
       "      <td>1</td>\n",
       "      <td>83.04</td>\n",
       "      <td>0</td>\n",
       "      <td>0</td>\n",
       "    </tr>\n",
       "    <tr>\n",
       "      <th>m11.2</th>\n",
       "      <td>37090</td>\n",
       "      <td>9.02</td>\n",
       "      <td>160.83</td>\n",
       "      <td>0</td>\n",
       "      <td>77.54</td>\n",
       "      <td>25.01</td>\n",
       "      <td>0</td>\n",
       "    </tr>\n",
       "    <tr>\n",
       "      <th>m11.1</th>\n",
       "      <td>37854.4</td>\n",
       "      <td>5.99</td>\n",
       "      <td>925.23</td>\n",
       "      <td>0</td>\n",
       "      <td>59.14</td>\n",
       "      <td>61.98</td>\n",
       "      <td>0</td>\n",
       "    </tr>\n",
       "  </tbody>\n",
       "</table>\n",
       "</div>"
      ],
      "text/plain": [
       "          WAIC  pWAIC   dWAIC weight     SE    dSE var_warn\n",
       "m11.3  36929.2  10.96       0      1  83.04      0        0\n",
       "m11.2    37090   9.02  160.83      0  77.54  25.01        0\n",
       "m11.1  37854.4   5.99  925.23      0  59.14  61.98        0"
      ]
     },
     "execution_count": 13,
     "metadata": {},
     "output_type": "execute_result"
    }
   ],
   "source": [
    "comparison = pm.compare({\n",
    "        m11_1: m11_1.trace,\n",
    "        m11_2: m11_2.trace,\n",
    "        m11_3: m11_3.trace,\n",
    "    },\n",
    "    method='BB-pseudo-BMA'\n",
    ")\n",
    "\n",
    "comparison"
   ]
  },
  {
   "cell_type": "markdown",
   "metadata": {},
   "source": [
    "---\n",
    "**Ordered categorical predictors**"
   ]
  },
  {
   "cell_type": "code",
   "execution_count": 14,
   "metadata": {},
   "outputs": [],
   "source": [
    "data.edu.unique()\n",
    "\n",
    "edus = pd.DataFrame(list(enumerate([\n",
    "    'Elementary School', 'Middle School','Some High School', \n",
    "    'High School Graduate', 'Some College', \"Bachelor's Degree\", \n",
    "    \"Master's Degree\", 'Graduate Degree'])),\n",
    "    columns=['edu_i', 'edu'])\n",
    "\n",
    "data = pd.merge(\n",
    "    data, edus, on='edu'\n",
    ")"
   ]
  },
  {
   "cell_type": "code",
   "execution_count": 15,
   "metadata": {},
   "outputs": [
    {
     "data": {
      "text/html": [
       "<div>\n",
       "<style scoped>\n",
       "    .dataframe tbody tr th:only-of-type {\n",
       "        vertical-align: middle;\n",
       "    }\n",
       "\n",
       "    .dataframe tbody tr th {\n",
       "        vertical-align: top;\n",
       "    }\n",
       "\n",
       "    .dataframe thead th {\n",
       "        text-align: right;\n",
       "    }\n",
       "</style>\n",
       "<table border=\"1\" class=\"dataframe\">\n",
       "  <thead>\n",
       "    <tr style=\"text-align: right;\">\n",
       "      <th></th>\n",
       "      <th>case</th>\n",
       "      <th>response</th>\n",
       "      <th>order</th>\n",
       "      <th>id</th>\n",
       "      <th>age</th>\n",
       "      <th>male</th>\n",
       "      <th>edu</th>\n",
       "      <th>action</th>\n",
       "      <th>intention</th>\n",
       "      <th>contact</th>\n",
       "      <th>story</th>\n",
       "      <th>action2</th>\n",
       "      <th>edu_i</th>\n",
       "    </tr>\n",
       "  </thead>\n",
       "  <tbody>\n",
       "    <tr>\n",
       "      <th>806</th>\n",
       "      <td>ilsha</td>\n",
       "      <td>4</td>\n",
       "      <td>21</td>\n",
       "      <td>96;741</td>\n",
       "      <td>56</td>\n",
       "      <td>0</td>\n",
       "      <td>Bachelor's Degree</td>\n",
       "      <td>0</td>\n",
       "      <td>1</td>\n",
       "      <td>0</td>\n",
       "      <td>sha</td>\n",
       "      <td>0</td>\n",
       "      <td>5</td>\n",
       "    </tr>\n",
       "    <tr>\n",
       "      <th>8950</th>\n",
       "      <td>fkcar</td>\n",
       "      <td>5</td>\n",
       "      <td>6</td>\n",
       "      <td>97;418</td>\n",
       "      <td>25</td>\n",
       "      <td>0</td>\n",
       "      <td>Graduate Degree</td>\n",
       "      <td>1</td>\n",
       "      <td>0</td>\n",
       "      <td>0</td>\n",
       "      <td>car</td>\n",
       "      <td>1</td>\n",
       "      <td>7</td>\n",
       "    </tr>\n",
       "    <tr>\n",
       "      <th>7029</th>\n",
       "      <td>fkbur</td>\n",
       "      <td>5</td>\n",
       "      <td>22</td>\n",
       "      <td>97;439</td>\n",
       "      <td>32</td>\n",
       "      <td>1</td>\n",
       "      <td>Master's Degree</td>\n",
       "      <td>1</td>\n",
       "      <td>0</td>\n",
       "      <td>0</td>\n",
       "      <td>bur</td>\n",
       "      <td>1</td>\n",
       "      <td>6</td>\n",
       "    </tr>\n",
       "    <tr>\n",
       "      <th>130</th>\n",
       "      <td>fkcar</td>\n",
       "      <td>1</td>\n",
       "      <td>6</td>\n",
       "      <td>96;445</td>\n",
       "      <td>53</td>\n",
       "      <td>1</td>\n",
       "      <td>Bachelor's Degree</td>\n",
       "      <td>1</td>\n",
       "      <td>0</td>\n",
       "      <td>0</td>\n",
       "      <td>car</td>\n",
       "      <td>1</td>\n",
       "      <td>5</td>\n",
       "    </tr>\n",
       "    <tr>\n",
       "      <th>1392</th>\n",
       "      <td>fkswi</td>\n",
       "      <td>1</td>\n",
       "      <td>25</td>\n",
       "      <td>97;113</td>\n",
       "      <td>41</td>\n",
       "      <td>1</td>\n",
       "      <td>Bachelor's Degree</td>\n",
       "      <td>1</td>\n",
       "      <td>0</td>\n",
       "      <td>0</td>\n",
       "      <td>swi</td>\n",
       "      <td>1</td>\n",
       "      <td>5</td>\n",
       "    </tr>\n",
       "  </tbody>\n",
       "</table>\n",
       "</div>"
      ],
      "text/plain": [
       "       case  response  order      id  age  male                edu  action  \\\n",
       "806   ilsha         4     21  96;741   56     0  Bachelor's Degree       0   \n",
       "8950  fkcar         5      6  97;418   25     0    Graduate Degree       1   \n",
       "7029  fkbur         5     22  97;439   32     1    Master's Degree       1   \n",
       "130   fkcar         1      6  96;445   53     1  Bachelor's Degree       1   \n",
       "1392  fkswi         1     25  97;113   41     1  Bachelor's Degree       1   \n",
       "\n",
       "      intention  contact story  action2  edu_i  \n",
       "806           1        0   sha        0      5  \n",
       "8950          0        0   car        1      7  \n",
       "7029          0        0   bur        1      6  \n",
       "130           0        0   car        1      5  \n",
       "1392          0        0   swi        1      5  "
      ]
     },
     "execution_count": 15,
     "metadata": {},
     "output_type": "execute_result"
    }
   ],
   "source": [
    "data.sample(5)"
   ]
  },
  {
   "cell_type": "code",
   "execution_count": 16,
   "metadata": {},
   "outputs": [
    {
     "data": {
      "text/html": [
       "<div>\n",
       "<style scoped>\n",
       "    .dataframe tbody tr th:only-of-type {\n",
       "        vertical-align: middle;\n",
       "    }\n",
       "\n",
       "    .dataframe tbody tr th {\n",
       "        vertical-align: top;\n",
       "    }\n",
       "\n",
       "    .dataframe thead th {\n",
       "        text-align: right;\n",
       "    }\n",
       "</style>\n",
       "<table border=\"1\" class=\"dataframe\">\n",
       "  <thead>\n",
       "    <tr style=\"text-align: right;\">\n",
       "      <th></th>\n",
       "      <th>edu_i</th>\n",
       "      <th>edu</th>\n",
       "    </tr>\n",
       "  </thead>\n",
       "  <tbody>\n",
       "    <tr>\n",
       "      <th>0</th>\n",
       "      <td>0</td>\n",
       "      <td>Elementary School</td>\n",
       "    </tr>\n",
       "    <tr>\n",
       "      <th>1</th>\n",
       "      <td>1</td>\n",
       "      <td>Middle School</td>\n",
       "    </tr>\n",
       "    <tr>\n",
       "      <th>2</th>\n",
       "      <td>2</td>\n",
       "      <td>Some High School</td>\n",
       "    </tr>\n",
       "    <tr>\n",
       "      <th>3</th>\n",
       "      <td>3</td>\n",
       "      <td>High School Graduate</td>\n",
       "    </tr>\n",
       "    <tr>\n",
       "      <th>4</th>\n",
       "      <td>4</td>\n",
       "      <td>Some College</td>\n",
       "    </tr>\n",
       "    <tr>\n",
       "      <th>5</th>\n",
       "      <td>5</td>\n",
       "      <td>Bachelor's Degree</td>\n",
       "    </tr>\n",
       "    <tr>\n",
       "      <th>6</th>\n",
       "      <td>6</td>\n",
       "      <td>Master's Degree</td>\n",
       "    </tr>\n",
       "    <tr>\n",
       "      <th>7</th>\n",
       "      <td>7</td>\n",
       "      <td>Graduate Degree</td>\n",
       "    </tr>\n",
       "  </tbody>\n",
       "</table>\n",
       "</div>"
      ],
      "text/plain": [
       "   edu_i                   edu\n",
       "0      0     Elementary School\n",
       "1      1         Middle School\n",
       "2      2      Some High School\n",
       "3      3  High School Graduate\n",
       "4      4          Some College\n",
       "5      5     Bachelor's Degree\n",
       "6      6       Master's Degree\n",
       "7      7       Graduate Degree"
      ]
     },
     "execution_count": 16,
     "metadata": {},
     "output_type": "execute_result"
    }
   ],
   "source": [
    "edus"
   ]
  },
  {
   "cell_type": "code",
   "execution_count": 17,
   "metadata": {
    "scrolled": false
   },
   "outputs": [
    {
     "name": "stderr",
     "output_type": "stream",
     "text": [
      "/home/petrushev/projects/jup_venv/lib/python3.7/site-packages/theano/tensor/subtensor.py:2197: FutureWarning: Using a non-tuple sequence for multidimensional indexing is deprecated; use `arr[tuple(seq)]` instead of `arr[seq]`. In the future this will be interpreted as an array index, `arr[np.array(seq)]`, which will result either in an error or a different result.\n",
      "  rval = inputs[0].__getitem__(inputs[1:])\n",
      "Auto-assigning NUTS sampler...\n",
      "Initializing NUTS using jitter+adapt_diag...\n",
      "/home/petrushev/projects/jup_venv/lib/python3.7/site-packages/theano/tensor/subtensor.py:2197: FutureWarning: Using a non-tuple sequence for multidimensional indexing is deprecated; use `arr[tuple(seq)]` instead of `arr[seq]`. In the future this will be interpreted as an array index, `arr[np.array(seq)]`, which will result either in an error or a different result.\n",
      "  rval = inputs[0].__getitem__(inputs[1:])\n",
      "Multiprocess sampling (2 chains in 2 jobs)\n",
      "NUTS: [delta_edu, beta_edu, cutpoints]\n",
      "Sampling 2 chains:   0%|          | 0/9000 [00:00<?, ?draws/s]/home/petrushev/projects/jup_venv/lib/python3.7/site-packages/theano/tensor/subtensor.py:2197: FutureWarning: Using a non-tuple sequence for multidimensional indexing is deprecated; use `arr[tuple(seq)]` instead of `arr[seq]`. In the future this will be interpreted as an array index, `arr[np.array(seq)]`, which will result either in an error or a different result.\n",
      "  rval = inputs[0].__getitem__(inputs[1:])\n",
      "/home/petrushev/projects/jup_venv/lib/python3.7/site-packages/theano/tensor/subtensor.py:2197: FutureWarning: Using a non-tuple sequence for multidimensional indexing is deprecated; use `arr[tuple(seq)]` instead of `arr[seq]`. In the future this will be interpreted as an array index, `arr[np.array(seq)]`, which will result either in an error or a different result.\n",
      "  rval = inputs[0].__getitem__(inputs[1:])\n",
      "Sampling 2 chains: 100%|██████████| 9000/9000 [17:36<00:00,  5.19draws/s]\n",
      "The acceptance probability does not match the target. It is 0.8895732414900395, but should be close to 0.8. Try to increase the number of tuning steps.\n"
     ]
    }
   ],
   "source": [
    "with pm.Model() as m_ord_cat:\n",
    "    n_edus = edus.shape[0]\n",
    "\n",
    "    cutpoints = pm.Normal(\n",
    "        'cutpoints', mu=0, sd=1.5,\n",
    "        transform=pm.distributions.transforms.ordered,\n",
    "        shape=6,\n",
    "        testval=np.linspace(-3, 3, 6),\n",
    "    )\n",
    "    beta_edu = pm.Normal('beta_edu', mu=0, sd=0.5)\n",
    "    delta_edu = pm.Dirichlet('delta_edu', a=np.ones(n_edus-1))\n",
    "\n",
    "    cum_delta_edu = pm.Deterministic(\n",
    "        'cum_delta_edu',\n",
    "        tt.as_tensor_variable(\n",
    "            [pm.math.sum(delta_edu[0:(end)])\n",
    "             for end in range(n_edus)]\n",
    "        )\n",
    "    )\n",
    "    phi = pm.Deterministic(\n",
    "        'phi',\n",
    "        beta_edu * cum_delta_edu[data.edu_i.values]\n",
    "    )\n",
    "\n",
    "    responses = pm.OrderedLogistic(\n",
    "        'responses', phi, cutpoints,\n",
    "        observed=(data.response.values - 1)\n",
    "    )\n",
    "\n",
    "    m_ord_cat.name = 'ordered categories'\n",
    "    m_ord_cat.trace = pm.sample(\n",
    "        3000, tune=1500, chains=2,\n",
    "    )\n"
   ]
  },
  {
   "cell_type": "code",
   "execution_count": 18,
   "metadata": {},
   "outputs": [
    {
     "data": {
      "image/png": "[encoded data removed]",
      "text/plain": [
       "<Figure size 432x288 with 1 Axes>"
      ]
     },
     "metadata": {
      "needs_background": "light"
     },
     "output_type": "display_data"
    }
   ],
   "source": [
    "pm.forestplot(m_ord_cat.trace, varnames=['beta_edu', 'cum_delta_edu'], rhat=False)\n",
    "None"
   ]
  },
  {
   "cell_type": "code",
   "execution_count": 23,
   "metadata": {},
   "outputs": [
    {
     "name": "stderr",
     "output_type": "stream",
     "text": [
      "Auto-assigning NUTS sampler...\n",
      "Initializing NUTS using jitter+adapt_diag...\n",
      "/home/petrushev/projects/jup_venv/lib/python3.7/site-packages/theano/tensor/subtensor.py:2197: FutureWarning: Using a non-tuple sequence for multidimensional indexing is deprecated; use `arr[tuple(seq)]` instead of `arr[seq]`. In the future this will be interpreted as an array index, `arr[np.array(seq)]`, which will result either in an error or a different result.\n",
      "  rval = inputs[0].__getitem__(inputs[1:])\n",
      "Multiprocess sampling (2 chains in 2 jobs)\n",
      "NUTS: [beta2, beta, delta_edu, beta_edu, cutpoints]\n",
      "Sampling 2 chains:   0%|          | 0/10000 [00:00<?, ?draws/s]/home/petrushev/projects/jup_venv/lib/python3.7/site-packages/theano/tensor/subtensor.py:2197: FutureWarning: Using a non-tuple sequence for multidimensional indexing is deprecated; use `arr[tuple(seq)]` instead of `arr[seq]`. In the future this will be interpreted as an array index, `arr[np.array(seq)]`, which will result either in an error or a different result.\n",
      "  rval = inputs[0].__getitem__(inputs[1:])\n",
      "/home/petrushev/projects/jup_venv/lib/python3.7/site-packages/theano/tensor/subtensor.py:2197: FutureWarning: Using a non-tuple sequence for multidimensional indexing is deprecated; use `arr[tuple(seq)]` instead of `arr[seq]`. In the future this will be interpreted as an array index, `arr[np.array(seq)]`, which will result either in an error or a different result.\n",
      "  rval = inputs[0].__getitem__(inputs[1:])\n",
      "Sampling 2 chains: 100%|██████████| 10000/10000 [19:47<00:00,  5.78draws/s]\n",
      "The number of effective samples is smaller than 25% for some parameters.\n"
     ]
    }
   ],
   "source": [
    "with pm.Model() as m_ord_cat_all:\n",
    "    n_edus = edus.shape[0]\n",
    "\n",
    "    cutpoints = pm.Normal(\n",
    "        'cutpoints', mu=0, sd=1.5,\n",
    "        transform=pm.distributions.transforms.ordered,\n",
    "        shape=6,\n",
    "        testval=np.linspace(-3, 3, 6),\n",
    "    )\n",
    "    beta_edu = pm.Normal('beta_edu', mu=0, sd=0.5)\n",
    "    delta_edu = pm.Dirichlet('delta_edu', a=np.ones(n_edus-1))\n",
    "\n",
    "    cum_delta_edu = pm.Deterministic(\n",
    "        'cum_delta_edu',\n",
    "        tt.as_tensor_variable(\n",
    "            [pm.math.sum(delta_edu[0:(end)])\n",
    "             for end in range(n_edus)]\n",
    "        )\n",
    "    )\n",
    "    \n",
    "    beta = pm.Normal('beta', mu=0, sd=0.5, shape=3)\n",
    "    beta2 = pm.Normal('beta2', mu=0, sd=0.5, shape=2)\n",
    "    \n",
    "    phi = pm.Deterministic(\n",
    "        'phi',\n",
    "        beta_edu * cum_delta_edu[data.edu_i.values]\n",
    "        + beta[0] * data.action.values\n",
    "        + beta[1] * data.intention.values\n",
    "        + beta[2] * data.contact.values\n",
    "        + beta2[0] * (data.intention.values * data.action.values)\n",
    "        + beta2[1] * (data.intention.values * data.contact.values)\n",
    "    )\n",
    "\n",
    "    responses = pm.OrderedLogistic(\n",
    "        'responses', phi, cutpoints,\n",
    "        observed=(data.response.values - 1)\n",
    "    )\n",
    "\n",
    "    m_ord_cat_all.name = 'all'\n",
    "    m_ord_cat_all.trace = pm.sample(\n",
    "        3000, tune=2000, chains=2,\n",
    "    )\n"
   ]
  },
  {
   "cell_type": "code",
   "execution_count": 29,
   "metadata": {},
   "outputs": [
    {
     "data": {
      "image/png": "[encoded data removed]",
      "text/plain": [
       "<Figure size 680x680 with 1 Axes>"
      ]
     },
     "metadata": {
      "needs_background": "light"
     },
     "output_type": "display_data"
    }
   ],
   "source": [
    "fig = plt.figure(figsize=(8, 8), dpi=85)\n",
    "pm.forestplot(m_ord_cat_all.trace,\n",
    "              varnames=['cutpoints', 'cum_delta_edu', 'beta_edu', 'beta', 'beta2'],\n",
    "              rhat=False)\n",
    "None"
   ]
  },
  {
   "cell_type": "code",
   "execution_count": 33,
   "metadata": {},
   "outputs": [
    {
     "data": {
      "image/png": "[encoded data removed]",
      "text/plain": [
       "<Figure size 680x680 with 1 Axes>"
      ]
     },
     "metadata": {
      "needs_background": "light"
     },
     "output_type": "display_data"
    }
   ],
   "source": [
    "fig = plt.figure(figsize=(8, 8), dpi=85)\n",
    "pm.forestplot(m_ord_cat.trace,\n",
    "              varnames=['delta_edu', 'cum_delta_edu', 'beta_edu'],\n",
    "              rhat=False)\n",
    "None"
   ]
  },
  {
   "cell_type": "code",
   "execution_count": 26,
   "metadata": {},
   "outputs": [
    {
     "name": "stderr",
     "output_type": "stream",
     "text": [
      "/home/petrushev/projects/jup_venv/lib/python3.7/site-packages/theano/tensor/subtensor.py:2197: FutureWarning: Using a non-tuple sequence for multidimensional indexing is deprecated; use `arr[tuple(seq)]` instead of `arr[seq]`. In the future this will be interpreted as an array index, `arr[np.array(seq)]`, which will result either in an error or a different result.\n",
      "  rval = inputs[0].__getitem__(inputs[1:])\n",
      "/home/petrushev/projects/jup_venv/lib/python3.7/site-packages/theano/tensor/subtensor.py:2197: FutureWarning: Using a non-tuple sequence for multidimensional indexing is deprecated; use `arr[tuple(seq)]` instead of `arr[seq]`. In the future this will be interpreted as an array index, `arr[np.array(seq)]`, which will result either in an error or a different result.\n",
      "  rval = inputs[0].__getitem__(inputs[1:])\n"
     ]
    },
    {
     "data": {
      "text/html": [
       "<div>\n",
       "<style scoped>\n",
       "    .dataframe tbody tr th:only-of-type {\n",
       "        vertical-align: middle;\n",
       "    }\n",
       "\n",
       "    .dataframe tbody tr th {\n",
       "        vertical-align: top;\n",
       "    }\n",
       "\n",
       "    .dataframe thead th {\n",
       "        text-align: right;\n",
       "    }\n",
       "</style>\n",
       "<table border=\"1\" class=\"dataframe\">\n",
       "  <thead>\n",
       "    <tr style=\"text-align: right;\">\n",
       "      <th></th>\n",
       "      <th>WAIC</th>\n",
       "      <th>pWAIC</th>\n",
       "      <th>dWAIC</th>\n",
       "      <th>weight</th>\n",
       "      <th>SE</th>\n",
       "      <th>dSE</th>\n",
       "      <th>var_warn</th>\n",
       "    </tr>\n",
       "  </thead>\n",
       "  <tbody>\n",
       "    <tr>\n",
       "      <th>all</th>\n",
       "      <td>36916.5</td>\n",
       "      <td>13.27</td>\n",
       "      <td>0</td>\n",
       "      <td>0.54</td>\n",
       "      <td>78.88</td>\n",
       "      <td>0</td>\n",
       "      <td>0</td>\n",
       "    </tr>\n",
       "    <tr>\n",
       "      <th>m11.3</th>\n",
       "      <td>36929.2</td>\n",
       "      <td>10.96</td>\n",
       "      <td>12.73</td>\n",
       "      <td>0.46</td>\n",
       "      <td>82.39</td>\n",
       "      <td>114.3</td>\n",
       "      <td>0</td>\n",
       "    </tr>\n",
       "    <tr>\n",
       "      <th>m11.2</th>\n",
       "      <td>37090</td>\n",
       "      <td>9.02</td>\n",
       "      <td>173.56</td>\n",
       "      <td>0</td>\n",
       "      <td>77.96</td>\n",
       "      <td>110.87</td>\n",
       "      <td>0</td>\n",
       "    </tr>\n",
       "    <tr>\n",
       "      <th>ordered categories</th>\n",
       "      <td>37842.4</td>\n",
       "      <td>8.02</td>\n",
       "      <td>925.97</td>\n",
       "      <td>0</td>\n",
       "      <td>57.1</td>\n",
       "      <td>61.95</td>\n",
       "      <td>0</td>\n",
       "    </tr>\n",
       "    <tr>\n",
       "      <th>m11.1</th>\n",
       "      <td>37854.4</td>\n",
       "      <td>5.99</td>\n",
       "      <td>937.95</td>\n",
       "      <td>0</td>\n",
       "      <td>59.18</td>\n",
       "      <td>99.57</td>\n",
       "      <td>0</td>\n",
       "    </tr>\n",
       "  </tbody>\n",
       "</table>\n",
       "</div>"
      ],
      "text/plain": [
       "                       WAIC  pWAIC   dWAIC weight     SE     dSE var_warn\n",
       "all                 36916.5  13.27       0   0.54  78.88       0        0\n",
       "m11.3               36929.2  10.96   12.73   0.46  82.39   114.3        0\n",
       "m11.2                 37090   9.02  173.56      0  77.96  110.87        0\n",
       "ordered categories  37842.4   8.02  925.97      0   57.1   61.95        0\n",
       "m11.1               37854.4   5.99  937.95      0  59.18   99.57        0"
      ]
     },
     "execution_count": 26,
     "metadata": {},
     "output_type": "execute_result"
    }
   ],
   "source": [
    "comparison = pm.compare({\n",
    "        m11_1: m11_1.trace,\n",
    "        m11_2: m11_2.trace,\n",
    "        m11_3: m11_3.trace,\n",
    "        m_ord_cat: m_ord_cat.trace,\n",
    "        m_ord_cat_all: m_ord_cat_all.trace\n",
    "    },\n",
    "    method='BB-pseudo-BMA'\n",
    ")\n",
    "\n",
    "comparison"
   ]
  }
 ],
 "metadata": {
  "kernelspec": {
   "display_name": "Python 3",
   "language": "python",
   "name": "python3"
  },
  "language_info": {
   "codemirror_mode": {
    "name": "ipython",
    "version": 3
   },
   "file_extension": ".py",
   "mimetype": "text/x-python",
   "name": "python",
   "nbconvert_exporter": "python",
   "pygments_lexer": "ipython3",
   "version": "3.7.3"
  },
  "toc": {
   "base_numbering": 1,
   "nav_menu": {},
   "number_sections": true,
   "sideBar": true,
   "skip_h1_title": false,
   "title_cell": "Table of Contents",
   "title_sidebar": "Contents",
   "toc_cell": false,
   "toc_position": {},
   "toc_section_display": true,
   "toc_window_display": false
  },
  "varInspector": {
   "cols": {
    "lenName": 16,
    "lenType": 16,
    "lenVar": 40
   },
   "kernels_config": {
    "python": {
     "delete_cmd_postfix": "",
     "delete_cmd_prefix": "del ",
     "library": "var_list.py",
     "varRefreshCmd": "print(var_dic_list())"
    },
    "r": {
     "delete_cmd_postfix": ") ",
     "delete_cmd_prefix": "rm(",
     "library": "var_list.r",
     "varRefreshCmd": "cat(var_dic_list()) "
    }
   },
   "types_to_exclude": [
    "module",
    "function",
    "builtin_function_or_method",
    "instance",
    "_Feature"
   ],
   "window_display": false
  }
 },
 "nbformat": 4,
 "nbformat_minor": 2
}
