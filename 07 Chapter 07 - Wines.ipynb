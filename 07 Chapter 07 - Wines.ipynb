{
 "cells": [
  {
   "cell_type": "code",
   "execution_count": 1,
   "metadata": {},
   "outputs": [
    {
     "name": "stderr",
     "output_type": "stream",
     "text": [
      "WARNING (theano.tensor.blas): Using NumPy C-API based implementation for BLAS functions.\n"
     ]
    }
   ],
   "source": [
    "%matplotlib inline\n",
    "\n",
    "import pandas as pd\n",
    "import pymc3 as pm\n",
    "import matplotlib.pyplot as plt\n",
    "from scipy import stats\n",
    "import numpy as np\n",
    "from pandas.plotting import scatter_matrix\n",
    "\n",
    "plt.style.use('seaborn-whitegrid')"
   ]
  },
  {
   "cell_type": "code",
   "execution_count": 3,
   "metadata": {},
   "outputs": [],
   "source": [
    "def summarize(alpha=0.05):\n",
    "    \n",
    "    def _summarize(ser):\n",
    "        hpd_ = pm.hpd(ser, alpha=alpha)\n",
    "        return pd.Series({\n",
    "            'mean_': ser.mean(),\n",
    "            'lower': hpd_[0],\n",
    "            'upper': hpd_[1],\n",
    "        })\n",
    "    \n",
    "    return _summarize"
   ]
  },
  {
   "cell_type": "code",
   "execution_count": 4,
   "metadata": {},
   "outputs": [
    {
     "data": {
      "text/html": [
       "<div>\n",
       "<style scoped>\n",
       "    .dataframe tbody tr th:only-of-type {\n",
       "        vertical-align: middle;\n",
       "    }\n",
       "\n",
       "    .dataframe tbody tr th {\n",
       "        vertical-align: top;\n",
       "    }\n",
       "\n",
       "    .dataframe thead th {\n",
       "        text-align: right;\n",
       "    }\n",
       "</style>\n",
       "<table border=\"1\" class=\"dataframe\">\n",
       "  <thead>\n",
       "    <tr style=\"text-align: right;\">\n",
       "      <th></th>\n",
       "      <th>score</th>\n",
       "      <th>wine_amer</th>\n",
       "      <th>judge_amer</th>\n",
       "      <th>flight_red</th>\n",
       "    </tr>\n",
       "  </thead>\n",
       "  <tbody>\n",
       "    <tr>\n",
       "      <th>173</th>\n",
       "      <td>15.0</td>\n",
       "      <td>1</td>\n",
       "      <td>1</td>\n",
       "      <td>1</td>\n",
       "    </tr>\n",
       "    <tr>\n",
       "      <th>147</th>\n",
       "      <td>15.5</td>\n",
       "      <td>1</td>\n",
       "      <td>1</td>\n",
       "      <td>1</td>\n",
       "    </tr>\n",
       "    <tr>\n",
       "      <th>42</th>\n",
       "      <td>13.0</td>\n",
       "      <td>0</td>\n",
       "      <td>1</td>\n",
       "      <td>0</td>\n",
       "    </tr>\n",
       "    <tr>\n",
       "      <th>139</th>\n",
       "      <td>11.0</td>\n",
       "      <td>0</td>\n",
       "      <td>1</td>\n",
       "      <td>1</td>\n",
       "    </tr>\n",
       "    <tr>\n",
       "      <th>113</th>\n",
       "      <td>18.0</td>\n",
       "      <td>1</td>\n",
       "      <td>1</td>\n",
       "      <td>1</td>\n",
       "    </tr>\n",
       "  </tbody>\n",
       "</table>\n",
       "</div>"
      ],
      "text/plain": [
       "     score  wine_amer  judge_amer  flight_red\n",
       "173   15.0          1           1           1\n",
       "147   15.5          1           1           1\n",
       "42    13.0          0           1           0\n",
       "139   11.0          0           1           1\n",
       "113   18.0          1           1           1"
      ]
     },
     "execution_count": 4,
     "metadata": {},
     "output_type": "execute_result"
    }
   ],
   "source": [
    "wines = pd.read_csv('data/Wines2012.csv', sep=';',\n",
    "                    names='judge,flight,wine,score,wine_amer,judge_amer'.split(','),\n",
    "                    skiprows=1)\n",
    "wines = wines.assign(flight_red = (wines.flight == 'red').astype('int'))\n",
    "wines = wines.drop(['judge', 'flight', 'wine'], axis=1)\n",
    "wines.sample(5)"
   ]
  },
  {
   "cell_type": "code",
   "execution_count": 7,
   "metadata": {},
   "outputs": [
    {
     "data": {
      "text/html": [
       "<div>\n",
       "<style scoped>\n",
       "    .dataframe tbody tr th:only-of-type {\n",
       "        vertical-align: middle;\n",
       "    }\n",
       "\n",
       "    .dataframe tbody tr th {\n",
       "        vertical-align: top;\n",
       "    }\n",
       "\n",
       "    .dataframe thead th {\n",
       "        text-align: right;\n",
       "    }\n",
       "</style>\n",
       "<table border=\"1\" class=\"dataframe\">\n",
       "  <thead>\n",
       "    <tr style=\"text-align: right;\">\n",
       "      <th></th>\n",
       "      <th>wine_amer</th>\n",
       "      <th>judge_amer</th>\n",
       "      <th>flight_red</th>\n",
       "    </tr>\n",
       "  </thead>\n",
       "  <tbody>\n",
       "    <tr>\n",
       "      <th>0</th>\n",
       "      <td>1</td>\n",
       "      <td>0</td>\n",
       "      <td>0</td>\n",
       "    </tr>\n",
       "    <tr>\n",
       "      <th>1</th>\n",
       "      <td>0</td>\n",
       "      <td>0</td>\n",
       "      <td>0</td>\n",
       "    </tr>\n",
       "    <tr>\n",
       "      <th>2</th>\n",
       "      <td>1</td>\n",
       "      <td>1</td>\n",
       "      <td>0</td>\n",
       "    </tr>\n",
       "    <tr>\n",
       "      <th>3</th>\n",
       "      <td>0</td>\n",
       "      <td>1</td>\n",
       "      <td>0</td>\n",
       "    </tr>\n",
       "    <tr>\n",
       "      <th>4</th>\n",
       "      <td>0</td>\n",
       "      <td>0</td>\n",
       "      <td>1</td>\n",
       "    </tr>\n",
       "    <tr>\n",
       "      <th>5</th>\n",
       "      <td>1</td>\n",
       "      <td>0</td>\n",
       "      <td>1</td>\n",
       "    </tr>\n",
       "    <tr>\n",
       "      <th>6</th>\n",
       "      <td>0</td>\n",
       "      <td>1</td>\n",
       "      <td>1</td>\n",
       "    </tr>\n",
       "    <tr>\n",
       "      <th>7</th>\n",
       "      <td>1</td>\n",
       "      <td>1</td>\n",
       "      <td>1</td>\n",
       "    </tr>\n",
       "  </tbody>\n",
       "</table>\n",
       "</div>"
      ],
      "text/plain": [
       "   wine_amer  judge_amer  flight_red\n",
       "0          1           0           0\n",
       "1          0           0           0\n",
       "2          1           1           0\n",
       "3          0           1           0\n",
       "4          0           0           1\n",
       "5          1           0           1\n",
       "6          0           1           1\n",
       "7          1           1           1"
      ]
     },
     "execution_count": 7,
     "metadata": {},
     "output_type": "execute_result"
    }
   ],
   "source": [
    "train = wines.copy()\n",
    "test = wines[['wine_amer', 'judge_amer', 'flight_red']].drop_duplicates().reset_index(drop=True)\n",
    "\n",
    "test"
   ]
  },
  {
   "cell_type": "markdown",
   "metadata": {},
   "source": [
    "## univariates"
   ]
  },
  {
   "cell_type": "code",
   "execution_count": 8,
   "metadata": {},
   "outputs": [
    {
     "name": "stderr",
     "output_type": "stream",
     "text": [
      "Auto-assigning NUTS sampler...\n",
      "Initializing NUTS using jitter+adapt_diag...\n",
      "Multiprocess sampling (2 chains in 2 jobs)\n",
      "NUTS: [sigma, alpha]\n",
      "Sampling 2 chains: 100%|██████████| 25000/25000 [00:14<00:00, 1767.58draws/s]\n"
     ]
    }
   ],
   "source": [
    "with pm.Model() as model_j:\n",
    "    alpha = pm.Normal('alpha', mu=0, sd=1, shape=2)\n",
    "\n",
    "    score = pm.Deterministic(\n",
    "        'score',\n",
    "        train.score.mean() + alpha[train.judge_amer.values]\n",
    "    )\n",
    "\n",
    "    score_test = pm.Deterministic(\n",
    "        'score_test',\n",
    "        train.score.mean()\n",
    "        + alpha[test.judge_amer.values]\n",
    "    )\n",
    "\n",
    "    score_sigma = pm.HalfCauchy('sigma', 10)\n",
    "    score_obs = pm.Normal('score_obs', mu=score, sd=score_sigma, observed=train.score)\n",
    "\n",
    "    model_j.name = 'judge'\n",
    "    model_j.trace = pm.sample(10000, tune=2500, chains=2)"
   ]
  },
  {
   "cell_type": "code",
   "execution_count": 9,
   "metadata": {},
   "outputs": [
    {
     "data": {
      "image/png": "[encoded data removed]",
      "text/plain": [
       "<Figure size 864x180 with 2 Axes>"
      ]
     },
     "metadata": {
      "needs_background": "light"
     },
     "output_type": "display_data"
    }
   ],
   "source": [
    "pm.plot_posterior(model_j.trace, varnames=['alpha'])\n",
    "None"
   ]
  },
  {
   "cell_type": "markdown",
   "metadata": {},
   "source": [
    "## single interaction, flight vs wine"
   ]
  },
  {
   "cell_type": "code",
   "execution_count": 11,
   "metadata": {},
   "outputs": [
    {
     "name": "stderr",
     "output_type": "stream",
     "text": [
      "/home/petrushev/projects/jup_venv/lib/python3.7/site-packages/theano/tensor/subtensor.py:2197: FutureWarning: Using a non-tuple sequence for multidimensional indexing is deprecated; use `arr[tuple(seq)]` instead of `arr[seq]`. In the future this will be interpreted as an array index, `arr[np.array(seq)]`, which will result either in an error or a different result.\n",
      "  rval = inputs[0].__getitem__(inputs[1:])\n",
      "Auto-assigning NUTS sampler...\n",
      "Initializing NUTS using jitter+adapt_diag...\n",
      "/home/petrushev/projects/jup_venv/lib/python3.7/site-packages/theano/tensor/subtensor.py:2197: FutureWarning: Using a non-tuple sequence for multidimensional indexing is deprecated; use `arr[tuple(seq)]` instead of `arr[seq]`. In the future this will be interpreted as an array index, `arr[np.array(seq)]`, which will result either in an error or a different result.\n",
      "  rval = inputs[0].__getitem__(inputs[1:])\n",
      "Multiprocess sampling (2 chains in 2 jobs)\n",
      "NUTS: [sigma, beta]\n",
      "Sampling 2 chains: 100%|██████████| 25000/25000 [00:18<00:00, 1320.14draws/s]\n"
     ]
    }
   ],
   "source": [
    "with pm.Model() as model_fw:\n",
    "    beta = pm.Normal('beta', mu=0, sd=1, shape=(2, 2))\n",
    "\n",
    "    score = pm.Deterministic(\n",
    "        'score',\n",
    "        train.score.mean()\n",
    "        + beta[train.wine_amer.values, train.flight_red.values]\n",
    "    )\n",
    "\n",
    "    score_test = pm.Deterministic(\n",
    "        'score_test',\n",
    "        train.score.mean()\n",
    "        + beta[test.wine_amer.values, test.flight_red.values]\n",
    "    )\n",
    "\n",
    "    score_sigma = pm.HalfCauchy('sigma', 10)\n",
    "    score_obs = pm.Normal('score_obs', mu=score, sd=score_sigma, observed=train.score)\n",
    "\n",
    "    model_fw.name = 'wine vs flight'\n",
    "    model_fw.trace = pm.sample(10000, tune=2500, chains=2)"
   ]
  },
  {
   "cell_type": "markdown",
   "metadata": {},
   "source": [
    "## interaction + judge"
   ]
  },
  {
   "cell_type": "code",
   "execution_count": 12,
   "metadata": {},
   "outputs": [
    {
     "name": "stderr",
     "output_type": "stream",
     "text": [
      "Auto-assigning NUTS sampler...\n",
      "Initializing NUTS using jitter+adapt_diag...\n",
      "/home/petrushev/projects/jup_venv/lib/python3.7/site-packages/theano/tensor/subtensor.py:2197: FutureWarning: Using a non-tuple sequence for multidimensional indexing is deprecated; use `arr[tuple(seq)]` instead of `arr[seq]`. In the future this will be interpreted as an array index, `arr[np.array(seq)]`, which will result either in an error or a different result.\n",
      "  rval = inputs[0].__getitem__(inputs[1:])\n",
      "Multiprocess sampling (2 chains in 2 jobs)\n",
      "NUTS: [sigma, beta_j, beta]\n",
      "/home/petrushev/projects/jup_venv/lib/python3.7/site-packages/theano/tensor/subtensor.py:2197: FutureWarning: Using a non-tuple sequence for multidimensional indexing is deprecated; use `arr[tuple(seq)]` instead of `arr[seq]`. In the future this will be interpreted as an array index, `arr[np.array(seq)]`, which will result either in an error or a different result.\n",
      "  rval = inputs[0].__getitem__(inputs[1:])\n",
      "Sampling 2 chains: 100%|██████████| 25000/25000 [00:35<00:00, 695.99draws/s]\n"
     ]
    }
   ],
   "source": [
    "with pm.Model() as model_fw_j:\n",
    "    beta = pm.Normal('beta', mu=0, sd=1, shape=(2, 2))\n",
    "    beta_j = pm.Normal('beta_j', mu=0, sd=1, shape=2)\n",
    "\n",
    "    score = pm.Deterministic(\n",
    "        'score',\n",
    "        train.score.mean()\n",
    "        + beta[train.wine_amer.values, train.flight_red.values]\n",
    "        + beta_j[train.judge_amer.values]\n",
    "    )\n",
    "\n",
    "    score_test = pm.Deterministic(\n",
    "        'score_test',\n",
    "        train.score.mean()\n",
    "        + beta[test.wine_amer.values, test.flight_red.values]\n",
    "        + beta_j[test.judge_amer.values]\n",
    "    )\n",
    "    \n",
    "    score_sigma = pm.HalfCauchy('sigma', 10)\n",
    "    score_obs = pm.Normal('score_obs', mu=score, sd=score_sigma, observed=train.score)\n",
    "\n",
    "    model_fw_j.name = 'wine vs flight & judge'\n",
    "    model_fw_j.trace = pm.sample(10000, tune=2500, chains=2)"
   ]
  },
  {
   "cell_type": "markdown",
   "metadata": {},
   "source": [
    "---"
   ]
  },
  {
   "cell_type": "markdown",
   "metadata": {},
   "source": [
    "## comparison"
   ]
  },
  {
   "cell_type": "code",
   "execution_count": 13,
   "metadata": {},
   "outputs": [
    {
     "name": "stderr",
     "output_type": "stream",
     "text": [
      "/home/petrushev/projects/jup_venv/lib/python3.7/site-packages/theano/tensor/subtensor.py:2197: FutureWarning: Using a non-tuple sequence for multidimensional indexing is deprecated; use `arr[tuple(seq)]` instead of `arr[seq]`. In the future this will be interpreted as an array index, `arr[np.array(seq)]`, which will result either in an error or a different result.\n",
      "  rval = inputs[0].__getitem__(inputs[1:])\n",
      "/home/petrushev/projects/jup_venv/lib/python3.7/site-packages/theano/tensor/subtensor.py:2197: FutureWarning: Using a non-tuple sequence for multidimensional indexing is deprecated; use `arr[tuple(seq)]` instead of `arr[seq]`. In the future this will be interpreted as an array index, `arr[np.array(seq)]`, which will result either in an error or a different result.\n",
      "  rval = inputs[0].__getitem__(inputs[1:])\n"
     ]
    },
    {
     "data": {
      "text/html": [
       "<div>\n",
       "<style scoped>\n",
       "    .dataframe tbody tr th:only-of-type {\n",
       "        vertical-align: middle;\n",
       "    }\n",
       "\n",
       "    .dataframe tbody tr th {\n",
       "        vertical-align: top;\n",
       "    }\n",
       "\n",
       "    .dataframe thead th {\n",
       "        text-align: right;\n",
       "    }\n",
       "</style>\n",
       "<table border=\"1\" class=\"dataframe\">\n",
       "  <thead>\n",
       "    <tr style=\"text-align: right;\">\n",
       "      <th></th>\n",
       "      <th>WAIC</th>\n",
       "      <th>pWAIC</th>\n",
       "      <th>dWAIC</th>\n",
       "      <th>weight</th>\n",
       "      <th>SE</th>\n",
       "      <th>dSE</th>\n",
       "      <th>var_warn</th>\n",
       "    </tr>\n",
       "  </thead>\n",
       "  <tbody>\n",
       "    <tr>\n",
       "      <th>wine vs flight &amp; judge</th>\n",
       "      <td>865.26</td>\n",
       "      <td>5.15</td>\n",
       "      <td>0</td>\n",
       "      <td>0.15</td>\n",
       "      <td>17.13</td>\n",
       "      <td>0</td>\n",
       "      <td>0</td>\n",
       "    </tr>\n",
       "    <tr>\n",
       "      <th>judge</th>\n",
       "      <td>865.31</td>\n",
       "      <td>2.64</td>\n",
       "      <td>0.05</td>\n",
       "      <td>0.49</td>\n",
       "      <td>17.44</td>\n",
       "      <td>4.06</td>\n",
       "      <td>0</td>\n",
       "    </tr>\n",
       "    <tr>\n",
       "      <th>wine vs flight</th>\n",
       "      <td>865.89</td>\n",
       "      <td>4.07</td>\n",
       "      <td>0.63</td>\n",
       "      <td>0.35</td>\n",
       "      <td>16.3</td>\n",
       "      <td>3.18</td>\n",
       "      <td>0</td>\n",
       "    </tr>\n",
       "  </tbody>\n",
       "</table>\n",
       "</div>"
      ],
      "text/plain": [
       "                          WAIC pWAIC dWAIC weight     SE   dSE var_warn\n",
       "wine vs flight & judge  865.26  5.15     0   0.15  17.13     0        0\n",
       "judge                   865.31  2.64  0.05   0.49  17.44  4.06        0\n",
       "wine vs flight          865.89  4.07  0.63   0.35   16.3  3.18        0"
      ]
     },
     "execution_count": 13,
     "metadata": {},
     "output_type": "execute_result"
    }
   ],
   "source": [
    "comparison = pm.compare({\n",
    "    model_j: model_j.trace,\n",
    "    model_fw: model_fw.trace,\n",
    "    model_fw_j: model_fw_j.trace,\n",
    "})\n",
    "\n",
    "comparison"
   ]
  },
  {
   "cell_type": "markdown",
   "metadata": {},
   "source": [
    "## ensemble model"
   ]
  },
  {
   "cell_type": "code",
   "execution_count": 73,
   "metadata": {},
   "outputs": [
    {
     "data": {
      "text/html": [
       "<div>\n",
       "<style scoped>\n",
       "    .dataframe tbody tr th:only-of-type {\n",
       "        vertical-align: middle;\n",
       "    }\n",
       "\n",
       "    .dataframe tbody tr th {\n",
       "        vertical-align: top;\n",
       "    }\n",
       "\n",
       "    .dataframe thead th {\n",
       "        text-align: right;\n",
       "    }\n",
       "</style>\n",
       "<table border=\"1\" class=\"dataframe\">\n",
       "  <thead>\n",
       "    <tr style=\"text-align: right;\">\n",
       "      <th></th>\n",
       "      <th>weight</th>\n",
       "    </tr>\n",
       "  </thead>\n",
       "  <tbody>\n",
       "    <tr>\n",
       "      <th>wine vs flight &amp; judge</th>\n",
       "      <td>6122</td>\n",
       "    </tr>\n",
       "    <tr>\n",
       "      <th>judge</th>\n",
       "      <td>20000</td>\n",
       "    </tr>\n",
       "    <tr>\n",
       "      <th>wine vs flight</th>\n",
       "      <td>14285</td>\n",
       "    </tr>\n",
       "  </tbody>\n",
       "</table>\n",
       "</div>"
      ],
      "text/plain": [
       "                        weight\n",
       "wine vs flight & judge    6122\n",
       "judge                    20000\n",
       "wine vs flight           14285"
      ]
     },
     "execution_count": 73,
     "metadata": {},
     "output_type": "execute_result"
    }
   ],
   "source": [
    "nsamples = (comparison.weight / comparison.weight.max() * 20000).astype('int')\n",
    "nsamples.to_frame()"
   ]
  },
  {
   "cell_type": "code",
   "execution_count": 80,
   "metadata": {},
   "outputs": [
    {
     "data": {
      "text/html": [
       "<div>\n",
       "<style scoped>\n",
       "    .dataframe tbody tr th:only-of-type {\n",
       "        vertical-align: middle;\n",
       "    }\n",
       "\n",
       "    .dataframe tbody tr th {\n",
       "        vertical-align: top;\n",
       "    }\n",
       "\n",
       "    .dataframe thead th {\n",
       "        text-align: right;\n",
       "    }\n",
       "</style>\n",
       "<table border=\"1\" class=\"dataframe\">\n",
       "  <thead>\n",
       "    <tr style=\"text-align: right;\">\n",
       "      <th></th>\n",
       "      <th>level_1</th>\n",
       "      <th>mean_</th>\n",
       "      <th>lower</th>\n",
       "      <th>upper</th>\n",
       "      <th>wine_amer</th>\n",
       "      <th>judge_amer</th>\n",
       "      <th>flight_red</th>\n",
       "    </tr>\n",
       "  </thead>\n",
       "  <tbody>\n",
       "    <tr>\n",
       "      <th>0</th>\n",
       "      <td>6</td>\n",
       "      <td>14.704271</td>\n",
       "      <td>13.928152</td>\n",
       "      <td>15.576456</td>\n",
       "      <td>0</td>\n",
       "      <td>1</td>\n",
       "      <td>1</td>\n",
       "    </tr>\n",
       "    <tr>\n",
       "      <th>1</th>\n",
       "      <td>2</td>\n",
       "      <td>14.428837</td>\n",
       "      <td>13.761338</td>\n",
       "      <td>15.055313</td>\n",
       "      <td>1</td>\n",
       "      <td>1</td>\n",
       "      <td>0</td>\n",
       "    </tr>\n",
       "    <tr>\n",
       "      <th>2</th>\n",
       "      <td>3</td>\n",
       "      <td>14.310911</td>\n",
       "      <td>13.470563</td>\n",
       "      <td>15.018175</td>\n",
       "      <td>0</td>\n",
       "      <td>1</td>\n",
       "      <td>0</td>\n",
       "    </tr>\n",
       "    <tr>\n",
       "      <th>3</th>\n",
       "      <td>4</td>\n",
       "      <td>14.306782</td>\n",
       "      <td>13.364022</td>\n",
       "      <td>15.446657</td>\n",
       "      <td>0</td>\n",
       "      <td>0</td>\n",
       "      <td>1</td>\n",
       "    </tr>\n",
       "    <tr>\n",
       "      <th>4</th>\n",
       "      <td>7</td>\n",
       "      <td>14.144171</td>\n",
       "      <td>13.247386</td>\n",
       "      <td>14.928842</td>\n",
       "      <td>1</td>\n",
       "      <td>1</td>\n",
       "      <td>1</td>\n",
       "    </tr>\n",
       "    <tr>\n",
       "      <th>5</th>\n",
       "      <td>0</td>\n",
       "      <td>14.031349</td>\n",
       "      <td>13.321345</td>\n",
       "      <td>14.799743</td>\n",
       "      <td>1</td>\n",
       "      <td>0</td>\n",
       "      <td>0</td>\n",
       "    </tr>\n",
       "    <tr>\n",
       "      <th>6</th>\n",
       "      <td>1</td>\n",
       "      <td>13.913422</td>\n",
       "      <td>13.190873</td>\n",
       "      <td>14.709368</td>\n",
       "      <td>0</td>\n",
       "      <td>0</td>\n",
       "      <td>0</td>\n",
       "    </tr>\n",
       "    <tr>\n",
       "      <th>7</th>\n",
       "      <td>5</td>\n",
       "      <td>13.746682</td>\n",
       "      <td>13.005943</td>\n",
       "      <td>14.418854</td>\n",
       "      <td>1</td>\n",
       "      <td>0</td>\n",
       "      <td>1</td>\n",
       "    </tr>\n",
       "  </tbody>\n",
       "</table>\n",
       "</div>"
      ],
      "text/plain": [
       "   level_1      mean_      lower      upper  wine_amer  judge_amer  flight_red\n",
       "0        6  14.704271  13.928152  15.576456          0           1           1\n",
       "1        2  14.428837  13.761338  15.055313          1           1           0\n",
       "2        3  14.310911  13.470563  15.018175          0           1           0\n",
       "3        4  14.306782  13.364022  15.446657          0           0           1\n",
       "4        7  14.144171  13.247386  14.928842          1           1           1\n",
       "5        0  14.031349  13.321345  14.799743          1           0           0\n",
       "6        1  13.913422  13.190873  14.709368          0           0           0\n",
       "7        5  13.746682  13.005943  14.418854          1           0           1"
      ]
     },
     "execution_count": 80,
     "metadata": {},
     "output_type": "execute_result"
    }
   ],
   "source": [
    "mix = pd.concat([\n",
    "    pd.DataFrame(model_j.trace['score_test']).sample(nsamples['judge']),\n",
    "    pd.DataFrame(model_fw.trace['score_test']).sample(nsamples['wine vs flight']),\n",
    "    pd.DataFrame(model_fw_j.trace['score_test']).sample(nsamples['wine vs flight & judge']),\n",
    "\n",
    "], ignore_index=True).stack().rename('score_pred').reset_index()\n",
    "\n",
    "mix = mix.groupby('level_1').score_pred.apply(summarize()).unstack().join(test).sort_values('mean_', ascending=False).reset_index()\n",
    "mix"
   ]
  },
  {
   "cell_type": "code",
   "execution_count": 81,
   "metadata": {},
   "outputs": [
    {
     "data": {
      "image/png": "[encoded data removed]",
      "text/plain": [
       "<Figure size 900x450 with 1 Axes>"
      ]
     },
     "metadata": {
      "needs_background": "light"
     },
     "output_type": "display_data"
    }
   ],
   "source": [
    "fig, ax = plt.subplots(1, 1, figsize=(10, 5), dpi=90)\n",
    "\n",
    "ticks, labels = [], []\n",
    "\n",
    "for ix, row in mix.iterrows():\n",
    "    pred = ax.plot((row.lower, row.upper), (ix, ix), c='r')\n",
    "    ax.scatter(row.mean_, ix, c='r', alpha=.6)\n",
    "\n",
    "    tmp_true = train[(train.wine_amer == row.wine_amer)\n",
    "                     & (train.judge_amer == row.judge_amer)\n",
    "                     & (train.flight_red == row.flight_red)]\n",
    "\n",
    "    obs = ax.scatter(tmp_true.score, np.ones(tmp_true.shape[0]) * ix, c='b', alpha=.6)\n",
    "\n",
    "ax.axvline(train.score.mean(), label='mean score', c='green', linestyle='--')\n",
    "    \n",
    "ax.set(xlabel='score', ylabel='wine-judge-flight combination',\n",
    "       xlim=(6, 20), title='ensamble predictions', ylim=(-0.1, 7.1))\n",
    "    \n",
    "    \n",
    "obs.set_label('observed')\n",
    "pred[0].set_label('predicted')\n",
    "\n",
    "fig.legend()\n",
    "None"
   ]
  },
  {
   "cell_type": "code",
   "execution_count": null,
   "metadata": {},
   "outputs": [],
   "source": []
  }
 ],
 "metadata": {
  "kernelspec": {
   "display_name": "Python 3",
   "language": "python",
   "name": "python3"
  },
  "language_info": {
   "codemirror_mode": {
    "name": "ipython",
    "version": 3
   },
   "file_extension": ".py",
   "mimetype": "text/x-python",
   "name": "python",
   "nbconvert_exporter": "python",
   "pygments_lexer": "ipython3",
   "version": "3.7.2"
  },
  "toc": {
   "base_numbering": 1,
   "nav_menu": {},
   "number_sections": true,
   "sideBar": true,
   "skip_h1_title": false,
   "title_cell": "Table of Contents",
   "title_sidebar": "Contents",
   "toc_cell": false,
   "toc_position": {},
   "toc_section_display": true,
   "toc_window_display": false
  },
  "varInspector": {
   "cols": {
    "lenName": 16,
    "lenType": 16,
    "lenVar": 40
   },
   "kernels_config": {
    "python": {
     "delete_cmd_postfix": "",
     "delete_cmd_prefix": "del ",
     "library": "var_list.py",
     "varRefreshCmd": "print(var_dic_list())"
    },
    "r": {
     "delete_cmd_postfix": ") ",
     "delete_cmd_prefix": "rm(",
     "library": "var_list.r",
     "varRefreshCmd": "cat(var_dic_list()) "
    }
   },
   "types_to_exclude": [
    "module",
    "function",
    "builtin_function_or_method",
    "instance",
    "_Feature"
   ],
   "window_display": false
  }
 },
 "nbformat": 4,
 "nbformat_minor": 2
}
