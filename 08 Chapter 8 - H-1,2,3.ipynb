{
 "cells": [
  {
   "cell_type": "code",
   "execution_count": 1,
   "metadata": {},
   "outputs": [
    {
     "name": "stderr",
     "output_type": "stream",
     "text": [
      "WARNING (theano.tensor.blas): Using NumPy C-API based implementation for BLAS functions.\n"
     ]
    }
   ],
   "source": [
    "%matplotlib inline\n",
    "\n",
    "import pandas as pd\n",
    "import pymc3 as pm\n",
    "import matplotlib.pyplot as plt\n",
    "from scipy import stats\n",
    "import numpy as np\n",
    "\n",
    "plt.style.use('seaborn-whitegrid')"
   ]
  },
  {
   "cell_type": "markdown",
   "metadata": {},
   "source": [
    "**8H1** Run the model below and then inspect the posterior distribution and explain what it is accomplishing.\n",
    "\n",
    "```\n",
    "mp <- map2stan(\n",
    "    alist(\n",
    "        a ~ dnorm(0,1),\n",
    "        b ~ dcauchy(0,1)\n",
    "    ),\n",
    "    data=list(y=1),\n",
    "    start=list(a=0,b=0),\n",
    "    iter=1e4, warmup=100 , WAIC=FALSE )\n",
    "```\n",
    "\n",
    "Compare the samples for the parameters `a` and `b`. Can you explain the different trace plots, using what you know about the Cauchy distribution?\n",
    "\n"
   ]
  },
  {
   "cell_type": "code",
   "execution_count": 2,
   "metadata": {},
   "outputs": [
    {
     "name": "stderr",
     "output_type": "stream",
     "text": [
      "Auto-assigning NUTS sampler...\n",
      "Initializing NUTS using jitter+adapt_diag...\n",
      "Multiprocess sampling (2 chains in 2 jobs)\n",
      "NUTS: [b, a]\n",
      "Sampling 2 chains: 100%|██████████| 12000/12000 [00:13<00:00, 913.75draws/s]\n",
      "The acceptance probability does not match the target. It is 0.9628618230061867, but should be close to 0.8. Try to increase the number of tuning steps.\n",
      "The number of effective samples is smaller than 25% for some parameters.\n"
     ]
    }
   ],
   "source": [
    "with pm.Model() as model_8h1:\n",
    "    a = pm.Normal('a', mu=0, sd=1)\n",
    "    b = pm.Cauchy('b', alpha=0, beta=1)\n",
    "\n",
    "    model_8h1.trace = pm.sample(5000, tune=1000, chains=2)"
   ]
  },
  {
   "cell_type": "code",
   "execution_count": 3,
   "metadata": {},
   "outputs": [
    {
     "data": {
      "image/png": "[encoded data removed]",
      "text/plain": [
       "<Figure size 864x180 with 2 Axes>"
      ]
     },
     "metadata": {
      "needs_background": "light"
     },
     "output_type": "display_data"
    }
   ],
   "source": [
    "pm.plot_posterior(model_8h1.trace)\n",
    "None"
   ]
  },
  {
   "cell_type": "markdown",
   "metadata": {},
   "source": [
    "**8H2** Recall the divorce rate example from Chapter 5. Repeat that analysis, using map2stan this time, fitting models `m5.1`, `m5.2`, and `m5.3`. Use compare to compare the models on the basis of WAIC. Explain the results.\n"
   ]
  },
  {
   "cell_type": "code",
   "execution_count": 4,
   "metadata": {},
   "outputs": [],
   "source": [
    "waffle = pd.read_csv('data/WaffleDivorce.csv', sep=';')"
   ]
  },
  {
   "cell_type": "code",
   "execution_count": 5,
   "metadata": {},
   "outputs": [
    {
     "name": "stderr",
     "output_type": "stream",
     "text": [
      "Auto-assigning NUTS sampler...\n",
      "Initializing NUTS using jitter+adapt_diag...\n",
      "Multiprocess sampling (2 chains in 2 jobs)\n",
      "NUTS: [sigma, ba, a]\n",
      "Sampling 2 chains: 100%|██████████| 12000/12000 [00:06<00:00, 1899.96draws/s]\n"
     ]
    }
   ],
   "source": [
    "with pm.Model() as model_5_1:\n",
    "    a = pm.Normal('a', mu=10, sd=10)\n",
    "    ba = pm.Normal('ba', mu=0, sd=1)\n",
    "    sigma = pm.Uniform('sigma', lower=0, upper=10)\n",
    "    mu = pm.Deterministic(\n",
    "        'mu',\n",
    "        a + ba * (waffle['MedianAgeMarriage'] - waffle['MedianAgeMarriage'].mean()) \n",
    "                 / waffle['MedianAgeMarriage'].std()\n",
    "    )\n",
    "    \n",
    "    divorce = pm.Normal('divorce', mu=mu, sd=sigma, observed=waffle['Divorce'])\n",
    "\n",
    "    model_5_1.name = 'm5.1'\n",
    "    model_5_1.trace = pm.sample(5000, tune=1000, chains=2)"
   ]
  },
  {
   "cell_type": "code",
   "execution_count": 6,
   "metadata": {},
   "outputs": [
    {
     "name": "stderr",
     "output_type": "stream",
     "text": [
      "Auto-assigning NUTS sampler...\n",
      "Initializing NUTS using jitter+adapt_diag...\n",
      "Multiprocess sampling (2 chains in 2 jobs)\n",
      "NUTS: [sigma, br, a]\n",
      "Sampling 2 chains: 100%|██████████| 12000/12000 [00:06<00:00, 1760.30draws/s]\n"
     ]
    }
   ],
   "source": [
    "with pm.Model() as model_5_2:\n",
    "    a = pm.Normal('a', mu=10, sd=10)\n",
    "    br = pm.Normal('br', mu=0, sd=1)\n",
    "    sigma = pm.Uniform('sigma', lower=0, upper=10)\n",
    "    mu = pm.Deterministic(\n",
    "        'mu',\n",
    "        a + br * (waffle['Marriage'] - waffle['Marriage'].mean())\n",
    "                 / waffle['Marriage'].std()\n",
    "    )\n",
    "    \n",
    "    divorce = pm.Normal('divorce', mu=mu, sd=sigma, observed=waffle['Divorce'])\n",
    "\n",
    "    model_5_2.name = 'm5.2'\n",
    "    model_5_2.trace = pm.sample(5000, tune=1000, chains=2)"
   ]
  },
  {
   "cell_type": "code",
   "execution_count": 7,
   "metadata": {},
   "outputs": [
    {
     "name": "stderr",
     "output_type": "stream",
     "text": [
      "Auto-assigning NUTS sampler...\n",
      "Initializing NUTS using jitter+adapt_diag...\n",
      "Multiprocess sampling (2 chains in 2 jobs)\n",
      "NUTS: [sigma, br, ba, a]\n",
      "Sampling 2 chains: 100%|██████████| 12000/12000 [00:09<00:00, 1307.21draws/s]\n"
     ]
    }
   ],
   "source": [
    "with pm.Model() as model_5_3:\n",
    "    a = pm.Normal('a', mu=10, sd=10)\n",
    "    ba = pm.Normal('ba', mu=0, sd=1)\n",
    "    br = pm.Normal('br', mu=0, sd=1)\n",
    "    sigma = pm.Uniform('sigma', lower=0, upper=10)\n",
    "    mu = pm.Deterministic(\n",
    "        'mu',\n",
    "        a\n",
    "        + ba * (waffle['MedianAgeMarriage'] - waffle['MedianAgeMarriage'].mean()) \n",
    "                 / waffle['MedianAgeMarriage'].std()\n",
    "        + br * (waffle['Marriage'] - waffle['Marriage'].mean())\n",
    "                 / waffle['Marriage'].std()\n",
    "    )\n",
    "    \n",
    "    divorce = pm.Normal('divorce', mu=mu, sd=sigma, observed=waffle['Divorce'])\n",
    "\n",
    "    model_5_3.name = 'm5.3'\n",
    "    model_5_3.trace = pm.sample(5000, tune=1000, chains=2)"
   ]
  },
  {
   "cell_type": "code",
   "execution_count": 8,
   "metadata": {},
   "outputs": [
    {
     "name": "stderr",
     "output_type": "stream",
     "text": [
      "/home/petrushev/projects/jup_venv/lib/python3.7/site-packages/pymc3/stats.py:218: UserWarning: For one or more samples the posterior variance of the\n",
      "        log predictive densities exceeds 0.4. This could be indication of\n",
      "        WAIC starting to fail see http://arxiv.org/abs/1507.04544 for details\n",
      "        \n",
      "  \"\"\")\n",
      "/home/petrushev/projects/jup_venv/lib/python3.7/site-packages/pymc3/stats.py:218: UserWarning: For one or more samples the posterior variance of the\n",
      "        log predictive densities exceeds 0.4. This could be indication of\n",
      "        WAIC starting to fail see http://arxiv.org/abs/1507.04544 for details\n",
      "        \n",
      "  \"\"\")\n"
     ]
    },
    {
     "data": {
      "text/html": [
       "<div>\n",
       "<style scoped>\n",
       "    .dataframe tbody tr th:only-of-type {\n",
       "        vertical-align: middle;\n",
       "    }\n",
       "\n",
       "    .dataframe tbody tr th {\n",
       "        vertical-align: top;\n",
       "    }\n",
       "\n",
       "    .dataframe thead th {\n",
       "        text-align: right;\n",
       "    }\n",
       "</style>\n",
       "<table border=\"1\" class=\"dataframe\">\n",
       "  <thead>\n",
       "    <tr style=\"text-align: right;\">\n",
       "      <th></th>\n",
       "      <th>WAIC</th>\n",
       "      <th>pWAIC</th>\n",
       "      <th>dWAIC</th>\n",
       "      <th>weight</th>\n",
       "      <th>SE</th>\n",
       "      <th>dSE</th>\n",
       "      <th>var_warn</th>\n",
       "    </tr>\n",
       "  </thead>\n",
       "  <tbody>\n",
       "    <tr>\n",
       "      <th>m5.1</th>\n",
       "      <td>186.27</td>\n",
       "      <td>3.86</td>\n",
       "      <td>0</td>\n",
       "      <td>0.66</td>\n",
       "      <td>12.18</td>\n",
       "      <td>0</td>\n",
       "      <td>1</td>\n",
       "    </tr>\n",
       "    <tr>\n",
       "      <th>m5.3</th>\n",
       "      <td>188.11</td>\n",
       "      <td>4.93</td>\n",
       "      <td>1.85</td>\n",
       "      <td>0.27</td>\n",
       "      <td>12.17</td>\n",
       "      <td>0.8</td>\n",
       "      <td>1</td>\n",
       "    </tr>\n",
       "    <tr>\n",
       "      <th>m5.2</th>\n",
       "      <td>199.86</td>\n",
       "      <td>3.18</td>\n",
       "      <td>13.6</td>\n",
       "      <td>0.07</td>\n",
       "      <td>10.02</td>\n",
       "      <td>9.03</td>\n",
       "      <td>1</td>\n",
       "    </tr>\n",
       "  </tbody>\n",
       "</table>\n",
       "</div>"
      ],
      "text/plain": [
       "        WAIC pWAIC dWAIC weight     SE   dSE var_warn\n",
       "m5.1  186.27  3.86     0   0.66  12.18     0        1\n",
       "m5.3  188.11  4.93  1.85   0.27  12.17   0.8        1\n",
       "m5.2  199.86  3.18  13.6   0.07  10.02  9.03        1"
      ]
     },
     "execution_count": 8,
     "metadata": {},
     "output_type": "execute_result"
    }
   ],
   "source": [
    "pm.compare({\n",
    "        model_5_1: model_5_1.trace,\n",
    "        model_5_2: model_5_2.trace,\n",
    "        model_5_3: model_5_3.trace,\n",
    "    },\n",
    "    method='BB-pseudo-BMA'\n",
    ")"
   ]
  },
  {
   "cell_type": "markdown",
   "metadata": {},
   "source": [
    "---\n",
    "**8H3** 8H3. Sometimes changing a prior for one parameter has unanticipated effects on other parameters. This is because when a parameter is highly correlated with another parameter in the posterior, the prior influences both parameters. Here’s an example to work and think through. Go back to the leg length example in Chapter 5. Here is the code again, which simulates height and leg lengths for 100 imagined individuals"
   ]
  },
  {
   "cell_type": "code",
   "execution_count": 9,
   "metadata": {},
   "outputs": [
    {
     "data": {
      "text/html": [
       "<div>\n",
       "<style scoped>\n",
       "    .dataframe tbody tr th:only-of-type {\n",
       "        vertical-align: middle;\n",
       "    }\n",
       "\n",
       "    .dataframe tbody tr th {\n",
       "        vertical-align: top;\n",
       "    }\n",
       "\n",
       "    .dataframe thead th {\n",
       "        text-align: right;\n",
       "    }\n",
       "</style>\n",
       "<table border=\"1\" class=\"dataframe\">\n",
       "  <thead>\n",
       "    <tr style=\"text-align: right;\">\n",
       "      <th></th>\n",
       "      <th>height</th>\n",
       "      <th>leg_prop</th>\n",
       "      <th>leg_left</th>\n",
       "      <th>leg_right</th>\n",
       "    </tr>\n",
       "  </thead>\n",
       "  <tbody>\n",
       "    <tr>\n",
       "      <th>0</th>\n",
       "      <td>9.506519</td>\n",
       "      <td>0.777847</td>\n",
       "      <td>7.386613</td>\n",
       "      <td>7.401012</td>\n",
       "    </tr>\n",
       "    <tr>\n",
       "      <th>1</th>\n",
       "      <td>7.924869</td>\n",
       "      <td>0.689147</td>\n",
       "      <td>5.449468</td>\n",
       "      <td>5.464275</td>\n",
       "    </tr>\n",
       "    <tr>\n",
       "      <th>2</th>\n",
       "      <td>11.490931</td>\n",
       "      <td>0.500530</td>\n",
       "      <td>5.760454</td>\n",
       "      <td>5.777771</td>\n",
       "    </tr>\n",
       "    <tr>\n",
       "      <th>3</th>\n",
       "      <td>6.764755</td>\n",
       "      <td>0.645378</td>\n",
       "      <td>4.355596</td>\n",
       "      <td>4.374617</td>\n",
       "    </tr>\n",
       "    <tr>\n",
       "      <th>4</th>\n",
       "      <td>6.176718</td>\n",
       "      <td>0.720725</td>\n",
       "      <td>4.438574</td>\n",
       "      <td>4.461163</td>\n",
       "    </tr>\n",
       "  </tbody>\n",
       "</table>\n",
       "</div>"
      ],
      "text/plain": [
       "      height  leg_prop  leg_left  leg_right\n",
       "0   9.506519  0.777847  7.386613   7.401012\n",
       "1   7.924869  0.689147  5.449468   5.464275\n",
       "2  11.490931  0.500530  5.760454   5.777771\n",
       "3   6.764755  0.645378  4.355596   4.374617\n",
       "4   6.176718  0.720725  4.438574   4.461163"
      ]
     },
     "execution_count": 9,
     "metadata": {},
     "output_type": "execute_result"
    }
   ],
   "source": [
    "N = 100\n",
    "\n",
    "height = stats.norm(loc=10, scale=2).rvs(N)\n",
    "leg_prop = stats.uniform(0.4, 0.5).rvs(N)\n",
    "leg_left = leg_prop * height + stats.norm(loc=0, scale=0.02).rvs(N)\n",
    "leg_right = leg_prop * height + stats.norm(loc=0, scale=0.02).rvs(N)\n",
    "\n",
    "data = pd.DataFrame(dict(\n",
    "    height=height, leg_prop=leg_prop, leg_left=leg_left, leg_right=leg_right\n",
    "))\n",
    "\n",
    "data.head()"
   ]
  },
  {
   "cell_type": "markdown",
   "metadata": {},
   "source": [
    "And below is the model you fit before, resulting in a highly correlated posterior for the two beta\n",
    "parameters. This time, fit the model using map2stan:\n"
   ]
  },
  {
   "cell_type": "code",
   "execution_count": 10,
   "metadata": {},
   "outputs": [
    {
     "name": "stderr",
     "output_type": "stream",
     "text": [
      "/home/petrushev/projects/jup_venv/lib/python3.7/site-packages/pymc3/tuning/starting.py:61: UserWarning: find_MAP should not be used to initialize the NUTS sampler, simply call pymc3.sample() and it will automatically initialize NUTS in a better way.\n",
      "  warnings.warn('find_MAP should not be used to initialize the NUTS sampler, simply call pymc3.sample() and it will automatically initialize NUTS in a better way.')\n",
      "logp = -182.01, ||grad|| = 0.17759: 100%|██████████| 56/56 [00:00<00:00, 1199.36it/s]  \n",
      "Auto-assigning NUTS sampler...\n",
      "Initializing NUTS using jitter+adapt_diag...\n",
      "Multiprocess sampling (2 chains in 2 jobs)\n",
      "NUTS: [sigma, br, bl, a]\n",
      "Sampling 2 chains: 100%|██████████| 7000/7000 [05:32<00:00,  9.84draws/s]\n",
      "The acceptance probability does not match the target. It is 0.880517526306921, but should be close to 0.8. Try to increase the number of tuning steps.\n"
     ]
    }
   ],
   "source": [
    "with pm.Model() as m5_8:\n",
    "    a = pm.Normal('a', mu=10, sd=100)\n",
    "    bl = pm.Normal('bl', mu=2, sd=10)\n",
    "    br = pm.Normal('br', mu=2, sd=10)\n",
    "\n",
    "    mu = pm.Deterministic('mu', a + bl * data.leg_left.values + br * data.leg_right.values)\n",
    "\n",
    "    sigma = pm.HalfCauchy('sigma', beta=10)\n",
    "    height = pm.Normal('height', mu=mu, sd=sigma,\n",
    "                       observed=data.height.values)\n",
    "\n",
    "    m5_8.name = 'm5_8'\n",
    "    start = pm.find_MAP()\n",
    "    m5_8.trace = pm.sample(3000, tune=500, chains=2, start=start)"
   ]
  },
  {
   "cell_type": "code",
   "execution_count": 11,
   "metadata": {},
   "outputs": [
    {
     "data": {
      "image/png": "[encoded data removed]",
      "text/plain": [
       "<Figure size 864x360 with 4 Axes>"
      ]
     },
     "metadata": {
      "needs_background": "light"
     },
     "output_type": "display_data"
    }
   ],
   "source": [
    "pm.plot_posterior(m5_8.trace, varnames=['a', 'bl', 'br'])\n",
    "None"
   ]
  },
  {
   "cell_type": "markdown",
   "metadata": {},
   "source": [
    "Compare the posterior distribution produced by the code above to the posterior distribution produced when you change the prior for br so that it is strictly positive:\n"
   ]
  },
  {
   "cell_type": "code",
   "execution_count": 12,
   "metadata": {},
   "outputs": [
    {
     "name": "stderr",
     "output_type": "stream",
     "text": [
      "/home/petrushev/projects/jup_venv/lib/python3.7/site-packages/pymc3/tuning/starting.py:61: UserWarning: find_MAP should not be used to initialize the NUTS sampler, simply call pymc3.sample() and it will automatically initialize NUTS in a better way.\n",
      "  warnings.warn('find_MAP should not be used to initialize the NUTS sampler, simply call pymc3.sample() and it will automatically initialize NUTS in a better way.')\n",
      "logp = -183.63, ||grad|| = 0.045203: 100%|██████████| 97/97 [00:00<00:00, 1866.50it/s]  \n",
      "Auto-assigning NUTS sampler...\n",
      "Initializing NUTS using jitter+adapt_diag...\n",
      "Multiprocess sampling (2 chains in 2 jobs)\n",
      "NUTS: [sigma, br, bl, a]\n",
      "Sampling 2 chains: 100%|██████████| 7000/7000 [01:08<00:00, 101.62draws/s]\n",
      "There were 133 divergences after tuning. Increase `target_accept` or reparameterize.\n",
      "There were 238 divergences after tuning. Increase `target_accept` or reparameterize.\n",
      "The acceptance probability does not match the target. It is 0.6571558072648461, but should be close to 0.8. Try to increase the number of tuning steps.\n",
      "The gelman-rubin statistic is larger than 1.05 for some parameters. This indicates slight problems during sampling.\n",
      "The estimated number of effective samples is smaller than 200 for some parameters.\n"
     ]
    }
   ],
   "source": [
    "with pm.Model() as m5_8_s2:\n",
    "    a = pm.Normal('a', mu=10, sd=100)\n",
    "    bl = pm.Normal('bl', mu=2, sd=10)\n",
    "    br = pm.Bound(pm.Normal, lower=0)('br', mu=2, sd=10)\n",
    "\n",
    "    mu = pm.Deterministic('mu', a + bl * data.leg_left.values + br * data.leg_right.values)\n",
    "\n",
    "    sigma = pm.HalfCauchy('sigma', beta=10)\n",
    "    height = pm.Normal('height', mu=mu, sd=sigma,\n",
    "                       observed=data.height.values)\n",
    "\n",
    "    m5_8_s2.name = 'm5_8_s2'\n",
    "    start = pm.find_MAP()\n",
    "    m5_8_s2.trace = pm.sample(3000, tune=500, chains=2, start=start)"
   ]
  },
  {
   "cell_type": "code",
   "execution_count": 13,
   "metadata": {},
   "outputs": [
    {
     "data": {
      "image/png": "[encoded data removed]",
      "text/plain": [
       "<Figure size 864x360 with 4 Axes>"
      ]
     },
     "metadata": {
      "needs_background": "light"
     },
     "output_type": "display_data"
    }
   ],
   "source": [
    "pm.plot_posterior(m5_8_s2.trace, varnames=['a', 'bl', 'br'])\n",
    "None"
   ]
  },
  {
   "cell_type": "code",
   "execution_count": null,
   "metadata": {},
   "outputs": [],
   "source": []
  }
 ],
 "metadata": {
  "kernelspec": {
   "display_name": "Python 3",
   "language": "python",
   "name": "python3"
  },
  "language_info": {
   "codemirror_mode": {
    "name": "ipython",
    "version": 3
   },
   "file_extension": ".py",
   "mimetype": "text/x-python",
   "name": "python",
   "nbconvert_exporter": "python",
   "pygments_lexer": "ipython3",
   "version": "3.7.3"
  },
  "toc": {
   "base_numbering": 1,
   "nav_menu": {},
   "number_sections": true,
   "sideBar": true,
   "skip_h1_title": false,
   "title_cell": "Table of Contents",
   "title_sidebar": "Contents",
   "toc_cell": false,
   "toc_position": {},
   "toc_section_display": true,
   "toc_window_display": false
  },
  "varInspector": {
   "cols": {
    "lenName": 16,
    "lenType": 16,
    "lenVar": 40
   },
   "kernels_config": {
    "python": {
     "delete_cmd_postfix": "",
     "delete_cmd_prefix": "del ",
     "library": "var_list.py",
     "varRefreshCmd": "print(var_dic_list())"
    },
    "r": {
     "delete_cmd_postfix": ") ",
     "delete_cmd_prefix": "rm(",
     "library": "var_list.r",
     "varRefreshCmd": "cat(var_dic_list()) "
    }
   },
   "types_to_exclude": [
    "module",
    "function",
    "builtin_function_or_method",
    "instance",
    "_Feature"
   ],
   "window_display": false
  }
 },
 "nbformat": 4,
 "nbformat_minor": 2
}
