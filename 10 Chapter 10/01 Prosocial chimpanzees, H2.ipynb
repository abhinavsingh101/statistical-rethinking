{
 "cells": [
  {
   "cell_type": "code",
   "execution_count": 3,
   "metadata": {},
   "outputs": [],
   "source": [
    "%matplotlib inline\n",
    "\n",
    "import pandas as pd\n",
    "import pymc3 as pm\n",
    "import matplotlib.pyplot as plt\n",
    "from scipy import stats\n",
    "import numpy as np\n",
    "\n",
    "plt.style.use('seaborn-whitegrid')"
   ]
  },
  {
   "cell_type": "code",
   "execution_count": 4,
   "metadata": {},
   "outputs": [],
   "source": [
    "def summarize(alpha=0.05):\n",
    "\n",
    "    def _summarize(ser):\n",
    "        hpd_ = pm.hpd(ser, alpha=alpha)\n",
    "        return pd.Series({\n",
    "            'mean_': ser.mean(),\n",
    "            'lower': hpd_[0],\n",
    "            'upper': hpd_[1],\n",
    "        })\n",
    "\n",
    "    return _summarize\n",
    "\n",
    "\n",
    "def agg_prediction(trace_var, source_data, group_columns, aggregate_fc):\n",
    "    df = pd.DataFrame(trace_var).stack().reset_index()\n",
    "    merged = pd.merge(\n",
    "        df, source_data,\n",
    "        left_on='level_1', right_index=True\n",
    "    )\n",
    "\n",
    "    return (\n",
    "        merged.groupby(group_columns)[0].apply(aggregate_fc)\n",
    "        .unstack().sort_index().reset_index()\n",
    "    )"
   ]
  },
  {
   "cell_type": "code",
   "execution_count": 5,
   "metadata": {},
   "outputs": [
    {
     "data": {
      "text/html": [
       "<div>\n",
       "<style scoped>\n",
       "    .dataframe tbody tr th:only-of-type {\n",
       "        vertical-align: middle;\n",
       "    }\n",
       "\n",
       "    .dataframe tbody tr th {\n",
       "        vertical-align: top;\n",
       "    }\n",
       "\n",
       "    .dataframe thead th {\n",
       "        text-align: right;\n",
       "    }\n",
       "</style>\n",
       "<table border=\"1\" class=\"dataframe\">\n",
       "  <thead>\n",
       "    <tr style=\"text-align: right;\">\n",
       "      <th></th>\n",
       "      <th>actor</th>\n",
       "      <th>recipient</th>\n",
       "      <th>condition</th>\n",
       "      <th>block</th>\n",
       "      <th>trial</th>\n",
       "      <th>prosoc_left</th>\n",
       "      <th>chose_prosoc</th>\n",
       "      <th>pulled_left</th>\n",
       "    </tr>\n",
       "  </thead>\n",
       "  <tbody>\n",
       "    <tr>\n",
       "      <th>0</th>\n",
       "      <td>1</td>\n",
       "      <td>NaN</td>\n",
       "      <td>0</td>\n",
       "      <td>1</td>\n",
       "      <td>2</td>\n",
       "      <td>0</td>\n",
       "      <td>1</td>\n",
       "      <td>0</td>\n",
       "    </tr>\n",
       "    <tr>\n",
       "      <th>1</th>\n",
       "      <td>1</td>\n",
       "      <td>NaN</td>\n",
       "      <td>0</td>\n",
       "      <td>1</td>\n",
       "      <td>4</td>\n",
       "      <td>0</td>\n",
       "      <td>0</td>\n",
       "      <td>1</td>\n",
       "    </tr>\n",
       "    <tr>\n",
       "      <th>2</th>\n",
       "      <td>1</td>\n",
       "      <td>NaN</td>\n",
       "      <td>0</td>\n",
       "      <td>1</td>\n",
       "      <td>6</td>\n",
       "      <td>1</td>\n",
       "      <td>0</td>\n",
       "      <td>0</td>\n",
       "    </tr>\n",
       "    <tr>\n",
       "      <th>3</th>\n",
       "      <td>1</td>\n",
       "      <td>NaN</td>\n",
       "      <td>0</td>\n",
       "      <td>1</td>\n",
       "      <td>8</td>\n",
       "      <td>0</td>\n",
       "      <td>1</td>\n",
       "      <td>0</td>\n",
       "    </tr>\n",
       "    <tr>\n",
       "      <th>4</th>\n",
       "      <td>1</td>\n",
       "      <td>NaN</td>\n",
       "      <td>0</td>\n",
       "      <td>1</td>\n",
       "      <td>10</td>\n",
       "      <td>1</td>\n",
       "      <td>1</td>\n",
       "      <td>1</td>\n",
       "    </tr>\n",
       "  </tbody>\n",
       "</table>\n",
       "</div>"
      ],
      "text/plain": [
       "   actor  recipient  condition  block  trial  prosoc_left  chose_prosoc  \\\n",
       "0      1        NaN          0      1      2            0             1   \n",
       "1      1        NaN          0      1      4            0             0   \n",
       "2      1        NaN          0      1      6            1             0   \n",
       "3      1        NaN          0      1      8            0             1   \n",
       "4      1        NaN          0      1     10            1             1   \n",
       "\n",
       "   pulled_left  \n",
       "0            0  \n",
       "1            1  \n",
       "2            0  \n",
       "3            0  \n",
       "4            1  "
      ]
     },
     "execution_count": 5,
     "metadata": {},
     "output_type": "execute_result"
    }
   ],
   "source": [
    "data = pd.read_csv('../data/chimpanzees.csv', sep=';')\n",
    "data.head()"
   ]
  },
  {
   "cell_type": "markdown",
   "metadata": {},
   "source": [
    "**10.1.1. Logistic regression: Prosocial chimpanzees.**"
   ]
  },
  {
   "cell_type": "code",
   "execution_count": 6,
   "metadata": {},
   "outputs": [
    {
     "name": "stderr",
     "output_type": "stream",
     "text": [
      "Auto-assigning NUTS sampler...\n",
      "Initializing NUTS using jitter+adapt_diag...\n",
      "Multiprocess sampling (2 chains in 2 jobs)\n",
      "NUTS: [alpha]\n",
      "Sampling 2 chains: 100%|██████████| 12000/12000 [00:08<00:00, 1394.00draws/s]\n"
     ]
    }
   ],
   "source": [
    "with pm.Model() as model_intercept:\n",
    "    alpha = pm.Normal('alpha', mu=0, sd=10)\n",
    "    p = pm.Deterministic('p', pm.math.invlogit(alpha))\n",
    "    \n",
    "    l = pm.Binomial('l', n=1, p=p, observed=data.pulled_left.values)\n",
    "    \n",
    "    model_intercept.name = 'intercept only'\n",
    "    model_intercept.trace = pm.sample(5000, tune=1000, chains=2)\n",
    "    "
   ]
  },
  {
   "cell_type": "code",
   "execution_count": 9,
   "metadata": {},
   "outputs": [
    {
     "data": {
      "image/png": "[encoded data removed]",
      "text/plain": [
       "<Figure size 432x288 with 1 Axes>"
      ]
     },
     "metadata": {
      "needs_background": "light"
     },
     "output_type": "display_data"
    }
   ],
   "source": [
    "pm.forestplot(model_intercept.trace, varnames=['p'], rhat=False)\n",
    "None"
   ]
  },
  {
   "cell_type": "code",
   "execution_count": 11,
   "metadata": {},
   "outputs": [
    {
     "name": "stderr",
     "output_type": "stream",
     "text": [
      "Auto-assigning NUTS sampler...\n",
      "Initializing NUTS using jitter+adapt_diag...\n",
      "Multiprocess sampling (2 chains in 2 jobs)\n",
      "NUTS: [beta, alpha]\n",
      "Sampling 2 chains: 100%|██████████| 12000/12000 [00:19<00:00, 624.66draws/s]\n"
     ]
    }
   ],
   "source": [
    "with pm.Model() as model_linear:\n",
    "    alpha = pm.Normal('alpha', mu=0, sd=10)\n",
    "    beta = pm.Normal('beta', mu=0, sd=10)\n",
    "\n",
    "    _logit_p = alpha + beta * data.prosoc_left.values\n",
    "    p = pm.Deterministic('p', pm.math.invlogit(_logit_p))\n",
    "\n",
    "    l = pm.Binomial('l', n=1, p=p, observed=data.pulled_left.values)\n",
    "\n",
    "    model_linear.name = 'simple linear'\n",
    "    model_linear.trace = pm.sample(5000, chains=2, tune=1000)\n"
   ]
  },
  {
   "cell_type": "code",
   "execution_count": 12,
   "metadata": {},
   "outputs": [
    {
     "data": {
      "image/png": "[encoded data removed]",
      "text/plain": [
       "<Figure size 432x288 with 1 Axes>"
      ]
     },
     "metadata": {
      "needs_background": "light"
     },
     "output_type": "display_data"
    }
   ],
   "source": [
    "pm.forestplot(model_linear.trace, varnames=['alpha', 'beta', ], rhat=False)\n",
    "None"
   ]
  },
  {
   "cell_type": "code",
   "execution_count": 13,
   "metadata": {},
   "outputs": [
    {
     "data": {
      "text/html": [
       "<div>\n",
       "<style scoped>\n",
       "    .dataframe tbody tr th:only-of-type {\n",
       "        vertical-align: middle;\n",
       "    }\n",
       "\n",
       "    .dataframe tbody tr th {\n",
       "        vertical-align: top;\n",
       "    }\n",
       "\n",
       "    .dataframe thead th {\n",
       "        text-align: right;\n",
       "    }\n",
       "</style>\n",
       "<table border=\"1\" class=\"dataframe\">\n",
       "  <thead>\n",
       "    <tr style=\"text-align: right;\">\n",
       "      <th></th>\n",
       "      <th>prosoc_left</th>\n",
       "      <th>mean_</th>\n",
       "      <th>lower</th>\n",
       "      <th>upper</th>\n",
       "    </tr>\n",
       "  </thead>\n",
       "  <tbody>\n",
       "    <tr>\n",
       "      <th>0</th>\n",
       "      <td>0</td>\n",
       "      <td>0.511945</td>\n",
       "      <td>0.448896</td>\n",
       "      <td>0.570680</td>\n",
       "    </tr>\n",
       "    <tr>\n",
       "      <th>1</th>\n",
       "      <td>1</td>\n",
       "      <td>0.647137</td>\n",
       "      <td>0.586931</td>\n",
       "      <td>0.705427</td>\n",
       "    </tr>\n",
       "  </tbody>\n",
       "</table>\n",
       "</div>"
      ],
      "text/plain": [
       "   prosoc_left     mean_     lower     upper\n",
       "0            0  0.511945  0.448896  0.570680\n",
       "1            1  0.647137  0.586931  0.705427"
      ]
     },
     "execution_count": 13,
     "metadata": {},
     "output_type": "execute_result"
    }
   ],
   "source": [
    "agg_prediction(model_linear.trace['p'], data, ['prosoc_left'], summarize())"
   ]
  },
  {
   "cell_type": "code",
   "execution_count": 14,
   "metadata": {},
   "outputs": [
    {
     "name": "stderr",
     "output_type": "stream",
     "text": [
      "Auto-assigning NUTS sampler...\n",
      "Initializing NUTS using jitter+adapt_diag...\n",
      "Multiprocess sampling (2 chains in 2 jobs)\n",
      "NUTS: [beta_c, beta_p, alpha]\n",
      "Sampling 2 chains: 100%|██████████| 12000/12000 [00:18<00:00, 645.49draws/s]\n"
     ]
    }
   ],
   "source": [
    "with pm.Model() as model_inter:\n",
    "    alpha = pm.Normal('alpha', mu=0, sd=10)\n",
    "\n",
    "    beta_p = pm.Normal('beta_p', mu=0, sd=10)\n",
    "    beta_c = pm.Normal('beta_c', mu=0, sd=10)\n",
    "\n",
    "    _logit_p = alpha + (beta_p + beta_c * data.condition.values) * data.prosoc_left.values\n",
    "    \n",
    "    p = pm.Deterministic('p', pm.math.invlogit(_logit_p))\n",
    "\n",
    "    l = pm.Binomial('l', n=1, p=p,\n",
    "                    observed=data.pulled_left.values)\n",
    "\n",
    "    model_inter.name = 'interaction'\n",
    "    model_inter.trace = pm.sample(5000, tune=1000, chains=2)\n"
   ]
  },
  {
   "cell_type": "code",
   "execution_count": 15,
   "metadata": {},
   "outputs": [
    {
     "data": {
      "image/png": "[encoded data removed]",
      "text/plain": [
       "<Figure size 432x288 with 1 Axes>"
      ]
     },
     "metadata": {
      "needs_background": "light"
     },
     "output_type": "display_data"
    }
   ],
   "source": [
    "pm.forestplot(model_inter.trace, varnames=['alpha', 'beta_p', 'beta_c'], rhat=False)\n",
    "None"
   ]
  },
  {
   "cell_type": "code",
   "execution_count": 16,
   "metadata": {},
   "outputs": [
    {
     "data": {
      "text/html": [
       "<div>\n",
       "<style scoped>\n",
       "    .dataframe tbody tr th:only-of-type {\n",
       "        vertical-align: middle;\n",
       "    }\n",
       "\n",
       "    .dataframe tbody tr th {\n",
       "        vertical-align: top;\n",
       "    }\n",
       "\n",
       "    .dataframe thead th {\n",
       "        text-align: right;\n",
       "    }\n",
       "</style>\n",
       "<table border=\"1\" class=\"dataframe\">\n",
       "  <thead>\n",
       "    <tr style=\"text-align: right;\">\n",
       "      <th></th>\n",
       "      <th>prosoc_left</th>\n",
       "      <th>condition</th>\n",
       "      <th>mean_</th>\n",
       "      <th>lower</th>\n",
       "      <th>upper</th>\n",
       "    </tr>\n",
       "  </thead>\n",
       "  <tbody>\n",
       "    <tr>\n",
       "      <th>0</th>\n",
       "      <td>0</td>\n",
       "      <td>0</td>\n",
       "      <td>0.511650</td>\n",
       "      <td>0.450456</td>\n",
       "      <td>0.573982</td>\n",
       "    </tr>\n",
       "    <tr>\n",
       "      <th>1</th>\n",
       "      <td>0</td>\n",
       "      <td>1</td>\n",
       "      <td>0.511650</td>\n",
       "      <td>0.450456</td>\n",
       "      <td>0.573982</td>\n",
       "    </tr>\n",
       "    <tr>\n",
       "      <th>2</th>\n",
       "      <td>1</td>\n",
       "      <td>0</td>\n",
       "      <td>0.658862</td>\n",
       "      <td>0.577280</td>\n",
       "      <td>0.742455</td>\n",
       "    </tr>\n",
       "    <tr>\n",
       "      <th>3</th>\n",
       "      <td>1</td>\n",
       "      <td>1</td>\n",
       "      <td>0.634426</td>\n",
       "      <td>0.548173</td>\n",
       "      <td>0.715199</td>\n",
       "    </tr>\n",
       "  </tbody>\n",
       "</table>\n",
       "</div>"
      ],
      "text/plain": [
       "   prosoc_left  condition     mean_     lower     upper\n",
       "0            0          0  0.511650  0.450456  0.573982\n",
       "1            0          1  0.511650  0.450456  0.573982\n",
       "2            1          0  0.658862  0.577280  0.742455\n",
       "3            1          1  0.634426  0.548173  0.715199"
      ]
     },
     "execution_count": 16,
     "metadata": {},
     "output_type": "execute_result"
    }
   ],
   "source": [
    "agg_prediction(model_inter.trace['p'], data, ['prosoc_left', 'condition'], summarize())"
   ]
  },
  {
   "cell_type": "code",
   "execution_count": 17,
   "metadata": {},
   "outputs": [
    {
     "data": {
      "text/html": [
       "<div>\n",
       "<style scoped>\n",
       "    .dataframe tbody tr th:only-of-type {\n",
       "        vertical-align: middle;\n",
       "    }\n",
       "\n",
       "    .dataframe tbody tr th {\n",
       "        vertical-align: top;\n",
       "    }\n",
       "\n",
       "    .dataframe thead th {\n",
       "        text-align: right;\n",
       "    }\n",
       "</style>\n",
       "<table border=\"1\" class=\"dataframe\">\n",
       "  <thead>\n",
       "    <tr style=\"text-align: right;\">\n",
       "      <th></th>\n",
       "      <th>WAIC</th>\n",
       "      <th>pWAIC</th>\n",
       "      <th>dWAIC</th>\n",
       "      <th>weight</th>\n",
       "      <th>SE</th>\n",
       "      <th>dSE</th>\n",
       "      <th>var_warn</th>\n",
       "    </tr>\n",
       "  </thead>\n",
       "  <tbody>\n",
       "    <tr>\n",
       "      <th>simple linear</th>\n",
       "      <td>680.6</td>\n",
       "      <td>2.05</td>\n",
       "      <td>0</td>\n",
       "      <td>0.6</td>\n",
       "      <td>9.27</td>\n",
       "      <td>0</td>\n",
       "      <td>0</td>\n",
       "    </tr>\n",
       "    <tr>\n",
       "      <th>interaction</th>\n",
       "      <td>682.42</td>\n",
       "      <td>3.04</td>\n",
       "      <td>1.83</td>\n",
       "      <td>0.26</td>\n",
       "      <td>9.36</td>\n",
       "      <td>0.83</td>\n",
       "      <td>0</td>\n",
       "    </tr>\n",
       "    <tr>\n",
       "      <th>intercept only</th>\n",
       "      <td>687.91</td>\n",
       "      <td>0.98</td>\n",
       "      <td>7.31</td>\n",
       "      <td>0.14</td>\n",
       "      <td>7.09</td>\n",
       "      <td>6.18</td>\n",
       "      <td>0</td>\n",
       "    </tr>\n",
       "  </tbody>\n",
       "</table>\n",
       "</div>"
      ],
      "text/plain": [
       "                  WAIC pWAIC dWAIC weight    SE   dSE var_warn\n",
       "simple linear    680.6  2.05     0    0.6  9.27     0        0\n",
       "interaction     682.42  3.04  1.83   0.26  9.36  0.83        0\n",
       "intercept only  687.91  0.98  7.31   0.14  7.09  6.18        0"
      ]
     },
     "execution_count": 17,
     "metadata": {},
     "output_type": "execute_result"
    }
   ],
   "source": [
    "comparison = pm.compare({\n",
    "        model_intercept: model_intercept.trace,\n",
    "        model_linear: model_linear.trace,\n",
    "        model_inter: model_inter.trace,\n",
    "    },\n",
    "    method='BB-pseudo-BMA'\n",
    ")\n",
    "\n",
    "comparison"
   ]
  },
  {
   "cell_type": "code",
   "execution_count": 18,
   "metadata": {},
   "outputs": [
    {
     "data": {
      "text/plain": [
       "simple linear     10000\n",
       "interaction        4333\n",
       "intercept only     2333\n",
       "Name: weight, dtype: int64"
      ]
     },
     "execution_count": 18,
     "metadata": {},
     "output_type": "execute_result"
    }
   ],
   "source": [
    "nsamples = (comparison.weight / comparison.weight.max() * 10000).astype('int')\n",
    "nsamples"
   ]
  },
  {
   "cell_type": "code",
   "execution_count": 19,
   "metadata": {},
   "outputs": [
    {
     "data": {
      "text/html": [
       "<div>\n",
       "<style scoped>\n",
       "    .dataframe tbody tr th:only-of-type {\n",
       "        vertical-align: middle;\n",
       "    }\n",
       "\n",
       "    .dataframe tbody tr th {\n",
       "        vertical-align: top;\n",
       "    }\n",
       "\n",
       "    .dataframe thead th {\n",
       "        text-align: right;\n",
       "    }\n",
       "</style>\n",
       "<table border=\"1\" class=\"dataframe\">\n",
       "  <thead>\n",
       "    <tr style=\"text-align: right;\">\n",
       "      <th></th>\n",
       "      <th>condition</th>\n",
       "      <th>prosoc_left</th>\n",
       "      <th>mean_</th>\n",
       "      <th>lower</th>\n",
       "      <th>upper</th>\n",
       "    </tr>\n",
       "  </thead>\n",
       "  <tbody>\n",
       "    <tr>\n",
       "      <th>0</th>\n",
       "      <td>0</td>\n",
       "      <td>0</td>\n",
       "      <td>0.511754</td>\n",
       "      <td>0.447731</td>\n",
       "      <td>0.570046</td>\n",
       "    </tr>\n",
       "    <tr>\n",
       "      <th>1</th>\n",
       "      <td>0</td>\n",
       "      <td>1</td>\n",
       "      <td>0.650608</td>\n",
       "      <td>0.581372</td>\n",
       "      <td>0.719332</td>\n",
       "    </tr>\n",
       "    <tr>\n",
       "      <th>2</th>\n",
       "      <td>1</td>\n",
       "      <td>0</td>\n",
       "      <td>0.511666</td>\n",
       "      <td>0.448182</td>\n",
       "      <td>0.570006</td>\n",
       "    </tr>\n",
       "    <tr>\n",
       "      <th>3</th>\n",
       "      <td>1</td>\n",
       "      <td>1</td>\n",
       "      <td>0.643255</td>\n",
       "      <td>0.570054</td>\n",
       "      <td>0.708814</td>\n",
       "    </tr>\n",
       "  </tbody>\n",
       "</table>\n",
       "</div>"
      ],
      "text/plain": [
       "   condition  prosoc_left     mean_     lower     upper\n",
       "0          0            0  0.511754  0.447731  0.570046\n",
       "1          0            1  0.650608  0.581372  0.719332\n",
       "2          1            0  0.511666  0.448182  0.570006\n",
       "3          1            1  0.643255  0.570054  0.708814"
      ]
     },
     "execution_count": 19,
     "metadata": {},
     "output_type": "execute_result"
    }
   ],
   "source": [
    "mix = pd.concat(\n",
    "    [pd.DataFrame(model_linear.trace['p']).sample(nsamples['simple linear']),\n",
    "     pd.DataFrame(model_intercept.trace['p']).sample(nsamples['intercept only']),\n",
    "     pd.DataFrame(model_inter.trace['p']).sample(nsamples['interaction'])],\n",
    "    ignore_index=True\n",
    ")\n",
    "\n",
    "mix = agg_prediction(mix, data, ['condition', 'prosoc_left'], summarize())\n",
    "mix"
   ]
  },
  {
   "cell_type": "markdown",
   "metadata": {},
   "source": [
    "**individual variation**"
   ]
  },
  {
   "cell_type": "code",
   "execution_count": 20,
   "metadata": {},
   "outputs": [
    {
     "data": {
      "text/plain": [
       "array([1, 2, 3, 4, 5, 6, 7])"
      ]
     },
     "execution_count": 20,
     "metadata": {},
     "output_type": "execute_result"
    }
   ],
   "source": [
    "data.actor.unique()"
   ]
  },
  {
   "cell_type": "code",
   "execution_count": 21,
   "metadata": {},
   "outputs": [
    {
     "name": "stderr",
     "output_type": "stream",
     "text": [
      "Auto-assigning NUTS sampler...\n",
      "Initializing NUTS using jitter+adapt_diag...\n",
      "Multiprocess sampling (2 chains in 2 jobs)\n",
      "NUTS: [beta_c, beta_p, alpha]\n",
      "Sampling 2 chains: 100%|██████████| 12000/12000 [00:57<00:00, 209.61draws/s]\n",
      "There were 34 divergences after tuning. Increase `target_accept` or reparameterize.\n",
      "There were 38 divergences after tuning. Increase `target_accept` or reparameterize.\n"
     ]
    }
   ],
   "source": [
    "with pm.Model() as model_indiv:\n",
    "    alpha = pm.Normal('alpha', mu=0, sd=10, shape=data.actor.nunique())\n",
    "\n",
    "    beta_p = pm.Normal('beta_p', mu=0, sd=10)\n",
    "    beta_c = pm.Normal('beta_c', mu=0, sd=10)\n",
    "\n",
    "    alpha_i = alpha[data.actor.values - 1]\n",
    "    logit_p = alpha_i + (beta_p + beta_c * data.condition.values) * data.prosoc_left.values\n",
    "\n",
    "    p = pm.Deterministic('p', pm.math.invlogit(logit_p))\n",
    "    l = pm.Binomial('l', n=1, p=p, observed=data.pulled_left.values)\n",
    "    \n",
    "    model_indiv.name = 'individual'\n",
    "    model_indiv.trace = pm.sample(5000, tune=1000, chains=2)"
   ]
  },
  {
   "cell_type": "code",
   "execution_count": 22,
   "metadata": {},
   "outputs": [
    {
     "data": {
      "text/html": [
       "<div>\n",
       "<style scoped>\n",
       "    .dataframe tbody tr th:only-of-type {\n",
       "        vertical-align: middle;\n",
       "    }\n",
       "\n",
       "    .dataframe tbody tr th {\n",
       "        vertical-align: top;\n",
       "    }\n",
       "\n",
       "    .dataframe thead th {\n",
       "        text-align: right;\n",
       "    }\n",
       "</style>\n",
       "<table border=\"1\" class=\"dataframe\">\n",
       "  <thead>\n",
       "    <tr style=\"text-align: right;\">\n",
       "      <th></th>\n",
       "      <th>WAIC</th>\n",
       "      <th>pWAIC</th>\n",
       "      <th>dWAIC</th>\n",
       "      <th>weight</th>\n",
       "      <th>SE</th>\n",
       "      <th>dSE</th>\n",
       "      <th>var_warn</th>\n",
       "    </tr>\n",
       "  </thead>\n",
       "  <tbody>\n",
       "    <tr>\n",
       "      <th>individual</th>\n",
       "      <td>529.75</td>\n",
       "      <td>8.27</td>\n",
       "      <td>0</td>\n",
       "      <td>1</td>\n",
       "      <td>19.57</td>\n",
       "      <td>0</td>\n",
       "      <td>0</td>\n",
       "    </tr>\n",
       "    <tr>\n",
       "      <th>simple linear</th>\n",
       "      <td>680.6</td>\n",
       "      <td>2.05</td>\n",
       "      <td>150.84</td>\n",
       "      <td>0</td>\n",
       "      <td>8.98</td>\n",
       "      <td>19.19</td>\n",
       "      <td>0</td>\n",
       "    </tr>\n",
       "    <tr>\n",
       "      <th>interaction</th>\n",
       "      <td>682.42</td>\n",
       "      <td>3.04</td>\n",
       "      <td>152.67</td>\n",
       "      <td>0</td>\n",
       "      <td>9.05</td>\n",
       "      <td>19.13</td>\n",
       "      <td>0</td>\n",
       "    </tr>\n",
       "    <tr>\n",
       "      <th>intercept only</th>\n",
       "      <td>687.91</td>\n",
       "      <td>0.98</td>\n",
       "      <td>158.15</td>\n",
       "      <td>0</td>\n",
       "      <td>6.97</td>\n",
       "      <td>19.89</td>\n",
       "      <td>0</td>\n",
       "    </tr>\n",
       "  </tbody>\n",
       "</table>\n",
       "</div>"
      ],
      "text/plain": [
       "                  WAIC pWAIC   dWAIC weight     SE    dSE var_warn\n",
       "individual      529.75  8.27       0      1  19.57      0        0\n",
       "simple linear    680.6  2.05  150.84      0   8.98  19.19        0\n",
       "interaction     682.42  3.04  152.67      0   9.05  19.13        0\n",
       "intercept only  687.91  0.98  158.15      0   6.97  19.89        0"
      ]
     },
     "execution_count": 22,
     "metadata": {},
     "output_type": "execute_result"
    }
   ],
   "source": [
    "comparison = pm.compare({\n",
    "    model_intercept: model_intercept.trace,\n",
    "    model_linear: model_linear.trace,\n",
    "    model_inter: model_inter.trace,\n",
    "    model_indiv: model_indiv.trace,\n",
    "}, method='BB-pseudo-BMA')\n",
    "\n",
    "comparison"
   ]
  },
  {
   "cell_type": "code",
   "execution_count": 24,
   "metadata": {},
   "outputs": [
    {
     "data": {
      "image/png": "[encoded data removed]",
      "text/plain": [
       "<Figure size 432x288 with 1 Axes>"
      ]
     },
     "metadata": {
      "needs_background": "light"
     },
     "output_type": "display_data"
    }
   ],
   "source": [
    "pm.forestplot(model_indiv.trace, varnames=['alpha', 'beta_p', 'beta_c'], rhat=False)\n",
    "None"
   ]
  },
  {
   "cell_type": "markdown",
   "metadata": {},
   "source": [
    "**aggregated data source**"
   ]
  },
  {
   "cell_type": "code",
   "execution_count": 25,
   "metadata": {},
   "outputs": [
    {
     "data": {
      "text/html": [
       "<div>\n",
       "<style scoped>\n",
       "    .dataframe tbody tr th:only-of-type {\n",
       "        vertical-align: middle;\n",
       "    }\n",
       "\n",
       "    .dataframe tbody tr th {\n",
       "        vertical-align: top;\n",
       "    }\n",
       "\n",
       "    .dataframe thead th {\n",
       "        text-align: right;\n",
       "    }\n",
       "</style>\n",
       "<table border=\"1\" class=\"dataframe\">\n",
       "  <thead>\n",
       "    <tr style=\"text-align: right;\">\n",
       "      <th></th>\n",
       "      <th>prosoc_left</th>\n",
       "      <th>condition</th>\n",
       "      <th>actor</th>\n",
       "      <th>count_</th>\n",
       "      <th>sum_</th>\n",
       "    </tr>\n",
       "  </thead>\n",
       "  <tbody>\n",
       "    <tr>\n",
       "      <th>27</th>\n",
       "      <td>1</td>\n",
       "      <td>1</td>\n",
       "      <td>7</td>\n",
       "      <td>18</td>\n",
       "      <td>18</td>\n",
       "    </tr>\n",
       "    <tr>\n",
       "      <th>13</th>\n",
       "      <td>0</td>\n",
       "      <td>1</td>\n",
       "      <td>7</td>\n",
       "      <td>18</td>\n",
       "      <td>17</td>\n",
       "    </tr>\n",
       "    <tr>\n",
       "      <th>23</th>\n",
       "      <td>1</td>\n",
       "      <td>1</td>\n",
       "      <td>3</td>\n",
       "      <td>18</td>\n",
       "      <td>6</td>\n",
       "    </tr>\n",
       "    <tr>\n",
       "      <th>8</th>\n",
       "      <td>0</td>\n",
       "      <td>1</td>\n",
       "      <td>2</td>\n",
       "      <td>18</td>\n",
       "      <td>18</td>\n",
       "    </tr>\n",
       "    <tr>\n",
       "      <th>17</th>\n",
       "      <td>1</td>\n",
       "      <td>0</td>\n",
       "      <td>4</td>\n",
       "      <td>18</td>\n",
       "      <td>9</td>\n",
       "    </tr>\n",
       "  </tbody>\n",
       "</table>\n",
       "</div>"
      ],
      "text/plain": [
       "    prosoc_left  condition  actor  count_  sum_\n",
       "27            1          1      7      18    18\n",
       "13            0          1      7      18    17\n",
       "23            1          1      3      18     6\n",
       "8             0          1      2      18    18\n",
       "17            1          0      4      18     9"
      ]
     },
     "execution_count": 25,
     "metadata": {},
     "output_type": "execute_result"
    }
   ],
   "source": [
    "data_agg = (\n",
    "    data\n",
    "    .groupby(['prosoc_left', 'condition', 'actor'])\n",
    "    .pulled_left.apply(lambda ser: pd.Series({\n",
    "            'count_': ser.shape[0],\n",
    "            'sum_': ser.sum(),\n",
    "        })\n",
    "    )\n",
    "    .unstack().reset_index()\n",
    ")\n",
    "\n",
    "data_agg.sample(5)"
   ]
  },
  {
   "cell_type": "code",
   "execution_count": 26,
   "metadata": {},
   "outputs": [
    {
     "name": "stderr",
     "output_type": "stream",
     "text": [
      "Auto-assigning NUTS sampler...\n",
      "Initializing NUTS using jitter+adapt_diag...\n",
      "Multiprocess sampling (2 chains in 2 jobs)\n",
      "NUTS: [beta_c, beta_p, alpha]\n",
      "Sampling 2 chains: 100%|██████████| 12000/12000 [00:41<00:00, 292.09draws/s]\n",
      "There were 11 divergences after tuning. Increase `target_accept` or reparameterize.\n",
      "There were 66 divergences after tuning. Increase `target_accept` or reparameterize.\n"
     ]
    }
   ],
   "source": [
    "with pm.Model() as model_agg_indiv:\n",
    "    alpha = pm.Normal('alpha', mu=0, sd=10, shape=data_agg.actor.nunique())\n",
    "    \n",
    "    beta_p = pm.Normal('beta_p', mu=0, sd=10)\n",
    "    beta_c = pm.Normal('beta_c', mu=0, sd=10)\n",
    "\n",
    "    alpha_i = alpha[data_agg.actor.values - 1]\n",
    "    logit_p = alpha_i + (beta_p + beta_c * data_agg.condition.values) * data_agg.prosoc_left.values\n",
    "\n",
    "    p = pm.Deterministic('p', pm.math.invlogit(logit_p))\n",
    "\n",
    "    l = pm.Binomial('l', p=p, n=data_agg.count_.values,\n",
    "                    observed=data_agg.sum_.values)\n",
    "\n",
    "    model_agg_indiv.name = 'agg individual'\n",
    "    model_agg_indiv.trace = pm.sample(5000, chains=2, tune=1000)\n"
   ]
  },
  {
   "cell_type": "code",
   "execution_count": 27,
   "metadata": {},
   "outputs": [
    {
     "data": {
      "image/png": "[encoded data removed]",
      "text/plain": [
       "<Figure size 432x288 with 1 Axes>"
      ]
     },
     "metadata": {
      "needs_background": "light"
     },
     "output_type": "display_data"
    }
   ],
   "source": [
    "pm.forestplot(model_agg_indiv.trace, varnames=['alpha', 'beta_p', 'beta_c'], rhat=False)\n",
    "None"
   ]
  },
  {
   "cell_type": "markdown",
   "metadata": {},
   "source": [
    "**regularization**"
   ]
  },
  {
   "cell_type": "code",
   "execution_count": 30,
   "metadata": {},
   "outputs": [
    {
     "name": "stderr",
     "output_type": "stream",
     "text": [
      "Auto-assigning NUTS sampler...\n",
      "Initializing NUTS using jitter+adapt_diag...\n",
      "Multiprocess sampling (2 chains in 2 jobs)\n",
      "NUTS: [beta_c, beta_p, alpha]\n",
      "Sampling 2 chains: 100%|██████████| 2000/2000 [00:05<00:00, 367.72draws/s]\n"
     ]
    }
   ],
   "source": [
    "with pm.Model() as model_no_infer:\n",
    "    alpha = pm.Normal('alpha', mu=0, sd=1.5, shape=data_agg.actor.nunique())\n",
    "\n",
    "    beta_p = pm.Normal('beta_p', mu=0, sd=1)\n",
    "    beta_c = pm.Normal('beta_c', mu=0, sd=1)\n",
    "\n",
    "    alpha_i = alpha[data_agg.actor.values - 1]\n",
    "    logit_p = alpha_i + (beta_p + beta_c * data_agg.condition.values) * data_agg.prosoc_left.values\n",
    "\n",
    "    p = pm.Deterministic('p', pm.math.invlogit(logit_p))\n",
    "\n",
    "    trace = pm.sample(500, chains=2)\n"
   ]
  },
  {
   "cell_type": "code",
   "execution_count": 31,
   "metadata": {},
   "outputs": [
    {
     "data": {
      "image/png": "[encoded data removed]",
      "text/plain": [
       "<Figure size 432x288 with 1 Axes>"
      ]
     },
     "metadata": {
      "needs_background": "light"
     },
     "output_type": "display_data"
    }
   ],
   "source": [
    "pd.DataFrame(trace['p']).stack().plot.hist(density=True, bins=30)\n",
    "None"
   ]
  },
  {
   "cell_type": "code",
   "execution_count": 32,
   "metadata": {},
   "outputs": [
    {
     "name": "stderr",
     "output_type": "stream",
     "text": [
      "Auto-assigning NUTS sampler...\n",
      "Initializing NUTS using jitter+adapt_diag...\n",
      "Multiprocess sampling (2 chains in 2 jobs)\n",
      "NUTS: [beta_c, beta_p, alpha]\n",
      "Sampling 2 chains: 100%|██████████| 12000/12000 [00:20<00:00, 581.04draws/s]\n"
     ]
    }
   ],
   "source": [
    "with pm.Model() as model_regul:\n",
    "    alpha = pm.Normal('alpha', mu=0, sd=1.5, shape=data_agg.actor.nunique())\n",
    "\n",
    "    beta_p = pm.Normal('beta_p', mu=0, sd=1)\n",
    "    beta_c = pm.Normal('beta_c', mu=0, sd=1)\n",
    "\n",
    "    alpha_i = alpha[data_agg.actor.values - 1]\n",
    "    logit_p = alpha_i + (beta_p + beta_c * data_agg.condition.values) * data_agg.prosoc_left.values\n",
    "\n",
    "    p = pm.Deterministic('p', pm.math.invlogit(logit_p))\n",
    "\n",
    "    l = pm.Binomial('l', p=p, n=data_agg.count_.values,\n",
    "                    observed=data_agg.sum_.values)\n",
    "\n",
    "    model_regul.name = 'regularized'\n",
    "    model_regul.trace = pm.sample(5000, tune=1000, chains=2)\n"
   ]
  },
  {
   "cell_type": "code",
   "execution_count": 33,
   "metadata": {},
   "outputs": [
    {
     "data": {
      "image/png": "[encoded data removed]",
      "text/plain": [
       "<Figure size 432x288 with 1 Axes>"
      ]
     },
     "metadata": {
      "needs_background": "light"
     },
     "output_type": "display_data"
    }
   ],
   "source": [
    "pm.forestplot(model_regul.trace, varnames=['alpha', 'beta_p', 'beta_c'], rhat=False)\n",
    "None"
   ]
  },
  {
   "cell_type": "code",
   "execution_count": 34,
   "metadata": {},
   "outputs": [
    {
     "name": "stderr",
     "output_type": "stream",
     "text": [
      "/home/petrushev/etc/jup_env/lib/python3.7/site-packages/pymc3/stats.py:218: UserWarning: For one or more samples the posterior variance of the\n",
      "        log predictive densities exceeds 0.4. This could be indication of\n",
      "        WAIC starting to fail see http://arxiv.org/abs/1507.04544 for details\n",
      "        \n",
      "  \"\"\")\n"
     ]
    },
    {
     "data": {
      "text/html": [
       "<div>\n",
       "<style scoped>\n",
       "    .dataframe tbody tr th:only-of-type {\n",
       "        vertical-align: middle;\n",
       "    }\n",
       "\n",
       "    .dataframe tbody tr th {\n",
       "        vertical-align: top;\n",
       "    }\n",
       "\n",
       "    .dataframe thead th {\n",
       "        text-align: right;\n",
       "    }\n",
       "</style>\n",
       "<table border=\"1\" class=\"dataframe\">\n",
       "  <thead>\n",
       "    <tr style=\"text-align: right;\">\n",
       "      <th></th>\n",
       "      <th>WAIC</th>\n",
       "      <th>pWAIC</th>\n",
       "      <th>dWAIC</th>\n",
       "      <th>weight</th>\n",
       "      <th>SE</th>\n",
       "      <th>dSE</th>\n",
       "      <th>var_warn</th>\n",
       "    </tr>\n",
       "  </thead>\n",
       "  <tbody>\n",
       "    <tr>\n",
       "      <th>agg individual</th>\n",
       "      <td>110.49</td>\n",
       "      <td>7.57</td>\n",
       "      <td>0</td>\n",
       "      <td>0.74</td>\n",
       "      <td>10.17</td>\n",
       "      <td>0</td>\n",
       "      <td>1</td>\n",
       "    </tr>\n",
       "    <tr>\n",
       "      <th>regularized</th>\n",
       "      <td>113.11</td>\n",
       "      <td>7.44</td>\n",
       "      <td>2.62</td>\n",
       "      <td>0.26</td>\n",
       "      <td>8.58</td>\n",
       "      <td>2.21</td>\n",
       "      <td>1</td>\n",
       "    </tr>\n",
       "  </tbody>\n",
       "</table>\n",
       "</div>"
      ],
      "text/plain": [
       "                  WAIC pWAIC dWAIC weight     SE   dSE var_warn\n",
       "agg individual  110.49  7.57     0   0.74  10.17     0        1\n",
       "regularized     113.11  7.44  2.62   0.26   8.58  2.21        1"
      ]
     },
     "execution_count": 34,
     "metadata": {},
     "output_type": "execute_result"
    }
   ],
   "source": [
    "pm.compare({\n",
    "        model_agg_indiv: model_agg_indiv.trace,\n",
    "        model_regul: model_regul.trace,\n",
    "    }, \n",
    "    method='BB-pseudo-BMA'\n",
    ")"
   ]
  }
 ],
 "metadata": {
  "kernelspec": {
   "display_name": "Python 3",
   "language": "python",
   "name": "python3"
  },
  "language_info": {
   "codemirror_mode": {
    "name": "ipython",
    "version": 3
   },
   "file_extension": ".py",
   "mimetype": "text/x-python",
   "name": "python",
   "nbconvert_exporter": "python",
   "pygments_lexer": "ipython3",
   "version": "3.7.3"
  },
  "toc": {
   "base_numbering": 1,
   "nav_menu": {
    "height": "133px",
    "width": "160px"
   },
   "number_sections": true,
   "sideBar": true,
   "skip_h1_title": false,
   "title_cell": "Table of Contents",
   "title_sidebar": "Contents",
   "toc_cell": false,
   "toc_position": {},
   "toc_section_display": true,
   "toc_window_display": false
  },
  "varInspector": {
   "cols": {
    "lenName": 16,
    "lenType": 16,
    "lenVar": 40
   },
   "kernels_config": {
    "python": {
     "delete_cmd_postfix": "",
     "delete_cmd_prefix": "del ",
     "library": "var_list.py",
     "varRefreshCmd": "print(var_dic_list())"
    },
    "r": {
     "delete_cmd_postfix": ") ",
     "delete_cmd_prefix": "rm(",
     "library": "var_list.r",
     "varRefreshCmd": "cat(var_dic_list()) "
    }
   },
   "types_to_exclude": [
    "module",
    "function",
    "builtin_function_or_method",
    "instance",
    "_Feature"
   ],
   "window_display": false
  }
 },
 "nbformat": 4,
 "nbformat_minor": 2
}
