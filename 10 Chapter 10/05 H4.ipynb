{
 "cells": [
  {
   "cell_type": "code",
   "execution_count": 1,
   "metadata": {},
   "outputs": [],
   "source": [
    "%matplotlib inline\n",
    "\n",
    "import pandas as pd\n",
    "import pymc3 as pm\n",
    "import matplotlib.pyplot as plt\n",
    "from scipy import stats\n",
    "import numpy as np\n",
    "\n",
    "plt.style.use('seaborn-whitegrid')"
   ]
  },
  {
   "cell_type": "code",
   "execution_count": 2,
   "metadata": {},
   "outputs": [],
   "source": [
    "def summarize(alpha=0.05):\n",
    "\n",
    "    def _summarize(ser):\n",
    "        hpd_ = pm.hpd(ser, alpha=alpha)\n",
    "        return pd.Series({\n",
    "            'mean_': ser.mean(),\n",
    "            'lower': hpd_[0],\n",
    "            'upper': hpd_[1],\n",
    "        })\n",
    "\n",
    "    return _summarize\n",
    "\n",
    "\n",
    "def agg_prediction(trace_var, source_data, group_columns, aggregate_fc):\n",
    "    df = pd.DataFrame(trace_var).stack().reset_index()\n",
    "    merged = pd.merge(\n",
    "        df, source_data,\n",
    "        left_on='level_1', right_index=True\n",
    "    )\n",
    "\n",
    "    return (\n",
    "        merged.groupby(group_columns)[0].apply(aggregate_fc)\n",
    "        .unstack().sort_index().reset_index()\n",
    "    )\n"
   ]
  },
  {
   "cell_type": "markdown",
   "metadata": {},
   "source": [
    "**10H4** The data contained in `data(salamanders)` are counts of salamanders (*Plethodon elongatus*) from 47 different 49-m2 plots in northern California.146 The column `salamanders` is the count in each plot, and the columns `coverage` and `forest_age` are percent of ground cover and age of trees in the plot, respectively. You will model `salamanders` as a Poisson variable.\n"
   ]
  },
  {
   "cell_type": "code",
   "execution_count": 3,
   "metadata": {},
   "outputs": [
    {
     "data": {
      "text/html": [
       "<div>\n",
       "<style scoped>\n",
       "    .dataframe tbody tr th:only-of-type {\n",
       "        vertical-align: middle;\n",
       "    }\n",
       "\n",
       "    .dataframe tbody tr th {\n",
       "        vertical-align: top;\n",
       "    }\n",
       "\n",
       "    .dataframe thead th {\n",
       "        text-align: right;\n",
       "    }\n",
       "</style>\n",
       "<table border=\"1\" class=\"dataframe\">\n",
       "  <thead>\n",
       "    <tr style=\"text-align: right;\">\n",
       "      <th></th>\n",
       "      <th>site</th>\n",
       "      <th>salamanders</th>\n",
       "      <th>coverage</th>\n",
       "      <th>forest_age</th>\n",
       "    </tr>\n",
       "  </thead>\n",
       "  <tbody>\n",
       "    <tr>\n",
       "      <th>45</th>\n",
       "      <td>46</td>\n",
       "      <td>0</td>\n",
       "      <td>89</td>\n",
       "      <td>60</td>\n",
       "    </tr>\n",
       "    <tr>\n",
       "      <th>0</th>\n",
       "      <td>1</td>\n",
       "      <td>13</td>\n",
       "      <td>85</td>\n",
       "      <td>316</td>\n",
       "    </tr>\n",
       "    <tr>\n",
       "      <th>27</th>\n",
       "      <td>28</td>\n",
       "      <td>1</td>\n",
       "      <td>88</td>\n",
       "      <td>105</td>\n",
       "    </tr>\n",
       "    <tr>\n",
       "      <th>32</th>\n",
       "      <td>33</td>\n",
       "      <td>0</td>\n",
       "      <td>5</td>\n",
       "      <td>2</td>\n",
       "    </tr>\n",
       "    <tr>\n",
       "      <th>33</th>\n",
       "      <td>34</td>\n",
       "      <td>0</td>\n",
       "      <td>8</td>\n",
       "      <td>10</td>\n",
       "    </tr>\n",
       "  </tbody>\n",
       "</table>\n",
       "</div>"
      ],
      "text/plain": [
       "    site  salamanders  coverage  forest_age\n",
       "45    46            0        89          60\n",
       "0      1           13        85         316\n",
       "27    28            1        88         105\n",
       "32    33            0         5           2\n",
       "33    34            0         8          10"
      ]
     },
     "execution_count": 3,
     "metadata": {},
     "output_type": "execute_result"
    }
   ],
   "source": [
    "data = pd.read_csv('../data/salamanders.csv', sep=';')\n",
    "data.columns = ['site', 'salamanders', 'coverage', 'forest_age']\n",
    "data.sample(5)"
   ]
  },
  {
   "cell_type": "markdown",
   "metadata": {},
   "source": [
    "(a) Model the relationship between density and percent cover, using a log-link (same as the example in the book and lecture). Use weakly informative priors of your choosing. Plot the expected counts and their 89% interval against percent cover. In which ways does the model do a good job? In which ways does it do a bad job?\n"
   ]
  },
  {
   "cell_type": "code",
   "execution_count": 18,
   "metadata": {},
   "outputs": [],
   "source": [
    "test = pd.DataFrame(\n",
    "    [[coverage, forest_age]\n",
    "     for coverage in range(0, 100, 3)\n",
    "     for forest_age in np.linspace(data.forest_age.min(), data.forest_age.max(), 30)],\n",
    "    columns=['coverage', 'forest_age']\n",
    ")"
   ]
  },
  {
   "cell_type": "code",
   "execution_count": 20,
   "metadata": {},
   "outputs": [
    {
     "name": "stderr",
     "output_type": "stream",
     "text": [
      "Auto-assigning NUTS sampler...\n",
      "Initializing NUTS using jitter+adapt_diag...\n",
      "Multiprocess sampling (2 chains in 2 jobs)\n",
      "NUTS: [beta, alpha]\n",
      "Sampling 2 chains: 100%|██████████| 14000/14000 [00:18<00:00, 767.27draws/s]\n",
      "The number of effective samples is smaller than 25% for some parameters.\n"
     ]
    }
   ],
   "source": [
    "with pm.Model() as model_cover:\n",
    "    alpha = pm.Normal('alpha', mu=0, sd=2)\n",
    "    beta = pm.Normal('beta', mu=0, sd=2)\n",
    "\n",
    "    mean_ = np.log1p(data.salamanders.values).mean()\n",
    "    \n",
    "    def get_lambda(df):\n",
    "        log_lambda = mean_ + alpha + beta * (df.coverage.values / 100)\n",
    "        return pm.math.exp(log_lambda)\n",
    "\n",
    "    lam = pm.Deterministic('lam', get_lambda(data))\n",
    "    \n",
    "    salamanders = pm.Poisson('salamanders', mu=lam,\n",
    "                             observed=data.salamanders.values)\n",
    "\n",
    "    lam_test = pm.Deterministic('lam_test', get_lambda(test))\n",
    "    \n",
    "    model_cover.name = 'coverage'\n",
    "    model_cover.trace = pm.sample(5000, tune=2000, chains=2)\n",
    "    "
   ]
  },
  {
   "cell_type": "code",
   "execution_count": 21,
   "metadata": {},
   "outputs": [
    {
     "data": {
      "image/png": "[encoded data removed]",
      "text/plain": [
       "<Figure size 432x288 with 1 Axes>"
      ]
     },
     "metadata": {
      "needs_background": "light"
     },
     "output_type": "display_data"
    }
   ],
   "source": [
    "pm.forestplot(model_cover.trace, varnames=['alpha', 'beta'], rhat=False)\n",
    "None"
   ]
  },
  {
   "cell_type": "code",
   "execution_count": 26,
   "metadata": {},
   "outputs": [
    {
     "data": {
      "image/png": "[encoded data removed]",
      "text/plain": [
       "<Figure size 640x400 with 1 Axes>"
      ]
     },
     "metadata": {
      "needs_background": "light"
     },
     "output_type": "display_data"
    }
   ],
   "source": [
    "tmp = agg_prediction(model_cover.trace['lam_test'], test, ['coverage'], summarize(.11))\n",
    "\n",
    "fig, ax = plt.subplots(1, 1, figsize=(8, 5), dpi=80)\n",
    "\n",
    "ax.scatter(data.coverage, data.salamanders, marker='.',\n",
    "           label='observed')\n",
    "ax.plot(tmp.coverage, tmp.mean_, color='r', label='predicted')\n",
    "ax.fill_between(tmp.coverage, tmp.lower, tmp.upper,\n",
    "               alpha=.2, color='r')\n",
    "ax.legend()\n",
    "ax.set(xlabel='coverage (%)', ylabel='salamander count')\n",
    "None"
   ]
  },
  {
   "cell_type": "markdown",
   "metadata": {},
   "source": [
    "(b) Can you improve the model by using the other predictor, `forest_age`? Try any models you think useful. Can you explain why `forest_age` helps or does not help with prediction?"
   ]
  },
  {
   "cell_type": "code",
   "execution_count": 41,
   "metadata": {},
   "outputs": [
    {
     "name": "stderr",
     "output_type": "stream",
     "text": [
      "Auto-assigning NUTS sampler...\n",
      "Initializing NUTS using jitter+adapt_diag...\n",
      "Multiprocess sampling (2 chains in 2 jobs)\n",
      "NUTS: [beta_f, beta, alpha]\n",
      "Sampling 2 chains: 100%|██████████| 15000/15000 [00:32<00:00, 464.11draws/s]\n",
      "The acceptance probability does not match the target. It is 0.879987611071589, but should be close to 0.8. Try to increase the number of tuning steps.\n"
     ]
    }
   ],
   "source": [
    "with pm.Model() as model_cover_forest:\n",
    "    alpha = pm.Normal('alpha', mu=0, sd=2)\n",
    "    beta = pm.Normal('beta', mu=0, sd=2)\n",
    "    beta_f = pm.Normal('beta_f', mu=0, sd=2)\n",
    "\n",
    "    mean_ = np.log1p(data.salamanders.values).mean()\n",
    "    \n",
    "    def get_lambda(df):\n",
    "        log_lambda = (\n",
    "            mean_\n",
    "            + alpha\n",
    "            + (beta + beta_f * (df.forest_age.values / df.forest_age.max()))\n",
    "                * (df.coverage.values / 100)\n",
    "        )\n",
    "\n",
    "        return pm.math.exp(log_lambda)\n",
    "    \n",
    "    lam = pm.Deterministic('lam', get_lambda(data))\n",
    "    \n",
    "    salamanders = pm.Poisson(\n",
    "        'salamanders',\n",
    "        mu=lam,\n",
    "        observed=data.salamanders.values\n",
    "    )\n",
    "\n",
    "    lam_test = pm.Deterministic('lam_test', get_lambda(test))\n",
    "    \n",
    "    model_cover_forest.name = 'coverage & forest'\n",
    "    model_cover_forest.trace = pm.sample(5000, tune=2500, chains=2)\n"
   ]
  },
  {
   "cell_type": "code",
   "execution_count": 42,
   "metadata": {},
   "outputs": [
    {
     "data": {
      "image/png": "[encoded data removed]",
      "text/plain": [
       "<Figure size 432x288 with 1 Axes>"
      ]
     },
     "metadata": {
      "needs_background": "light"
     },
     "output_type": "display_data"
    }
   ],
   "source": [
    "pm.forestplot(model_cover_forest.trace, varnames=['alpha', 'beta', 'beta_f'], rhat=False)\n",
    "None"
   ]
  },
  {
   "cell_type": "code",
   "execution_count": 43,
   "metadata": {},
   "outputs": [
    {
     "data": {
      "image/png": "[encoded data removed]",
      "text/plain": [
       "<Figure size 1040x400 with 2 Axes>"
      ]
     },
     "metadata": {
      "needs_background": "light"
     },
     "output_type": "display_data"
    }
   ],
   "source": [
    "fig, (ax1, ax2) = plt.subplots(1, 2, figsize=(13, 5), dpi=80)\n",
    "\n",
    "tmp = agg_prediction(model_cover_forest.trace['lam_test'], test,\n",
    "                     ['coverage'], summarize(.11))\n",
    "\n",
    "ax1.scatter(data.coverage, data.salamanders, marker='.',\n",
    "           label='observed')\n",
    "ax1.plot(tmp.coverage, tmp.mean_, color='r', label='predicted')\n",
    "ax1.fill_between(tmp.coverage, tmp.lower, tmp.upper,\n",
    "               alpha=.2, color='r')\n",
    "ax1.legend()\n",
    "ax1.set(xlabel='coverage (%)', ylabel='salamander count')\n",
    "\n",
    "\n",
    "tmp = agg_prediction(model_cover_forest.trace['lam_test'], test,\n",
    "                     ['forest_age'], summarize(.11))\n",
    "\n",
    "ax2.scatter(data.forest_age, data.salamanders, marker='.',\n",
    "           label='observed')\n",
    "ax2.plot(tmp.forest_age, tmp.mean_, color='r', label='predicted')\n",
    "ax2.fill_between(tmp.forest_age, tmp.lower, tmp.upper,\n",
    "               alpha=.2, color='r')\n",
    "ax2.legend()\n",
    "ax2.set(xlabel='forest age', ylabel='salamander count')\n",
    "\n",
    "None"
   ]
  },
  {
   "cell_type": "code",
   "execution_count": 44,
   "metadata": {},
   "outputs": [
    {
     "name": "stderr",
     "output_type": "stream",
     "text": [
      "/home/petrushev/etc/jup_env/lib/python3.7/site-packages/pymc3/stats.py:218: UserWarning: For one or more samples the posterior variance of the\n",
      "        log predictive densities exceeds 0.4. This could be indication of\n",
      "        WAIC starting to fail see http://arxiv.org/abs/1507.04544 for details\n",
      "        \n",
      "  \"\"\")\n",
      "/home/petrushev/etc/jup_env/lib/python3.7/site-packages/pymc3/stats.py:218: UserWarning: For one or more samples the posterior variance of the\n",
      "        log predictive densities exceeds 0.4. This could be indication of\n",
      "        WAIC starting to fail see http://arxiv.org/abs/1507.04544 for details\n",
      "        \n",
      "  \"\"\")\n"
     ]
    },
    {
     "data": {
      "text/html": [
       "<div>\n",
       "<style scoped>\n",
       "    .dataframe tbody tr th:only-of-type {\n",
       "        vertical-align: middle;\n",
       "    }\n",
       "\n",
       "    .dataframe tbody tr th {\n",
       "        vertical-align: top;\n",
       "    }\n",
       "\n",
       "    .dataframe thead th {\n",
       "        text-align: right;\n",
       "    }\n",
       "</style>\n",
       "<table border=\"1\" class=\"dataframe\">\n",
       "  <thead>\n",
       "    <tr style=\"text-align: right;\">\n",
       "      <th></th>\n",
       "      <th>WAIC</th>\n",
       "      <th>pWAIC</th>\n",
       "      <th>dWAIC</th>\n",
       "      <th>weight</th>\n",
       "      <th>SE</th>\n",
       "      <th>dSE</th>\n",
       "      <th>var_warn</th>\n",
       "    </tr>\n",
       "  </thead>\n",
       "  <tbody>\n",
       "    <tr>\n",
       "      <th>coverage</th>\n",
       "      <td>213.19</td>\n",
       "      <td>4.5</td>\n",
       "      <td>0</td>\n",
       "      <td>0.87</td>\n",
       "      <td>25.31</td>\n",
       "      <td>0</td>\n",
       "      <td>1</td>\n",
       "    </tr>\n",
       "    <tr>\n",
       "      <th>coverage &amp; forest</th>\n",
       "      <td>217.24</td>\n",
       "      <td>7.18</td>\n",
       "      <td>4.05</td>\n",
       "      <td>0.13</td>\n",
       "      <td>25.92</td>\n",
       "      <td>1.34</td>\n",
       "      <td>1</td>\n",
       "    </tr>\n",
       "  </tbody>\n",
       "</table>\n",
       "</div>"
      ],
      "text/plain": [
       "                     WAIC pWAIC dWAIC weight     SE   dSE var_warn\n",
       "coverage           213.19   4.5     0   0.87  25.31     0        1\n",
       "coverage & forest  217.24  7.18  4.05   0.13  25.92  1.34        1"
      ]
     },
     "execution_count": 44,
     "metadata": {},
     "output_type": "execute_result"
    }
   ],
   "source": [
    "comparison = pm.compare({\n",
    "        model_cover: model_cover.trace,\n",
    "        model_cover_forest: model_cover_forest.trace,\n",
    "    },\n",
    "    method='BB-pseudo-BMA'\n",
    ")\n",
    "\n",
    "comparison"
   ]
  }
 ],
 "metadata": {
  "kernelspec": {
   "display_name": "Python 3",
   "language": "python",
   "name": "python3"
  },
  "language_info": {
   "codemirror_mode": {
    "name": "ipython",
    "version": 3
   },
   "file_extension": ".py",
   "mimetype": "text/x-python",
   "name": "python",
   "nbconvert_exporter": "python",
   "pygments_lexer": "ipython3",
   "version": "3.7.3"
  },
  "toc": {
   "base_numbering": 1,
   "nav_menu": {},
   "number_sections": true,
   "sideBar": true,
   "skip_h1_title": false,
   "title_cell": "Table of Contents",
   "title_sidebar": "Contents",
   "toc_cell": false,
   "toc_position": {},
   "toc_section_display": true,
   "toc_window_display": false
  },
  "varInspector": {
   "cols": {
    "lenName": 16,
    "lenType": 16,
    "lenVar": 40
   },
   "kernels_config": {
    "python": {
     "delete_cmd_postfix": "",
     "delete_cmd_prefix": "del ",
     "library": "var_list.py",
     "varRefreshCmd": "print(var_dic_list())"
    },
    "r": {
     "delete_cmd_postfix": ") ",
     "delete_cmd_prefix": "rm(",
     "library": "var_list.r",
     "varRefreshCmd": "cat(var_dic_list()) "
    }
   },
   "types_to_exclude": [
    "module",
    "function",
    "builtin_function_or_method",
    "instance",
    "_Feature"
   ],
   "window_display": false
  }
 },
 "nbformat": 4,
 "nbformat_minor": 2
}
