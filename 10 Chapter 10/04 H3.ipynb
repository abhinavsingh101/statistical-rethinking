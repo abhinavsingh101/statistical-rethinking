{
 "cells": [
  {
   "cell_type": "code",
   "execution_count": 1,
   "metadata": {},
   "outputs": [],
   "source": [
    "%matplotlib inline\n",
    "\n",
    "import pandas as pd\n",
    "import pymc3 as pm\n",
    "import matplotlib.pyplot as plt\n",
    "from scipy import stats\n",
    "import numpy as np\n",
    "\n",
    "plt.style.use('seaborn-whitegrid')"
   ]
  },
  {
   "cell_type": "code",
   "execution_count": 2,
   "metadata": {},
   "outputs": [],
   "source": [
    "def summarize(alpha=0.05):\n",
    "\n",
    "    def _summarize(ser):\n",
    "        hpd_ = pm.hpd(ser, alpha=alpha)\n",
    "        return pd.Series({\n",
    "            'mean_': ser.mean(),\n",
    "            'lower': hpd_[0],\n",
    "            'upper': hpd_[1],\n",
    "        })\n",
    "\n",
    "    return _summarize\n",
    "\n",
    "\n",
    "def agg_prediction(trace_var, source_data, group_columns, aggregate_fc):\n",
    "    df = pd.DataFrame(trace_var).stack().reset_index()\n",
    "    merged = pd.merge(\n",
    "        df, source_data,\n",
    "        left_on='level_1', right_index=True\n",
    "    )\n",
    "\n",
    "    return (\n",
    "        merged.groupby(group_columns)[0].apply(aggregate_fc)\n",
    "        .unstack().sort_index().reset_index()\n",
    "    )\n"
   ]
  },
  {
   "cell_type": "code",
   "execution_count": 3,
   "metadata": {},
   "outputs": [
    {
     "data": {
      "text/html": [
       "<div>\n",
       "<style scoped>\n",
       "    .dataframe tbody tr th:only-of-type {\n",
       "        vertical-align: middle;\n",
       "    }\n",
       "\n",
       "    .dataframe tbody tr th {\n",
       "        vertical-align: top;\n",
       "    }\n",
       "\n",
       "    .dataframe thead th {\n",
       "        text-align: right;\n",
       "    }\n",
       "</style>\n",
       "<table border=\"1\" class=\"dataframe\">\n",
       "  <thead>\n",
       "    <tr style=\"text-align: right;\">\n",
       "      <th></th>\n",
       "      <th>y</th>\n",
       "      <th>n</th>\n",
       "      <th>P</th>\n",
       "      <th>A</th>\n",
       "      <th>V</th>\n",
       "      <th>pirate_large</th>\n",
       "      <th>pirate_adult</th>\n",
       "      <th>victim_large</th>\n",
       "      <th>ratio</th>\n",
       "    </tr>\n",
       "  </thead>\n",
       "  <tbody>\n",
       "    <tr>\n",
       "      <th>0</th>\n",
       "      <td>17</td>\n",
       "      <td>24</td>\n",
       "      <td>L</td>\n",
       "      <td>A</td>\n",
       "      <td>L</td>\n",
       "      <td>1</td>\n",
       "      <td>1</td>\n",
       "      <td>1</td>\n",
       "      <td>0.708333</td>\n",
       "    </tr>\n",
       "    <tr>\n",
       "      <th>1</th>\n",
       "      <td>29</td>\n",
       "      <td>29</td>\n",
       "      <td>L</td>\n",
       "      <td>A</td>\n",
       "      <td>S</td>\n",
       "      <td>1</td>\n",
       "      <td>1</td>\n",
       "      <td>0</td>\n",
       "      <td>1.000000</td>\n",
       "    </tr>\n",
       "    <tr>\n",
       "      <th>2</th>\n",
       "      <td>17</td>\n",
       "      <td>27</td>\n",
       "      <td>L</td>\n",
       "      <td>I</td>\n",
       "      <td>L</td>\n",
       "      <td>1</td>\n",
       "      <td>0</td>\n",
       "      <td>1</td>\n",
       "      <td>0.629630</td>\n",
       "    </tr>\n",
       "    <tr>\n",
       "      <th>3</th>\n",
       "      <td>20</td>\n",
       "      <td>20</td>\n",
       "      <td>L</td>\n",
       "      <td>I</td>\n",
       "      <td>S</td>\n",
       "      <td>1</td>\n",
       "      <td>0</td>\n",
       "      <td>0</td>\n",
       "      <td>1.000000</td>\n",
       "    </tr>\n",
       "    <tr>\n",
       "      <th>4</th>\n",
       "      <td>1</td>\n",
       "      <td>12</td>\n",
       "      <td>S</td>\n",
       "      <td>A</td>\n",
       "      <td>L</td>\n",
       "      <td>0</td>\n",
       "      <td>1</td>\n",
       "      <td>1</td>\n",
       "      <td>0.083333</td>\n",
       "    </tr>\n",
       "    <tr>\n",
       "      <th>5</th>\n",
       "      <td>15</td>\n",
       "      <td>16</td>\n",
       "      <td>S</td>\n",
       "      <td>A</td>\n",
       "      <td>S</td>\n",
       "      <td>0</td>\n",
       "      <td>1</td>\n",
       "      <td>0</td>\n",
       "      <td>0.937500</td>\n",
       "    </tr>\n",
       "    <tr>\n",
       "      <th>6</th>\n",
       "      <td>0</td>\n",
       "      <td>28</td>\n",
       "      <td>S</td>\n",
       "      <td>I</td>\n",
       "      <td>L</td>\n",
       "      <td>0</td>\n",
       "      <td>0</td>\n",
       "      <td>1</td>\n",
       "      <td>0.000000</td>\n",
       "    </tr>\n",
       "    <tr>\n",
       "      <th>7</th>\n",
       "      <td>1</td>\n",
       "      <td>4</td>\n",
       "      <td>S</td>\n",
       "      <td>I</td>\n",
       "      <td>S</td>\n",
       "      <td>0</td>\n",
       "      <td>0</td>\n",
       "      <td>0</td>\n",
       "      <td>0.250000</td>\n",
       "    </tr>\n",
       "  </tbody>\n",
       "</table>\n",
       "</div>"
      ],
      "text/plain": [
       "    y   n  P  A  V  pirate_large  pirate_adult  victim_large     ratio\n",
       "0  17  24  L  A  L             1             1             1  0.708333\n",
       "1  29  29  L  A  S             1             1             0  1.000000\n",
       "2  17  27  L  I  L             1             0             1  0.629630\n",
       "3  20  20  L  I  S             1             0             0  1.000000\n",
       "4   1  12  S  A  L             0             1             1  0.083333\n",
       "5  15  16  S  A  S             0             1             0  0.937500\n",
       "6   0  28  S  I  L             0             0             1  0.000000\n",
       "7   1   4  S  I  S             0             0             0  0.250000"
      ]
     },
     "execution_count": 3,
     "metadata": {},
     "output_type": "execute_result"
    }
   ],
   "source": [
    "data = pd.read_csv('../data/eagles.csv')\n",
    "\n",
    "data = data.assign(\n",
    "    pirate_large = (data.P == 'L').astype('int'),\n",
    "    pirate_adult = (data.A == 'A').astype('int'),\n",
    "    victim_large = (data.V == 'L').astype('int'),\n",
    "    ratio = data.y / data.n\n",
    ")\n",
    "\n",
    "data"
   ]
  },
  {
   "cell_type": "markdown",
   "metadata": {},
   "source": [
    "**H3** The data contained in `library(MASS);data(eagles)` are records of salmon pirating attempts by Bald Eagles in Washington State. While one eagle feeds, sometimes another will swoop in and try to steal the salmon from it. Call the feeding eagle the “victim” and the thief the “pirate.” Use the available data to build a binomial GLM of successful pirating attempts.\n",
    "\n",
    "(a) Consider the following model:\n",
    "\n",
    "```\n",
    "yi ∼ Binomial(ni , pi)\n",
    "pi\n",
    "log(pi/(1-pi) = α + βP Pi + βV Vi + βA Ai\n",
    "α ∼ Normal(0, 10)\n",
    "βP ∼ Normal(0, 5)\n",
    "βV ∼ Normal(0, 5)\n",
    "βA ∼ Normal(0, 5)\n",
    "```\n",
    "\n",
    "where `y` is the number of successful attempts, `n` is the total number of attempts, `P` is a dummy variable indicating whether or not the pirate had large body size, `V` is a dummy variable indicating whether or not the victim had large body size, and finally `A` is a dummy variable indicating whether or not the pirate was an adult. Fit the model above to the eagles data, using both `map` and `map2stan`. Is the quadratic approximation okay?\n"
   ]
  },
  {
   "cell_type": "code",
   "execution_count": 4,
   "metadata": {},
   "outputs": [
    {
     "name": "stderr",
     "output_type": "stream",
     "text": [
      "/home/petrushev/etc/jup_env/lib/python3.7/site-packages/pymc3/tuning/starting.py:61: UserWarning: find_MAP should not be used to initialize the NUTS sampler, simply call pymc3.sample() and it will automatically initialize NUTS in a better way.\n",
      "  warnings.warn('find_MAP should not be used to initialize the NUTS sampler, simply call pymc3.sample() and it will automatically initialize NUTS in a better way.')\n",
      "logp = -21.517, ||grad|| = 0.025703: 100%|██████████| 17/17 [00:00<00:00, 1027.65it/s]  \n",
      "Auto-assigning NUTS sampler...\n",
      "Initializing NUTS using jitter+adapt_diag...\n",
      "Multiprocess sampling (2 chains in 2 jobs)\n",
      "NUTS: [beta_a, beta_v, beta_p, alpha]\n",
      "Sampling 2 chains: 100%|██████████| 7000/7000 [00:12<00:00, 564.54draws/s]\n"
     ]
    }
   ],
   "source": [
    "with pm.Model() as model_h3_a:\n",
    "    alpha = pm.Normal('alpha', mu=0, sd=10)\n",
    "    beta_p = pm.Normal('beta_p', mu=0, sd=5)\n",
    "    beta_v = pm.Normal('beta_v', mu=0, sd=5)\n",
    "    beta_a = pm.Normal('beta_a', mu=0, sd=5)\n",
    "\n",
    "    p = pm.Deterministic(\n",
    "        'p',\n",
    "        pm.math.invlogit(\n",
    "            alpha\n",
    "            + beta_p * data.pirate_large\n",
    "            + beta_v * data.victim_large\n",
    "            + beta_a * data.pirate_adult\n",
    "        )\n",
    "    )\n",
    "\n",
    "    y = pm.Binomial('y', p=p, n=data.n, observed=data.y)\n",
    "\n",
    "    model_h3_a.name = 'h3.a'\n",
    "    model_h3_a.map_ = pm.find_MAP()\n",
    "    model_h3_a.trace = pm.sample(3000, tune=500, chains=2)"
   ]
  },
  {
   "cell_type": "code",
   "execution_count": 5,
   "metadata": {},
   "outputs": [
    {
     "data": {
      "text/plain": [
       "{'alpha': array(0.59154318),\n",
       " 'beta_p': array(4.24182384),\n",
       " 'beta_v': array(-4.59260843),\n",
       " 'beta_a': array(1.08141052),\n",
       " 'p': array([0.78954236, 0.99730801, 0.55990058, 0.99210318, 0.05119047,\n",
       "        0.84196923, 0.0179674 , 0.64371914])}"
      ]
     },
     "execution_count": 5,
     "metadata": {},
     "output_type": "execute_result"
    }
   ],
   "source": [
    "model_h3_ael_h3_a.map_"
   ]
  },
  {
   "cell_type": "code",
   "execution_count": 6,
   "metadata": {},
   "outputs": [
    {
     "data": {
      "image/png": "[encoded data removed]",
      "text/plain": [
       "<Figure size 432x288 with 1 Axes>"
      ]
     },
     "metadata": {
      "needs_background": "light"
     },
     "output_type": "display_data"
    }
   ],
   "source": [
    "pm.forestplot(model_h3_a.trace, varnames=['alpha', 'beta_p', 'beta_v', 'beta_a'], rhat=False)\n",
    "None"
   ]
  },
  {
   "cell_type": "markdown",
   "metadata": {},
   "source": [
    "(b) Now interpret the estimates. If the quadratic approximation turned out okay, then it’s okay to use the map estimates. Otherwise stick to map2stan estimates. Then plot the posterior predictions. Compute and display both (1) the predicted probability of success and its 89% interval for each row (i) in the data, as well as (2) the predicted success count and its 89% interval. What different information does each type of posterior prediction provide?\n",
    "\n"
   ]
  },
  {
   "cell_type": "code",
   "execution_count": 18,
   "metadata": {},
   "outputs": [
    {
     "name": "stderr",
     "output_type": "stream",
     "text": [
      "100%|██████████| 3000/3000 [00:01<00:00, 1596.60it/s]\n"
     ]
    }
   ],
   "source": [
    "with model_h3_a:\n",
    "    model_h3_a.ppc = pm.sample_posterior_predictive(\n",
    "        model_h3_a.trace, vars=[y], samples=3000)"
   ]
  },
  {
   "cell_type": "code",
   "execution_count": 28,
   "metadata": {},
   "outputs": [
    {
     "data": {
      "image/png": "[encoded data removed]",
      "text/plain": [
       "<Figure size 960x400 with 2 Axes>"
      ]
     },
     "metadata": {
      "needs_background": "light"
     },
     "output_type": "display_data"
    }
   ],
   "source": [
    "fig, (ax1, ax2) = plt.subplots(1, 2, figsize=(12, 5), dpi=80)\n",
    "\n",
    "tmp = agg_prediction(model_h3_a.trace['p'], data.reset_index(), ['index'], summarize(.11))\n",
    "\n",
    "ax1.scatter(data.index, data.ratio, marker='o', color='b', alpha=.5, label='observed')\n",
    "ax1.scatter(tmp['index'], tmp.mean_, marker='x', color='r', label='predicted')\n",
    "ax1.scatter(tmp['index'], tmp.upper, marker=6, color='r')\n",
    "ax1.scatter(tmp['index'], tmp.lower, marker=7, color='r')\n",
    "ax1.set(ylabel='success ratio')\n",
    "ax1.legend()\n",
    "\n",
    "tmp = agg_prediction(model_h3_a.ppc['y'], data.reset_index(), ['index'], summarize(.11))\n",
    "\n",
    "ax2.scatter(tmp['index'], tmp.upper, marker=6, color='r')\n",
    "ax2.scatter(tmp['index'], tmp.lower, marker=7, color='r')\n",
    "ax2.scatter(data.index, data.y, marker='o', color='b', alpha=.5)\n",
    "ax2.scatter(tmp['index'], tmp.mean_, marker='x', color='r')\n",
    "ax2.set(ylabel='success count')\n",
    "\n",
    "fig.tight_layout()\n",
    "None"
   ]
  },
  {
   "cell_type": "markdown",
   "metadata": {},
   "source": [
    "(c) Now try to improve the model. Consider an interaction between the pirate’s size and age (immature or adult). Compare this model to the previous one, using WAIC. Interpret."
   ]
  },
  {
   "cell_type": "code",
   "execution_count": 13,
   "metadata": {},
   "outputs": [
    {
     "name": "stderr",
     "output_type": "stream",
     "text": [
      "Auto-assigning NUTS sampler...\n",
      "Initializing NUTS using jitter+adapt_diag...\n",
      "Multiprocess sampling (2 chains in 2 jobs)\n",
      "NUTS: [beta_pa, beta_a, beta_v, beta_p, alpha]\n",
      "Sampling 2 chains: 100%|██████████| 16000/16000 [00:42<00:00, 377.45draws/s]\n"
     ]
    }
   ],
   "source": [
    "with pm.Model() as model_h3_c:\n",
    "    alpha = pm.Normal('alpha', mu=0, sd=10)\n",
    "    beta_p = pm.Normal('beta_p', mu=0, sd=5)\n",
    "    beta_v = pm.Normal('beta_v', mu=0, sd=5)\n",
    "    beta_a = pm.Normal('beta_a', mu=0, sd=5)\n",
    "    beta_pa = pm.Normal('beta_pa', mu=0, sd=5)\n",
    "\n",
    "    p = pm.Deterministic(\n",
    "        'p',\n",
    "        pm.math.invlogit(\n",
    "            alpha\n",
    "            + beta_p * data.pirate_large.values\n",
    "            + beta_v * data.victim_large.values\n",
    "            + beta_a * data.pirate_adult.values\n",
    "            + beta_pa * (data.pirate_large.values * data.pirate_adult.values)\n",
    "        )\n",
    "    )\n",
    "\n",
    "    y = pm.Binomial('y', p=p, n=data.n, observed=data.y)\n",
    "\n",
    "    model_h3_c.name = 'h3.c'\n",
    "    model_h3_c.trace = pm.sample(3000, tune=5000, chains=2)\n"
   ]
  },
  {
   "cell_type": "code",
   "execution_count": 29,
   "metadata": {},
   "outputs": [
    {
     "name": "stderr",
     "output_type": "stream",
     "text": [
      "/home/petrushev/etc/jup_env/lib/python3.7/site-packages/pymc3/stats.py:218: UserWarning: For one or more samples the posterior variance of the\n",
      "        log predictive densities exceeds 0.4. This could be indication of\n",
      "        WAIC starting to fail see http://arxiv.org/abs/1507.04544 for details\n",
      "        \n",
      "  \"\"\")\n"
     ]
    },
    {
     "data": {
      "text/html": [
       "<div>\n",
       "<style scoped>\n",
       "    .dataframe tbody tr th:only-of-type {\n",
       "        vertical-align: middle;\n",
       "    }\n",
       "\n",
       "    .dataframe tbody tr th {\n",
       "        vertical-align: top;\n",
       "    }\n",
       "\n",
       "    .dataframe thead th {\n",
       "        text-align: right;\n",
       "    }\n",
       "</style>\n",
       "<table border=\"1\" class=\"dataframe\">\n",
       "  <thead>\n",
       "    <tr style=\"text-align: right;\">\n",
       "      <th></th>\n",
       "      <th>WAIC</th>\n",
       "      <th>pWAIC</th>\n",
       "      <th>dWAIC</th>\n",
       "      <th>weight</th>\n",
       "      <th>SE</th>\n",
       "      <th>dSE</th>\n",
       "      <th>var_warn</th>\n",
       "    </tr>\n",
       "  </thead>\n",
       "  <tbody>\n",
       "    <tr>\n",
       "      <th>h3.c</th>\n",
       "      <td>20.86</td>\n",
       "      <td>2.13</td>\n",
       "      <td>0</td>\n",
       "      <td>0.98</td>\n",
       "      <td>5.31</td>\n",
       "      <td>0</td>\n",
       "      <td>1</td>\n",
       "    </tr>\n",
       "    <tr>\n",
       "      <th>h3.a</th>\n",
       "      <td>30.83</td>\n",
       "      <td>5.25</td>\n",
       "      <td>9.98</td>\n",
       "      <td>0.02</td>\n",
       "      <td>7.36</td>\n",
       "      <td>3.23</td>\n",
       "      <td>1</td>\n",
       "    </tr>\n",
       "  </tbody>\n",
       "</table>\n",
       "</div>"
      ],
      "text/plain": [
       "       WAIC pWAIC dWAIC weight    SE   dSE var_warn\n",
       "h3.c  20.86  2.13     0   0.98  5.31     0        1\n",
       "h3.a  30.83  5.25  9.98   0.02  7.36  3.23        1"
      ]
     },
     "execution_count": 29,
     "metadata": {},
     "output_type": "execute_result"
    }
   ],
   "source": [
    "comparison = pm.compare({\n",
    "        model_h3_a: model_h3_a.trace,\n",
    "        model_h3_c: model_h3_c.trace,\n",
    "    },\n",
    "    method='BB-pseudo-BMA'\n",
    ")\n",
    "\n",
    "comparison"
   ]
  },
  {
   "cell_type": "code",
   "execution_count": 35,
   "metadata": {},
   "outputs": [
    {
     "data": {
      "image/png": "[encoded data removed]",
      "text/plain": [
       "<Figure size 640x400 with 1 Axes>"
      ]
     },
     "metadata": {
      "needs_background": "light"
     },
     "output_type": "display_data"
    }
   ],
   "source": [
    "tmp = agg_prediction(model_h3_c.trace['p'], data.reset_index(), ['index'], summarize(.11))\n",
    "\n",
    "fig, ax1= plt.subplots(1, 1, figsize=(8, 5), dpi=80)\n",
    "\n",
    "ax1.scatter(data.index, data.ratio, marker='o', color='b', alpha=.5, label='observed')\n",
    "ax1.scatter(tmp['index'], tmp.mean_, marker='x', color='r', label='predicted')\n",
    "ax1.scatter(tmp['index'], tmp.upper, marker=6, color='r')\n",
    "ax1.scatter(tmp['index'], tmp.lower, marker=7, color='r')\n",
    "ax1.set(ylabel='success ratio')\n",
    "ax1.legend()\n",
    "\n",
    "None"
   ]
  },
  {
   "cell_type": "code",
   "execution_count": 36,
   "metadata": {},
   "outputs": [
    {
     "data": {
      "image/png": "[encoded data removed]",
      "text/plain": [
       "<Figure size 432x288 with 1 Axes>"
      ]
     },
     "metadata": {
      "needs_background": "light"
     },
     "output_type": "display_data"
    }
   ],
   "source": [
    "pm.forestplot(model_h3_c.trace, varnames=['alpha', 'beta_p', 'beta_v', 'beta_a', 'beta_pa'], rhat=False)\n",
    "None"
   ]
  }
 ],
 "metadata": {
  "kernelspec": {
   "display_name": "Python 3",
   "language": "python",
   "name": "python3"
  },
  "language_info": {
   "codemirror_mode": {
    "name": "ipython",
    "version": 3
   },
   "file_extension": ".py",
   "mimetype": "text/x-python",
   "name": "python",
   "nbconvert_exporter": "python",
   "pygments_lexer": "ipython3",
   "version": "3.7.3"
  },
  "toc": {
   "base_numbering": 1,
   "nav_menu": {},
   "number_sections": true,
   "sideBar": true,
   "skip_h1_title": false,
   "title_cell": "Table of Contents",
   "title_sidebar": "Contents",
   "toc_cell": false,
   "toc_position": {},
   "toc_section_display": true,
   "toc_window_display": false
  },
  "varInspector": {
   "cols": {
    "lenName": 16,
    "lenType": 16,
    "lenVar": 40
   },
   "kernels_config": {
    "python": {
     "delete_cmd_postfix": "",
     "delete_cmd_prefix": "del ",
     "library": "var_list.py",
     "varRefreshCmd": "print(var_dic_list())"
    },
    "r": {
     "delete_cmd_postfix": ") ",
     "delete_cmd_prefix": "rm(",
     "library": "var_list.r",
     "varRefreshCmd": "cat(var_dic_list()) "
    }
   },
   "types_to_exclude": [
    "module",
    "function",
    "builtin_function_or_method",
    "instance",
    "_Feature"
   ],
   "window_display": false
  }
 },
 "nbformat": 4,
 "nbformat_minor": 2
}
